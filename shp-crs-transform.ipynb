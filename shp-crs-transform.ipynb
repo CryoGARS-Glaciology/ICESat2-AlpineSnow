{
 "cells": [
  {
   "cell_type": "code",
   "execution_count": 1,
   "id": "db3f88d9-fd3e-4f87-be39-6001879c1e98",
   "metadata": {
    "tags": []
   },
   "outputs": [],
   "source": [
    "import pandas as pd\n",
    "import geopandas as gpd"
   ]
  },
  {
   "cell_type": "code",
   "execution_count": 3,
   "id": "7fe05a09-c5d4-4663-972a-9c3cdedb6e29",
   "metadata": {
    "tags": []
   },
   "outputs": [
    {
     "data": {
      "text/plain": [
       "True"
      ]
     },
     "execution_count": 3,
     "metadata": {},
     "output_type": "execute_result"
    }
   ],
   "source": [
    "# Specify region of interest shapefile\n",
    "shp = \"Sites/DCEW/ROIs/boundDCEW.shp\"\n",
    "shapefile = gpd.read_file(shp)\n",
    "# shapefile.to_file('DryCreek/boundDCEW/boundDCEW_WGS84.geojson', driver='GeoJSON')\n",
    "shapefile.crs is None"
   ]
  },
  {
   "cell_type": "code",
   "execution_count": 4,
   "id": "7d8228de-dcf8-45d1-8a69-0409411259da",
   "metadata": {},
   "outputs": [],
   "source": [
    "## if shapefile.crs is None is false check the crs\n",
    "shapefile.crs"
   ]
  },
  {
   "cell_type": "code",
   "execution_count": 5,
   "id": "16caa1fa-a720-4e95-be71-c5b995374cba",
   "metadata": {
    "tags": []
   },
   "outputs": [],
   "source": [
    "## if shapefile.crs is None is true run this section\n",
    "crs = 'epsg:8826' # set the starting datum using the epsg code\n",
    "icesat_crs = 4979 # epsg code for WGS84\n",
    "shapefile = shapefile.set_crs(crs)\n",
    "shapefile = shapefile.to_crs(icesat_crs) # transform to WGS84 \n",
    "shapefile.to_file('Sites/DCEW/ROIs/boundDCEW_WGS84.shp')"
   ]
  },
  {
   "cell_type": "code",
   "execution_count": null,
   "id": "5ff24503-6f60-4f8b-9eac-c7711f83887e",
   "metadata": {},
   "outputs": [],
   "source": []
  }
 ],
 "metadata": {
  "kernelspec": {
   "display_name": "Python 3 (ipykernel)",
   "language": "python",
   "name": "python3"
  },
  "language_info": {
   "codemirror_mode": {
    "name": "ipython",
    "version": 3
   },
   "file_extension": ".py",
   "mimetype": "text/x-python",
   "name": "python",
   "nbconvert_exporter": "python",
   "pygments_lexer": "ipython3",
   "version": "3.8.16"
  }
 },
 "nbformat": 4,
 "nbformat_minor": 5
}
