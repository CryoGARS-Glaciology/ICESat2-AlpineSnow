{
 "cells": [
  {
   "cell_type": "markdown",
   "id": "adec21b9",
   "metadata": {},
   "source": [
    "## ICESat-2 SlideRule Download\n",
    "\n",
    "This code is adapted from Sliderule Python example code. It is designed to calculate ATL06 elevations from ALT03 points and save those elevations as a CSV. \n",
    "\n",
    "Activate IS2alpinesnow enviroment to run\n",
    "\n",
    "Last updated by Karina Zikan September 2022"
   ]
  },
  {
   "cell_type": "code",
   "execution_count": null,
   "id": "2c4a16f4",
   "metadata": {},
   "outputs": [],
   "source": [
    "import sys\n",
    "import logging\n",
    "import concurrent.futures\n",
    "import time\n",
    "from datetime import datetime\n",
    "import pandas as pd\n",
    "import geopandas as gpd\n",
    "import matplotlib.pyplot as plt\n",
    "from pyproj import Transformer, CRS\n",
    "from shapely.geometry import Polygon, Point\n",
    "from sliderule import sliderule, icesat2, earthdata, h5"
   ]
  },
  {
   "cell_type": "markdown",
   "id": "9af7ad61",
   "metadata": {},
   "source": [
    "## SlideRule Configuration"
   ]
  },
  {
   "cell_type": "code",
   "execution_count": null,
   "id": "f01cf9d3",
   "metadata": {},
   "outputs": [],
   "source": [
    "# Configure ICESat-2 API\n",
    "icesat2.init(\"slideruleearth.io\", verbose=False)"
   ]
  },
  {
   "cell_type": "markdown",
   "id": "4da5abf9",
   "metadata": {},
   "source": [
    "## Specify Region of Interest"
   ]
  },
  {
   "cell_type": "markdown",
   "id": "df0dd474",
   "metadata": {},
   "source": [
    "#### 1. Make geojson from shapefile - if you have a geojson of the region skip to 2."
   ]
  },
  {
   "cell_type": "code",
   "execution_count": null,
   "id": "7be0c803",
   "metadata": {},
   "outputs": [],
   "source": [
    "# Specify region of interest shapefile\n",
    "shp = \"Sites/DCEW/ROIs/DCEW_border_WGS84.shp\"\n",
    "shapefile = gpd.read_file(shp)\n",
    "# shapefile.to_file('DryCreek/boundDCEW/boundDCEW_WGS84.geojson', driver='GeoJSON')\n",
    "shapefile.crs is None"
   ]
  },
  {
   "cell_type": "markdown",
   "id": "298868e1-e137-4b7c-8f37-01e82e31c177",
   "metadata": {},
   "source": [
    "##### - Check shapefile crs"
   ]
  },
  {
   "cell_type": "code",
   "execution_count": null,
   "id": "8f89519c",
   "metadata": {},
   "outputs": [],
   "source": [
    "## if shapefile.crs is None is false check the crs\n",
    "shapefile.crs"
   ]
  },
  {
   "cell_type": "markdown",
   "id": "f3ffb8cd-befd-4ba4-995f-c7d3b50c8722",
   "metadata": {},
   "source": [
    "##### - Make Geojson"
   ]
  },
  {
   "cell_type": "code",
   "execution_count": null,
   "id": "ab072225-32ae-449d-a141-8d6b7109d26c",
   "metadata": {},
   "outputs": [],
   "source": [
    "shapefile.to_file('Sites/DCEW/ROIs/DCEW_border_WGS84.geojson', driver='GeoJSON')"
   ]
  },
  {
   "cell_type": "code",
   "execution_count": null,
   "id": "ee133c67",
   "metadata": {},
   "outputs": [],
   "source": [
    "## if shapefile.crs is None is true run this section\n",
    "#crs = 'epsg:8826' # set the starting datum using the epsg code\n",
    "#icesat_crs = 4979 # epsg code for WGS84\n",
    "#shapefile = shapefile.set_crs(crs)\n",
    "#shapefile = shapefile.to_crs(icesat_crs) # transform to WGS84 \n",
    "#shapefile.to_file('/Mores/MCSboundary/MoresBound_WGS84.geojson', driver='GeoJSON')"
   ]
  },
  {
   "cell_type": "code",
   "execution_count": null,
   "id": "9f0fd1bc",
   "metadata": {},
   "outputs": [],
   "source": [
    "## if shapefile.crs is not WGS84 run this section\n",
    "#icesat_crs = 4979 # epsg code for WGS84\n",
    "#shapefile = shapefile.to_crs(icesat_crs) # transform to WGS84 \n",
    "#shapefile.to_file('/Mores/MCSboundary/MoresBound_WGS84.geojson', driver='GeoJSON')"
   ]
  },
  {
   "cell_type": "markdown",
   "id": "b245490e",
   "metadata": {},
   "source": [
    "#### 2. Read in geojson for Region of Interest"
   ]
  },
  {
   "cell_type": "code",
   "execution_count": null,
   "id": "d1897d7a",
   "metadata": {},
   "outputs": [],
   "source": [
    "# Specify region of interest from geojson\n",
    "poly_fn = 'Sites/DCEW/ROIs/DCEW_border_WGS84.geojson'\n",
    "region = icesat2.toregion(poly_fn)[\"poly\"] # symplify \n",
    "region"
   ]
  },
  {
   "cell_type": "code",
   "execution_count": null,
   "id": "7e03aa49",
   "metadata": {},
   "outputs": [],
   "source": [
    "# Prepare coordinate lists for plotting the region of interest polygon\n",
    "region_lon = [e[\"lon\"] for e in region]\n",
    "region_lat = [e[\"lat\"] for e in region]"
   ]
  },
  {
   "cell_type": "code",
   "execution_count": null,
   "id": "b7e4515b",
   "metadata": {},
   "outputs": [],
   "source": [
    "# Read geojson with geopandas\n",
    "pregion = gpd.read_file(poly_fn)\n",
    "map = pregion.plot(); # plot origonal boundery \n",
    "map.plot(region_lon, region_lat, linewidth=1, color='g'); # plot symplified region boundery for a sanity check"
   ]
  },
  {
   "cell_type": "markdown",
   "id": "ef0c01fb",
   "metadata": {},
   "source": [
    "#### 3. Save simplified polygon"
   ]
  },
  {
   "cell_type": "code",
   "execution_count": null,
   "id": "838867a1",
   "metadata": {},
   "outputs": [],
   "source": [
    "polygon_geom = Polygon(zip(region_lon, region_lat))\n",
    "crs = 'epsg:4979'\n",
    "polygon = gpd.GeoDataFrame(index=[0], geometry=[polygon_geom])       \n",
    "\n",
    "polygon"
   ]
  },
  {
   "cell_type": "code",
   "execution_count": null,
   "id": "3cb564bd",
   "metadata": {},
   "outputs": [],
   "source": [
    "polygon.to_file('DryCreek/boundDCEW/boundDCEW_WGS84_simple.geojson', driver='GeoJSON')"
   ]
  },
  {
   "cell_type": "markdown",
   "id": "50f97261",
   "metadata": {},
   "source": [
    "## Specify parameters for ATL06-SR (Sliderule) processing"
   ]
  },
  {
   "cell_type": "code",
   "execution_count": null,
   "id": "31c5d508",
   "metadata": {},
   "outputs": [],
   "source": [
    "# Build ATL06 Request #if remove \"atl08_class\", change icesat2.CNF_BACKGROUND to icesat2.CNF_SURFACE_HIGH\n",
    "parms = {\n",
    "    \"poly\": region,\n",
    "    \"srt\": icesat2.SRT_LAND,\n",
    "    \"atl08_class\": \"atl08_ground\",\n",
    "    \"cnf\": icesat2.CNF_BACKGROUND, \n",
    "    \"ats\": 20.0,\n",
    "    \"cnt\": 10,\n",
    "    \"len\": 40.0,\n",
    "    \"res\": 20.0,\n",
    "    \"maxi\": 6\n",
    "}\n",
    "#    \"atl08_class\": \"atl08_ground\",\n",
    "#    \"cnf\": icesat2.CNF_BACKGROUND,\n",
    "\n",
    "#    \"cnf\": icesat2.CNF_SURFACE_HIGH,\n",
    "\n",
    "cvs_name = \"Mores/MC-ICESat2-ATL06sr-atl08class.csv\" #set name of the output"
   ]
  },
  {
   "cell_type": "markdown",
   "id": "358b4437",
   "metadata": {},
   "source": [
    "## Calculate ATL06-SR Elevations from ATL03 Photons using SlideRule"
   ]
  },
  {
   "cell_type": "code",
   "execution_count": null,
   "id": "aa64d478",
   "metadata": {},
   "outputs": [],
   "source": [
    "# Latch Start Time\n",
    "perf_start = time.perf_counter()\n",
    "\n",
    "# Request ATL06 Data\n",
    "atl06_sr = icesat2.atl06p(parms)\n",
    "\n",
    "# Latch Stop Time\n",
    "perf_stop = time.perf_counter()\n",
    "\n",
    "# Display Statistics\n",
    "perf_duration = perf_stop - perf_start\n",
    "print(\"Completed in {:.3f} seconds of wall-clock time\".format(perf_duration))\n",
    "#print(\"Reference Ground Tracks: {}\".format(atl06_sr[\"rgt\"].unique()))\n",
    "#print(\"Cycles: {}\".format(atl06_sr[\"cycle\"].unique()))\n",
    "print(\"Received {} elevations\".format(atl06_sr.shape[0]))"
   ]
  },
  {
   "cell_type": "markdown",
   "id": "c7c141ca",
   "metadata": {},
   "source": [
    "## Plot ATL06-SR Results"
   ]
  },
  {
   "cell_type": "code",
   "execution_count": null,
   "id": "6800cb28",
   "metadata": {},
   "outputs": [],
   "source": [
    "f, ax = plt.subplots()\n",
    "ax.set_title(\"ATL06-SR Points\")\n",
    "ax.set_aspect('equal')\n",
    "atl06_sr.plot(ax=ax, column='h_mean', cmap='inferno', s=0.1)\n",
    "ax.plot(region_lon, region_lat, linewidth=1, color='g');"
   ]
  },
  {
   "cell_type": "code",
   "execution_count": null,
   "id": "b633ec89",
   "metadata": {},
   "outputs": [],
   "source": [
    "#Set utmzone code - utm zone 11:32611\n",
    "utm_code = 'epsg:32611'\n",
    "\n",
    "atl06_sr['Longitude'] = atl06_sr['geometry'].x\n",
    "atl06_sr['Latitude'] = atl06_sr['geometry'].y\n",
    "eastnorths = atl06_sr['geometry'].to_crs(utm_code)\n",
    "atl06_sr['Easting'] = eastnorths.x\n",
    "atl06_sr['Northing'] = eastnorths.y\n",
    "atl06_sr"
   ]
  },
  {
   "cell_type": "markdown",
   "id": "1a407769",
   "metadata": {},
   "source": [
    "## Write CSV"
   ]
  },
  {
   "cell_type": "code",
   "execution_count": null,
   "id": "729f0e80",
   "metadata": {},
   "outputs": [],
   "source": [
    "atl06_sr.to_csv(cvs_name)"
   ]
  }
 ],
 "metadata": {
  "kernelspec": {
   "display_name": "Python 3 (ipykernel)",
   "language": "python",
   "name": "python3"
  },
  "language_info": {
   "codemirror_mode": {
    "name": "ipython",
    "version": 3
   },
   "file_extension": ".py",
   "mimetype": "text/x-python",
   "name": "python",
   "nbconvert_exporter": "python",
   "pygments_lexer": "ipython3",
   "version": "3.11.3"
  }
 },
 "nbformat": 4,
 "nbformat_minor": 5
}
