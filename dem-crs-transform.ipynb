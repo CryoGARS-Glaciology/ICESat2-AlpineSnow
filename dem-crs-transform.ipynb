{
 "cells": [
  {
   "cell_type": "code",
   "execution_count": 1,
   "id": "74edceb4-edeb-43ed-bd41-f820f5a75ec4",
   "metadata": {},
   "outputs": [],
   "source": [
    "from osgeo import gdal as gdal"
   ]
  },
  {
   "cell_type": "code",
   "execution_count": 2,
   "id": "89477398-a5d5-4600-849f-9b24f81544ef",
   "metadata": {},
   "outputs": [
    {
     "name": "stderr",
     "output_type": "stream",
     "text": [
      "/Users/karinazikan/opt/anaconda3/envs/xdem-dev/lib/python3.11/site-packages/osgeo/gdal.py:287: FutureWarning: Neither gdal.UseExceptions() nor gdal.DontUseExceptions() has been explicitly called. In GDAL 4.0, exceptions will be enabled by default.\n",
      "  warnings.warn(\n"
     ]
    },
    {
     "data": {
      "text/plain": [
       "<osgeo.gdal.Dataset; proxy of <Swig Object of type 'GDALDatasetShadow *' at 0x108d9e2e0> >"
      ]
     },
     "execution_count": 2,
     "metadata": {},
     "output_type": "execute_result"
    }
   ],
   "source": [
    "# Check you can find the file\n",
    "file = \"Sites/MCS/DEMs/MCS_REFDEM_WGS84.tif\"\n",
    "gdal.Open(file)"
   ]
  },
  {
   "cell_type": "code",
   "execution_count": 3,
   "id": "5c74f1eb-1fc7-4780-a4cd-423ed747a25d",
   "metadata": {},
   "outputs": [
    {
     "name": "stdout",
     "output_type": "stream",
     "text": [
      "\n",
      "EPSG:32611\n",
      "\n",
      "PROJ.4 : +proj=utm +zone=11 +datum=WGS84 +units=m +no_defs\n",
      "\n",
      "OGC WKT2:2019 :\n",
      "PROJCRS[\"WGS 84 / UTM zone 11N\",\n",
      "    BASEGEOGCRS[\"WGS 84\",\n",
      "        DATUM[\"World Geodetic System 1984\",\n",
      "            ELLIPSOID[\"WGS 84\",6378137,298.257223563,\n",
      "                LENGTHUNIT[\"metre\",1]]],\n",
      "        PRIMEM[\"Greenwich\",0,\n",
      "            ANGLEUNIT[\"degree\",0.0174532925199433]],\n",
      "        ID[\"EPSG\",4326]],\n",
      "    CONVERSION[\"UTM zone 11N\",\n",
      "        METHOD[\"Transverse Mercator\",\n",
      "            ID[\"EPSG\",9807]],\n",
      "        PARAMETER[\"Latitude of natural origin\",0,\n",
      "            ANGLEUNIT[\"degree\",0.0174532925199433],\n",
      "            ID[\"EPSG\",8801]],\n",
      "        PARAMETER[\"Longitude of natural origin\",-117,\n",
      "            ANGLEUNIT[\"degree\",0.0174532925199433],\n",
      "            ID[\"EPSG\",8802]],\n",
      "        PARAMETER[\"Scale factor at natural origin\",0.9996,\n",
      "            SCALEUNIT[\"unity\",1],\n",
      "            ID[\"EPSG\",8805]],\n",
      "        PARAMETER[\"False easting\",500000,\n",
      "            LENGTHUNIT[\"metre\",1],\n",
      "            ID[\"EPSG\",8806]],\n",
      "        PARAMETER[\"False northing\",0,\n",
      "            LENGTHUNIT[\"metre\",1],\n",
      "            ID[\"EPSG\",8807]]],\n",
      "    CS[Cartesian,2],\n",
      "        AXIS[\"(E)\",east,\n",
      "            ORDER[1],\n",
      "            LENGTHUNIT[\"metre\",1]],\n",
      "        AXIS[\"(N)\",north,\n",
      "            ORDER[2],\n",
      "            LENGTHUNIT[\"metre\",1]],\n",
      "    ID[\"EPSG\",32611]]\n",
      "\n"
     ]
    }
   ],
   "source": [
    "# look at tiff info, check the projection\n",
    "!gdalsrsinfo -e Sites/MCS/DEMs/MCS_REFDEM_WGS84.tif"
   ]
  },
  {
   "cell_type": "code",
   "execution_count": null,
   "id": "89761233-3367-4281-a8da-2cc9bceb79e3",
   "metadata": {},
   "outputs": [],
   "source": [
    "# transform to wgs84 & save new file\n",
    "# comand format !gdalwarp infile.tif outfile.tif -t_srs \"+proj=longlat +ellps=WGS84\"\n",
    "!gdalwarp Sites/Banner/DEMs/Banner_Bare_Earth_DEMs_mosaic.tif Sites/Banner/DEMs/Banner_Bare_Earth_DEMs_mosaic_UTM11WGS84.tif -s_srs \"+proj=utm +zone=11 +ellps=GRS80 +units=m +no_defs\" -t_srs \"+proj=utm +zone=11 +ellps=WGS84\" "
   ]
  },
  {
   "cell_type": "code",
   "execution_count": null,
   "id": "53960f95-816d-4cf7-b867-5a18c512fd68",
   "metadata": {},
   "outputs": [],
   "source": [
    "# double check the transform\n",
    "!gdalsrsinfo -e Sites/LCW/DEMs/Little_Cottonwood_Bare_Earth_DEMs_mosaic_UTM12WGS84.tif"
   ]
  },
  {
   "cell_type": "code",
   "execution_count": null,
   "id": "a9720d32-9c9f-4e6e-b996-c62db3d768aa",
   "metadata": {},
   "outputs": [],
   "source": []
  }
 ],
 "metadata": {
  "kernelspec": {
   "display_name": "Python 3 (ipykernel)",
   "language": "python",
   "name": "python3"
  },
  "language_info": {
   "codemirror_mode": {
    "name": "ipython",
    "version": 3
   },
   "file_extension": ".py",
   "mimetype": "text/x-python",
   "name": "python",
   "nbconvert_exporter": "python",
   "pygments_lexer": "ipython3",
   "version": "3.11.6"
  }
 },
 "nbformat": 4,
 "nbformat_minor": 5
}
