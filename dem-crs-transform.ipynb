{
 "cells": [
  {
   "cell_type": "code",
   "execution_count": 1,
   "id": "74edceb4-edeb-43ed-bd41-f820f5a75ec4",
   "metadata": {},
   "outputs": [],
   "source": [
    "from osgeo import gdal as gdal"
   ]
  },
  {
   "cell_type": "code",
   "execution_count": 2,
   "id": "89477398-a5d5-4600-849f-9b24f81544ef",
   "metadata": {},
   "outputs": [
    {
     "name": "stderr",
     "output_type": "stream",
     "text": [
      "/Users/karinazikan/opt/anaconda3/envs/sliderule_env/lib/python3.12/site-packages/osgeo/gdal.py:312: FutureWarning: Neither gdal.UseExceptions() nor gdal.DontUseExceptions() has been explicitly called. In GDAL 4.0, exceptions will be enabled by default.\n",
      "  warnings.warn(\n"
     ]
    },
    {
     "data": {
      "text/plain": [
       "<osgeo.gdal.Dataset; proxy of <Swig Object of type 'GDALDatasetShadow *' at 0x10ad6c870> >"
      ]
     },
     "execution_count": 2,
     "metadata": {},
     "output_type": "execute_result"
    }
   ],
   "source": [
    "# Check you can find the file\n",
    "file = \"Sites/RCEW/DEMs/NDVI_map_2020_09_RCEW.tif\"\n",
    "gdal.Open(file)"
   ]
  },
  {
   "cell_type": "code",
   "execution_count": 3,
   "id": "5c74f1eb-1fc7-4780-a4cd-423ed747a25d",
   "metadata": {},
   "outputs": [
    {
     "name": "stdout",
     "output_type": "stream",
     "text": [
      "\n",
      "EPSG:4326\n",
      "\n",
      "PROJ.4 : +proj=longlat +datum=WGS84 +no_defs\n",
      "\n",
      "OGC WKT2:2019 :\n",
      "GEOGCRS[\"WGS 84\",\n",
      "    DATUM[\"World Geodetic System 1984\",\n",
      "        ELLIPSOID[\"WGS 84\",6378137,298.257223563,\n",
      "            LENGTHUNIT[\"metre\",1]]],\n",
      "    PRIMEM[\"Greenwich\",0,\n",
      "        ANGLEUNIT[\"degree\",0.0174532925199433]],\n",
      "    CS[ellipsoidal,2],\n",
      "        AXIS[\"latitude\",north,\n",
      "            ORDER[1],\n",
      "            ANGLEUNIT[\"degree\",0.0174532925199433]],\n",
      "        AXIS[\"longitude\",east,\n",
      "            ORDER[2],\n",
      "            ANGLEUNIT[\"degree\",0.0174532925199433]],\n",
      "    ID[\"EPSG\",4326]]\n",
      "\n"
     ]
    }
   ],
   "source": [
    "# look at tiff info, check the projection\n",
    "!gdalsrsinfo -e Sites/RCEW/DEMs/NDVI_map_2020_09_RCEW.tif"
   ]
  },
  {
   "cell_type": "code",
   "execution_count": 4,
   "id": "89761233-3367-4281-a8da-2cc9bceb79e3",
   "metadata": {},
   "outputs": [
    {
     "name": "stdout",
     "output_type": "stream",
     "text": [
      "Creating output file that is 507P x 1016L.\n",
      "Processing Sites/RCEW/DEMs/NDVI_map_2020_09_RCEW.tif [1/1] : 0...10...20...30...40...50...60...70...80...90...100 - done.\n"
     ]
    }
   ],
   "source": [
    "# transform to wgs84 & save new file\n",
    "# comand format !gdalwarp infile.tif outfile.tif -t_srs \"+proj=longlat +ellps=WGS84\"\n",
    "!gdalwarp Sites/RCEW/DEMs/NDVI_map_2020_09_RCEW.tif  Sites/RCEW/DEMs/NDVI_map_2020_09_RCEW_UTM11WGS84.tif -s_srs \"+proj=longlat +datum=WGS84 +no_defs\" -t_srs \"+proj=utm +zone=11 +ellps=WGS84\" "
   ]
  },
  {
   "cell_type": "code",
   "execution_count": 5,
   "id": "53960f95-816d-4cf7-b867-5a18c512fd68",
   "metadata": {},
   "outputs": [
    {
     "name": "stdout",
     "output_type": "stream",
     "text": [
      "Confidence in this match: 70 %\n",
      "\n",
      "EPSG:32611\n",
      "\n",
      "PROJ.4 : +proj=utm +zone=11 +datum=WGS84 +units=m +no_defs\n",
      "\n",
      "OGC WKT2:2019 :\n",
      "PROJCRS[\"WGS 84 / UTM zone 11N\",\n",
      "    BASEGEOGCRS[\"WGS 84\",\n",
      "        DATUM[\"World Geodetic System 1984\",\n",
      "            ELLIPSOID[\"WGS 84\",6378137,298.257223563,\n",
      "                LENGTHUNIT[\"metre\",1]]],\n",
      "        PRIMEM[\"Greenwich\",0,\n",
      "            ANGLEUNIT[\"degree\",0.0174532925199433]],\n",
      "        ID[\"EPSG\",4326]],\n",
      "    CONVERSION[\"UTM zone 11N\",\n",
      "        METHOD[\"Transverse Mercator\",\n",
      "            ID[\"EPSG\",9807]],\n",
      "        PARAMETER[\"Latitude of natural origin\",0,\n",
      "            ANGLEUNIT[\"degree\",0.0174532925199433],\n",
      "            ID[\"EPSG\",8801]],\n",
      "        PARAMETER[\"Longitude of natural origin\",-117,\n",
      "            ANGLEUNIT[\"degree\",0.0174532925199433],\n",
      "            ID[\"EPSG\",8802]],\n",
      "        PARAMETER[\"Scale factor at natural origin\",0.9996,\n",
      "            SCALEUNIT[\"unity\",1],\n",
      "            ID[\"EPSG\",8805]],\n",
      "        PARAMETER[\"False easting\",500000,\n",
      "            LENGTHUNIT[\"metre\",1],\n",
      "            ID[\"EPSG\",8806]],\n",
      "        PARAMETER[\"False northing\",0,\n",
      "            LENGTHUNIT[\"metre\",1],\n",
      "            ID[\"EPSG\",8807]]],\n",
      "    CS[Cartesian,2],\n",
      "        AXIS[\"(E)\",east,\n",
      "            ORDER[1],\n",
      "            LENGTHUNIT[\"metre\",1]],\n",
      "        AXIS[\"(N)\",north,\n",
      "            ORDER[2],\n",
      "            LENGTHUNIT[\"metre\",1]],\n",
      "    USAGE[\n",
      "        SCOPE[\"Navigation and medium accuracy spatial referencing.\"],\n",
      "        AREA[\"Between 120°W and 114°W, northern hemisphere between equator and 84°N, onshore and offshore. Canada - Alberta; British Columbia (BC); Northwest Territories (NWT); Nunavut. Mexico. United States (USA).\"],\n",
      "        BBOX[0,-120,84,-114]],\n",
      "    ID[\"EPSG\",32611]]\n",
      "\n"
     ]
    }
   ],
   "source": [
    "# double check the transform\n",
    "!gdalsrsinfo -e Sites/RCEW/DEMs/NDVI_map_2020_09_RCEW_UTM11WGS84.tif"
   ]
  },
  {
   "cell_type": "code",
   "execution_count": null,
   "id": "a9720d32-9c9f-4e6e-b996-c62db3d768aa",
   "metadata": {},
   "outputs": [],
   "source": []
  }
 ],
 "metadata": {
  "kernelspec": {
   "display_name": "Python 3 (ipykernel)",
   "language": "python",
   "name": "python3"
  },
  "language_info": {
   "codemirror_mode": {
    "name": "ipython",
    "version": 3
   },
   "file_extension": ".py",
   "mimetype": "text/x-python",
   "name": "python",
   "nbconvert_exporter": "python",
   "pygments_lexer": "ipython3",
   "version": "3.12.7"
  }
 },
 "nbformat": 4,
 "nbformat_minor": 5
}
