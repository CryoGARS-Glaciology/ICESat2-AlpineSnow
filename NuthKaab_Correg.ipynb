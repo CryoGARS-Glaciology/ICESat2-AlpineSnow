{
 "cells": [
  {
   "cell_type": "code",
   "execution_count": null,
   "id": "a0a41e2b-22b4-4c4f-81dd-5ba8cd8097ff",
   "metadata": {},
   "outputs": [],
   "source": [
    "# This code calculates the vertical DEM shift using the Nuth and Kääb point cloud coregistration\n",
    "# activate the xdem_dev environment\n",
    "\n",
    "import geoutils as gu\n",
    "import numpy as np\n",
    "from numpy.linalg import inv\n",
    "import pandas as pd\n",
    "\n",
    "import xdem"
   ]
  },
  {
   "cell_type": "code",
   "execution_count": null,
   "id": "277a1a2f-b633-462a-9615-dc770754d89c",
   "metadata": {},
   "outputs": [],
   "source": [
    "# **Inputs**\n",
    "path = 'Sites/RCEW/DEMs/'\n",
    "meanmin = 'min'\n",
    "\n",
    "icesat_file = 'RCEW-ICESat2-ATL03-min'\n",
    "DEM_file = 'RCEW_1m_WGS84UTM11_WGS84'\n",
    "slope_file = 'RCEW_1m_WGS84UTM11_WGS84-slope'\n",
    "aspect_file = 'RCEW_1m_WGS84UTM11_WGS84-aspect'"
   ]
  },
  {
   "cell_type": "code",
   "execution_count": null,
   "id": "5fdf07c6-f762-40bf-ad03-209aa33604d5",
   "metadata": {},
   "outputs": [],
   "source": [
    "# **files**\n",
    "reference_dem = xdem.DEM(path + icesat_file + '.tif')\n",
    "dem_to_be_aligned = xdem.DEM(path + DEM_file + '.tif')\n",
    "dem_elev = xdem.DEM(path + DEM_file + '.tif')\n",
    "dem_slope = xdem.DEM(path + slope_file + '.tif')\n",
    "dem_aspect = xdem.DEM(path + aspect_file + '.tif')"
   ]
  },
  {
   "cell_type": "code",
   "execution_count": null,
   "id": "db29165e-6ef1-40bb-bdc7-e0b9c7182731",
   "metadata": {},
   "outputs": [],
   "source": [
    "## **difference before coregistration**\n",
    "#diff_before = reference_dem - dem_to_be_aligned\n",
    "#diff_before.show(cmap=\"coolwarm_r\", vmin=-1, vmax=1, cbar_title=\"Elevation change (m)\")"
   ]
  },
  {
   "cell_type": "markdown",
   "id": "4003e691-6529-4cdc-b51e-97beacd0d490",
   "metadata": {},
   "source": [
    "## Coreggister DEM to IS2 (simpler method)"
   ]
  },
  {
   "cell_type": "code",
   "execution_count": null,
   "id": "d4ce48ef-ab3a-4920-9f91-a921defd42ab",
   "metadata": {},
   "outputs": [],
   "source": [
    "# **Nuth and Kääb coregistration**\n",
    "\n",
    "#nuth_kaab = xdem.coreg.NuthKaab()\n",
    "#nuth_kaab.fit(reference_dem,dem_to_be_aligned)"
   ]
  },
  {
   "cell_type": "code",
   "execution_count": null,
   "id": "a6fa1d5e-7c69-488e-aceb-c85885d5ec23",
   "metadata": {},
   "outputs": [],
   "source": [
    "# **apply coregistration shift**\n",
    "#aligned_dem = nuth_kaab.apply(dem_elev)\n",
    "#aligned_slope = nuth_kaab.apply(dem_slope)\n",
    "#aligned_aspect = nuth_kaab.apply(dem_aspect)"
   ]
  },
  {
   "cell_type": "code",
   "execution_count": null,
   "id": "a0905e75-0883-401e-8a3c-92aaa27dbabb",
   "metadata": {},
   "outputs": [],
   "source": [
    "# **Plot the difference between DTMs**\n",
    "#diff = dem_to_be_aligned - aligned_dem   \n",
    "#diff.show(cmap=\"coolwarm_r\", vmin=-1, vmax=1, cbar_title=\"Elevation change (m)\")"
   ]
  },
  {
   "cell_type": "code",
   "execution_count": null,
   "id": "f75c63a7-faad-4b56-81ae-8ec03848d359",
   "metadata": {},
   "outputs": [],
   "source": [
    "# **export coregistered DEMs**\n",
    "#aligned_dem.save(path + DEM_file + '_' + meanmin + '_CoRegAlt.tif')\n",
    "#aligned_slope.save(path + slope_file + '_' + meanmin +'_CoRegAlt.tif')\n",
    "#aligned_aspect.save(path + aspect_file + '_' + meanmin +'_CoRegAlt.tif')"
   ]
  },
  {
   "cell_type": "markdown",
   "id": "766a1c7c-b443-43ba-be97-2e0dedfc3efd",
   "metadata": {},
   "source": [
    "## Coreggister IS2 to DEM (more complicated method)"
   ]
  },
  {
   "cell_type": "code",
   "execution_count": null,
   "id": "b4741f7a-ea92-4b0a-af2c-e036e342cb90",
   "metadata": {},
   "outputs": [],
   "source": [
    "# **Nuth and Kääb coregistration**\n",
    "nuth_kaab = xdem.coreg.NuthKaab()\n",
    "\n",
    "nuth_kaab.fit(dem_to_be_aligned, reference_dem)"
   ]
  },
  {
   "cell_type": "code",
   "execution_count": null,
   "id": "209e5bc5-5660-4c0b-9254-3cc2d8c2173c",
   "metadata": {},
   "outputs": [],
   "source": [
    "#save the transform as a matrix\n",
    "a = nuth_kaab.to_matrix() \n",
    "a"
   ]
  },
  {
   "cell_type": "code",
   "execution_count": null,
   "id": "65de3f81-a979-4e88-96e5-78eb042a7e33",
   "metadata": {},
   "outputs": [],
   "source": [
    "#Invert transphormation matrix\n",
    "ainv = inv(a)\n",
    "ainv"
   ]
  },
  {
   "cell_type": "code",
   "execution_count": null,
   "id": "88164851-e394-4760-aba4-b20e4411825f",
   "metadata": {},
   "outputs": [],
   "source": [
    "# **Make new cogrestration from inverted transformation matrix**\n",
    "nuth_kaab2= xdem.coreg.affine.AffineCoreg()\n",
    "nuth_kaab2._meta[\"matrix\"] = ainv #manually set transformation matrix to desired matrix\n",
    "c = nuth_kaab2._meta.get(\"matrix\") #double check the matrix\n",
    "c"
   ]
  },
  {
   "cell_type": "code",
   "execution_count": null,
   "id": "4503ec5c-a95c-4fa5-96f9-22abb5c2f4de",
   "metadata": {},
   "outputs": [],
   "source": [
    "# **apply coregistration shift**\n",
    "aligned_dem = nuth_kaab2.apply(dem_elev)\n",
    "aligned_slope = nuth_kaab2.apply(dem_slope)\n",
    "aligned_aspect = nuth_kaab2.apply(dem_aspect)"
   ]
  },
  {
   "cell_type": "code",
   "execution_count": null,
   "id": "3a3634d6-9c00-4ca1-997e-f5bff07c8605",
   "metadata": {},
   "outputs": [],
   "source": [
    "# **Plot the difference between DTMs**\n",
    "# this can be used to check that the transformation did what you expect\n",
    "diff = dem_to_be_aligned - aligned_dem\n",
    "diff.show(cmap=\"coolwarm_r\", vmin=-1, vmax=1, cbar_title=\"Elevation change (m)\")"
   ]
  },
  {
   "cell_type": "code",
   "execution_count": null,
   "id": "487dcf9c-3be3-4145-9ba3-66c36f676f62",
   "metadata": {},
   "outputs": [],
   "source": [
    "# **export coregistered DEMs**\n",
    "#aligned_dem.save(path + DEM_file + '_' + meanmin + '_CoRegAlt.tif')\n",
    "#aligned_slope.save(path + slope_file + '_' + meanmin +'_CoRegAlt.tif')\n",
    "#aligned_aspect.save(path + aspect_file + '_' + meanmin +'_CoRegAlt.tif')"
   ]
  }
 ],
 "metadata": {
  "kernelspec": {
   "display_name": "Python 3 (ipykernel)",
   "language": "python",
   "name": "python3"
  },
  "language_info": {
   "codemirror_mode": {
    "name": "ipython",
    "version": 3
   },
   "file_extension": ".py",
   "mimetype": "text/x-python",
   "name": "python",
   "nbconvert_exporter": "python",
   "pygments_lexer": "ipython3",
   "version": "3.11.7"
  }
 },
 "nbformat": 4,
 "nbformat_minor": 5
}
