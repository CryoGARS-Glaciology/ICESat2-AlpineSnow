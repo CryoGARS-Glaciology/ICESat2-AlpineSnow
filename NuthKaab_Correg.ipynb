{
 "cells": [
  {
   "cell_type": "code",
   "execution_count": null,
   "id": "a0a41e2b-22b4-4c4f-81dd-5ba8cd8097ff",
   "metadata": {},
   "outputs": [],
   "source": [
    "# This code calculates the vertical DEM shift using the Nuth and Kääb point cloud coregistration\n",
    "# activate the xdem_dev environment\n",
    "\n",
    "import geoutils as gu\n",
    "import numpy as np\n",
    "import pandas as pd\n",
    "\n",
    "import xdem"
   ]
  },
  {
   "cell_type": "code",
   "execution_count": null,
   "id": "277a1a2f-b633-462a-9615-dc770754d89c",
   "metadata": {},
   "outputs": [],
   "source": [
    "# **Inputs**\n",
    "path = 'Sites/RCEW/DEMs/'\n",
    "meanmin = 'min'\n",
    "\n",
    "icesat_file = 'RCEW-ICESat2-ATL03-min'\n",
    "DEM_file = 'RCEW_1m_WGS84UTM11_WGS84'\n",
    "slope_file = 'RCEW_1m_WGS84UTM11_WGS84-slope'\n",
    "aspect_file = 'RCEW_1m_WGS84UTM11_WGS84-aspect'"
   ]
  },
  {
   "cell_type": "code",
   "execution_count": null,
   "id": "5fdf07c6-f762-40bf-ad03-209aa33604d5",
   "metadata": {},
   "outputs": [],
   "source": [
    "# **files**\n",
    "reference_dem = xdem.DEM(path + icesat_file + '.tif')\n",
    "dem_to_be_aligned = xdem.DEM(path + DEM_file + '.tif')\n",
    "dem_elev = xdem.DEM(path + DEM_file + '.tif')\n",
    "dem_slope = xdem.DEM(path + slope_file + '.tif')\n",
    "dem_aspect = xdem.DEM(path + aspect_file + '.tif')"
   ]
  },
  {
   "cell_type": "code",
   "execution_count": null,
   "id": "db29165e-6ef1-40bb-bdc7-e0b9c7182731",
   "metadata": {},
   "outputs": [],
   "source": [
    "## **difference before coregistration**\n",
    "#diff_before = reference_dem - dem_to_be_aligned\n",
    "#diff_before.show(cmap=\"coolwarm_r\", vmin=-1, vmax=1, cbar_title=\"Elevation change (m)\")"
   ]
  },
  {
   "cell_type": "code",
   "execution_count": null,
   "id": "b4741f7a-ea92-4b0a-af2c-e036e342cb90",
   "metadata": {},
   "outputs": [],
   "source": [
    "# **Nuth and Kääb coregistration**\n",
    "nuth_kaab = xdem.coreg.NuthKaab()\n",
    "\n",
    "nuth_kaab.fit(reference_dem, dem_to_be_aligned)"
   ]
  },
  {
   "cell_type": "code",
   "execution_count": null,
   "id": "4503ec5c-a95c-4fa5-96f9-22abb5c2f4de",
   "metadata": {},
   "outputs": [],
   "source": [
    "# **apply coregistration shift**\n",
    "aligned_dem = nuth_kaab.apply(dem_elev)\n",
    "aligned_slope = nuth_kaab.apply(dem_slope)\n",
    "aligned_aspect = nuth_kaab.apply(dem_aspect)"
   ]
  },
  {
   "cell_type": "code",
   "execution_count": null,
   "id": "487dcf9c-3be3-4145-9ba3-66c36f676f62",
   "metadata": {},
   "outputs": [],
   "source": [
    "# **export coregistered DEMs**\n",
    "aligned_dem.save(path + DEM_file + '_' + meanmin + '_CoReg.tif')\n",
    "aligned_slope.save(path + slope_file + '_' + meanmin +'_CoReg.tif')\n",
    "aligned_aspect.save(path + aspect_file + '_' + meanmin +'_CoReg.tif')"
   ]
  },
  {
   "cell_type": "code",
   "execution_count": null,
   "id": "a6a05179-26e1-4460-b30f-505f5c15e271",
   "metadata": {},
   "outputs": [],
   "source": []
  }
 ],
 "metadata": {
  "kernelspec": {
   "display_name": "Python 3 (ipykernel)",
   "language": "python",
   "name": "python3"
  },
  "language_info": {
   "codemirror_mode": {
    "name": "ipython",
    "version": 3
   },
   "file_extension": ".py",
   "mimetype": "text/x-python",
   "name": "python",
   "nbconvert_exporter": "python",
   "pygments_lexer": "ipython3",
   "version": "3.11.4"
  }
 },
 "nbformat": 4,
 "nbformat_minor": 5
}
