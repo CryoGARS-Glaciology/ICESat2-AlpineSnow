{
 "cells": [
  {
   "cell_type": "code",
   "execution_count": 1,
   "id": "a0a41e2b-22b4-4c4f-81dd-5ba8cd8097ff",
   "metadata": {},
   "outputs": [
    {
     "name": "stderr",
     "output_type": "stream",
     "text": [
      "/Users/karinazikan/opt/anaconda3/envs/xdem-dev/lib/python3.11/site-packages/skgstat/models.py:22: NumbaDeprecationWarning: \u001b[1mThe 'nopython' keyword argument was not supplied to the 'numba.jit' decorator. The implicit default value for this argument is currently False, but it will be changed to True in Numba 0.59.0. See https://numba.readthedocs.io/en/stable/reference/deprecation.html#deprecation-of-object-mode-fall-back-behaviour-when-using-jit for details.\u001b[0m\n",
      "  @jit\n",
      "/Users/karinazikan/opt/anaconda3/envs/xdem-dev/lib/python3.11/site-packages/skgstat/models.py:86: NumbaDeprecationWarning: \u001b[1mThe 'nopython' keyword argument was not supplied to the 'numba.jit' decorator. The implicit default value for this argument is currently False, but it will be changed to True in Numba 0.59.0. See https://numba.readthedocs.io/en/stable/reference/deprecation.html#deprecation-of-object-mode-fall-back-behaviour-when-using-jit for details.\u001b[0m\n",
      "  @jit\n",
      "/Users/karinazikan/opt/anaconda3/envs/xdem-dev/lib/python3.11/site-packages/skgstat/models.py:148: NumbaDeprecationWarning: \u001b[1mThe 'nopython' keyword argument was not supplied to the 'numba.jit' decorator. The implicit default value for this argument is currently False, but it will be changed to True in Numba 0.59.0. See https://numba.readthedocs.io/en/stable/reference/deprecation.html#deprecation-of-object-mode-fall-back-behaviour-when-using-jit for details.\u001b[0m\n",
      "  @jit\n",
      "/Users/karinazikan/opt/anaconda3/envs/xdem-dev/lib/python3.11/site-packages/skgstat/models.py:213: NumbaDeprecationWarning: \u001b[1mThe 'nopython' keyword argument was not supplied to the 'numba.jit' decorator. The implicit default value for this argument is currently False, but it will be changed to True in Numba 0.59.0. See https://numba.readthedocs.io/en/stable/reference/deprecation.html#deprecation-of-object-mode-fall-back-behaviour-when-using-jit for details.\u001b[0m\n",
      "  @jit\n",
      "/Users/karinazikan/opt/anaconda3/envs/xdem-dev/lib/python3.11/site-packages/skgstat/models.py:277: NumbaDeprecationWarning: \u001b[1mThe 'nopython' keyword argument was not supplied to the 'numba.jit' decorator. The implicit default value for this argument is currently False, but it will be changed to True in Numba 0.59.0. See https://numba.readthedocs.io/en/stable/reference/deprecation.html#deprecation-of-object-mode-fall-back-behaviour-when-using-jit for details.\u001b[0m\n",
      "  @jit\n",
      "/Users/karinazikan/Documents/xdem/xdem/spatialstats.py:2382: NumbaDeprecationWarning: \u001b[1mThe 'nopython' keyword argument was not supplied to the 'numba.jit' decorator. The implicit default value for this argument is currently False, but it will be changed to True in Numba 0.59.0. See https://numba.readthedocs.io/en/stable/reference/deprecation.html#deprecation-of-object-mode-fall-back-behaviour-when-using-jit for details.\u001b[0m\n",
      "  @jit((nd3type, nd3type, nd4type))  # type: ignore\n"
     ]
    }
   ],
   "source": [
    "# This code calculates the vertical DEM shift using the Nuth and Kääb point cloud coregistration\n",
    "# activate the xdem_dev environment\n",
    "\n",
    "import geoutils as gu\n",
    "import numpy as np\n",
    "import pandas as pd\n",
    "\n",
    "import xdem"
   ]
  },
  {
   "cell_type": "code",
   "execution_count": 2,
   "id": "5fdf07c6-f762-40bf-ad03-209aa33604d5",
   "metadata": {},
   "outputs": [
    {
     "name": "stderr",
     "output_type": "stream",
     "text": [
      "/Users/karinazikan/opt/anaconda3/envs/xdem-dev/lib/python3.11/site-packages/geoutils/raster/raster.py:1407: UserWarning: Setting default nodata -99999 to mask non-finite values found in the array, as no nodata value was defined.\n",
      "  warnings.warn(\n",
      "/Users/karinazikan/opt/anaconda3/envs/xdem-dev/lib/python3.11/site-packages/geoutils/raster/raster.py:1407: UserWarning: Setting default nodata -99999 to mask non-finite values found in the array, as no nodata value was defined.\n",
      "  warnings.warn(\n"
     ]
    }
   ],
   "source": [
    "# **files**\n",
    "reference_dem = xdem.DEM(\"Sites/RCEW/DEMs/RCEW-ICESat2-ATL03.tif\")\n",
    "dem_to_be_aligned = xdem.DEM(\"Sites/RCEW/DEMs/RCEW_1m_WGS84UTM11_WGS84.tif\")"
   ]
  },
  {
   "cell_type": "code",
   "execution_count": 3,
   "id": "db29165e-6ef1-40bb-bdc7-e0b9c7182731",
   "metadata": {},
   "outputs": [
    {
     "ename": "ValueError",
     "evalue": "Both rasters must have the same shape, transform and CRS.",
     "output_type": "error",
     "traceback": [
      "\u001b[0;31m---------------------------------------------------------------------------\u001b[0m",
      "\u001b[0;31mValueError\u001b[0m                                Traceback (most recent call last)",
      "Cell \u001b[0;32mIn[3], line 2\u001b[0m\n\u001b[1;32m      1\u001b[0m \u001b[38;5;66;03m# **difference before coregistration**\u001b[39;00m\n\u001b[0;32m----> 2\u001b[0m diff_before \u001b[38;5;241m=\u001b[39m \u001b[43mreference_dem\u001b[49m\u001b[43m \u001b[49m\u001b[38;5;241;43m-\u001b[39;49m\u001b[43m \u001b[49m\u001b[43mdem_to_be_aligned\u001b[49m\n\u001b[1;32m      3\u001b[0m diff_before\u001b[38;5;241m.\u001b[39mshow(cmap\u001b[38;5;241m=\u001b[39m\u001b[38;5;124m\"\u001b[39m\u001b[38;5;124mcoolwarm_r\u001b[39m\u001b[38;5;124m\"\u001b[39m, vmin\u001b[38;5;241m=\u001b[39m\u001b[38;5;241m-\u001b[39m\u001b[38;5;241m10\u001b[39m, vmax\u001b[38;5;241m=\u001b[39m\u001b[38;5;241m10\u001b[39m, cbar_title\u001b[38;5;241m=\u001b[39m\u001b[38;5;124m\"\u001b[39m\u001b[38;5;124mElevation change (m)\u001b[39m\u001b[38;5;124m\"\u001b[39m)\n",
      "File \u001b[0;32m~/opt/anaconda3/envs/xdem-dev/lib/python3.11/site-packages/geoutils/raster/raster.py:953\u001b[0m, in \u001b[0;36mRaster.__sub__\u001b[0;34m(self, other)\u001b[0m\n\u001b[1;32m    945\u001b[0m \u001b[38;5;28;01mdef\u001b[39;00m \u001b[38;5;21m__sub__\u001b[39m(\u001b[38;5;28mself\u001b[39m, other: Raster \u001b[38;5;241m|\u001b[39m np\u001b[38;5;241m.\u001b[39mndarray \u001b[38;5;241m|\u001b[39m Number) \u001b[38;5;241m-\u001b[39m\u001b[38;5;241m>\u001b[39m Raster:\n\u001b[1;32m    946\u001b[0m \u001b[38;5;250m    \u001b[39m\u001b[38;5;124;03m\"\"\"\u001b[39;00m\n\u001b[1;32m    947\u001b[0m \u001b[38;5;124;03m    Subtract two rasters, or a raster and a numpy array, or a raster and single number.\u001b[39;00m\n\u001b[1;32m    948\u001b[0m \n\u001b[0;32m   (...)\u001b[0m\n\u001b[1;32m    951\u001b[0m \u001b[38;5;124;03m    Otherwise, other must be a single number.\u001b[39;00m\n\u001b[1;32m    952\u001b[0m \u001b[38;5;124;03m    \"\"\"\u001b[39;00m\n\u001b[0;32m--> 953\u001b[0m     self_data, other_data, nodata \u001b[38;5;241m=\u001b[39m \u001b[38;5;28;43mself\u001b[39;49m\u001b[38;5;241;43m.\u001b[39;49m\u001b[43m_overloading_check\u001b[49m\u001b[43m(\u001b[49m\u001b[43mother\u001b[49m\u001b[43m)\u001b[49m\n\u001b[1;32m    954\u001b[0m     out_data \u001b[38;5;241m=\u001b[39m self_data \u001b[38;5;241m-\u001b[39m other_data\n\u001b[1;32m    955\u001b[0m     \u001b[38;5;28;01mreturn\u001b[39;00m \u001b[38;5;28mself\u001b[39m\u001b[38;5;241m.\u001b[39mfrom_array(out_data, \u001b[38;5;28mself\u001b[39m\u001b[38;5;241m.\u001b[39mtransform, \u001b[38;5;28mself\u001b[39m\u001b[38;5;241m.\u001b[39mcrs, nodata\u001b[38;5;241m=\u001b[39mnodata)\n",
      "File \u001b[0;32m~/opt/anaconda3/envs/xdem-dev/lib/python3.11/site-packages/geoutils/raster/raster.py:866\u001b[0m, in \u001b[0;36mRaster._overloading_check\u001b[0;34m(self, other)\u001b[0m\n\u001b[1;32m    864\u001b[0m     \u001b[38;5;28;01mpass\u001b[39;00m\n\u001b[1;32m    865\u001b[0m \u001b[38;5;28;01melse\u001b[39;00m:\n\u001b[0;32m--> 866\u001b[0m     \u001b[38;5;28;01mraise\u001b[39;00m \u001b[38;5;167;01mValueError\u001b[39;00m(\u001b[38;5;124m\"\u001b[39m\u001b[38;5;124mBoth rasters must have the same shape, transform and CRS.\u001b[39m\u001b[38;5;124m\"\u001b[39m)\n\u001b[1;32m    868\u001b[0m other_data \u001b[38;5;241m=\u001b[39m other\u001b[38;5;241m.\u001b[39mdata\n\u001b[1;32m    869\u001b[0m nodata2 \u001b[38;5;241m=\u001b[39m other\u001b[38;5;241m.\u001b[39mnodata\n",
      "\u001b[0;31mValueError\u001b[0m: Both rasters must have the same shape, transform and CRS."
     ]
    }
   ],
   "source": [
    "# **difference before coregistration**\n",
    "diff_before = reference_dem - dem_to_be_aligned\n",
    "diff_before.show(cmap=\"coolwarm_r\", vmin=-10, vmax=10, cbar_title=\"Elevation change (m)\")"
   ]
  },
  {
   "cell_type": "code",
   "execution_count": 4,
   "id": "b4741f7a-ea92-4b0a-af2c-e036e342cb90",
   "metadata": {},
   "outputs": [
    {
     "data": {
      "text/plain": [
       "<xdem.coreg.NuthKaab at 0x1b679ab10>"
      ]
     },
     "execution_count": 4,
     "metadata": {},
     "output_type": "execute_result"
    }
   ],
   "source": [
    "# **Nuth and Kääb coregistration**\n",
    "nuth_kaab = xdem.coreg.NuthKaab()\n",
    "\n",
    "nuth_kaab.fit(reference_dem, dem_to_be_aligned)"
   ]
  },
  {
   "cell_type": "code",
   "execution_count": 5,
   "id": "4503ec5c-a95c-4fa5-96f9-22abb5c2f4de",
   "metadata": {},
   "outputs": [],
   "source": [
    "# apply coregistration shift**\n",
    "aligned_dem = nuth_kaab.apply(dem_to_be_aligned)"
   ]
  },
  {
   "cell_type": "code",
   "execution_count": 7,
   "id": "487dcf9c-3be3-4145-9ba3-66c36f676f62",
   "metadata": {},
   "outputs": [],
   "source": [
    "# export coregistered DEM\n",
    "aligned_dem.save(\"Sites/RCEW/DEMs/RCEW_1m_WGS84UTM11_WGS84_CoReg.tif\")"
   ]
  },
  {
   "cell_type": "code",
   "execution_count": null,
   "id": "a6a05179-26e1-4460-b30f-505f5c15e271",
   "metadata": {},
   "outputs": [],
   "source": []
  }
 ],
 "metadata": {
  "kernelspec": {
   "display_name": "Python 3 (ipykernel)",
   "language": "python",
   "name": "python3"
  },
  "language_info": {
   "codemirror_mode": {
    "name": "ipython",
    "version": 3
   },
   "file_extension": ".py",
   "mimetype": "text/x-python",
   "name": "python",
   "nbconvert_exporter": "python",
   "pygments_lexer": "ipython3",
   "version": "3.11.4"
  }
 },
 "nbformat": 4,
 "nbformat_minor": 5
}
