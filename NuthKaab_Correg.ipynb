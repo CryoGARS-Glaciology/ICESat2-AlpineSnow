{
 "cells": [
  {
   "cell_type": "code",
   "execution_count": 1,
   "id": "a0a41e2b-22b4-4c4f-81dd-5ba8cd8097ff",
   "metadata": {},
   "outputs": [
    {
     "name": "stderr",
     "output_type": "stream",
     "text": [
      "/Users/karinazikan/opt/anaconda3/envs/xdem-dev/lib/python3.11/site-packages/skgstat/models.py:22: NumbaDeprecationWarning: \u001b[1mThe 'nopython' keyword argument was not supplied to the 'numba.jit' decorator. The implicit default value for this argument is currently False, but it will be changed to True in Numba 0.59.0. See https://numba.readthedocs.io/en/stable/reference/deprecation.html#deprecation-of-object-mode-fall-back-behaviour-when-using-jit for details.\u001b[0m\n",
      "  @jit\n",
      "/Users/karinazikan/opt/anaconda3/envs/xdem-dev/lib/python3.11/site-packages/skgstat/models.py:86: NumbaDeprecationWarning: \u001b[1mThe 'nopython' keyword argument was not supplied to the 'numba.jit' decorator. The implicit default value for this argument is currently False, but it will be changed to True in Numba 0.59.0. See https://numba.readthedocs.io/en/stable/reference/deprecation.html#deprecation-of-object-mode-fall-back-behaviour-when-using-jit for details.\u001b[0m\n",
      "  @jit\n",
      "/Users/karinazikan/opt/anaconda3/envs/xdem-dev/lib/python3.11/site-packages/skgstat/models.py:148: NumbaDeprecationWarning: \u001b[1mThe 'nopython' keyword argument was not supplied to the 'numba.jit' decorator. The implicit default value for this argument is currently False, but it will be changed to True in Numba 0.59.0. See https://numba.readthedocs.io/en/stable/reference/deprecation.html#deprecation-of-object-mode-fall-back-behaviour-when-using-jit for details.\u001b[0m\n",
      "  @jit\n",
      "/Users/karinazikan/opt/anaconda3/envs/xdem-dev/lib/python3.11/site-packages/skgstat/models.py:213: NumbaDeprecationWarning: \u001b[1mThe 'nopython' keyword argument was not supplied to the 'numba.jit' decorator. The implicit default value for this argument is currently False, but it will be changed to True in Numba 0.59.0. See https://numba.readthedocs.io/en/stable/reference/deprecation.html#deprecation-of-object-mode-fall-back-behaviour-when-using-jit for details.\u001b[0m\n",
      "  @jit\n",
      "/Users/karinazikan/opt/anaconda3/envs/xdem-dev/lib/python3.11/site-packages/skgstat/models.py:277: NumbaDeprecationWarning: \u001b[1mThe 'nopython' keyword argument was not supplied to the 'numba.jit' decorator. The implicit default value for this argument is currently False, but it will be changed to True in Numba 0.59.0. See https://numba.readthedocs.io/en/stable/reference/deprecation.html#deprecation-of-object-mode-fall-back-behaviour-when-using-jit for details.\u001b[0m\n",
      "  @jit\n",
      "/Users/karinazikan/Documents/xdem/xdem/spatialstats.py:2382: NumbaDeprecationWarning: \u001b[1mThe 'nopython' keyword argument was not supplied to the 'numba.jit' decorator. The implicit default value for this argument is currently False, but it will be changed to True in Numba 0.59.0. See https://numba.readthedocs.io/en/stable/reference/deprecation.html#deprecation-of-object-mode-fall-back-behaviour-when-using-jit for details.\u001b[0m\n",
      "  @jit((nd3type, nd3type, nd4type))  # type: ignore\n"
     ]
    }
   ],
   "source": [
    "# This code calculates the vertical DEM shift using the Nuth and Kääb point cloud coregistration\n",
    "\n",
    "import geoutils as gu\n",
    "import numpy as np\n",
    "import pandas as pd\n",
    "\n",
    "import xdem"
   ]
  },
  {
   "cell_type": "code",
   "execution_count": 6,
   "id": "5fdf07c6-f762-40bf-ad03-209aa33604d5",
   "metadata": {},
   "outputs": [
    {
     "name": "stderr",
     "output_type": "stream",
     "text": [
      "/Users/karinazikan/opt/anaconda3/envs/xdem-dev/lib/python3.11/site-packages/geoutils/raster/raster.py:1407: UserWarning: Setting default nodata -99999 to mask non-finite values found in the array, as no nodata value was defined.\n",
      "  warnings.warn(\n"
     ]
    }
   ],
   "source": [
    "# **files**\n",
    "reference_dem = pd.read_csv(\"Sites/RCEW/IS2_Data/RCEW-ICESat2-ATL03-2.csv\")\n",
    "dem_to_be_aligned = xdem.DEM(\"Sites/RCEW/DEMs/RCEW_1m_WGS84UTM11_WGS84.tif\")"
   ]
  },
  {
   "cell_type": "code",
   "execution_count": 11,
   "id": "eba1926e-e004-43d4-9402-179e8f77b1bf",
   "metadata": {
    "scrolled": true
   },
   "outputs": [
    {
     "data": {
      "text/html": [
       "<div>\n",
       "<style scoped>\n",
       "    .dataframe tbody tr th:only-of-type {\n",
       "        vertical-align: middle;\n",
       "    }\n",
       "\n",
       "    .dataframe tbody tr th {\n",
       "        vertical-align: top;\n",
       "    }\n",
       "\n",
       "    .dataframe thead th {\n",
       "        text-align: right;\n",
       "    }\n",
       "</style>\n",
       "<table border=\"1\" class=\"dataframe\">\n",
       "  <thead>\n",
       "    <tr style=\"text-align: right;\">\n",
       "      <th></th>\n",
       "      <th>time</th>\n",
       "      <th>E</th>\n",
       "      <th>N</th>\n",
       "      <th>z</th>\n",
       "    </tr>\n",
       "  </thead>\n",
       "  <tbody>\n",
       "    <tr>\n",
       "      <th>0</th>\n",
       "      <td>2019-05-27 12:28:42.743</td>\n",
       "      <td>523430.475310</td>\n",
       "      <td>4.772917e+06</td>\n",
       "      <td>1900.3315</td>\n",
       "    </tr>\n",
       "    <tr>\n",
       "      <th>1</th>\n",
       "      <td>2019-05-27 12:28:42.744</td>\n",
       "      <td>523429.877709</td>\n",
       "      <td>4.772922e+06</td>\n",
       "      <td>1898.8876</td>\n",
       "    </tr>\n",
       "    <tr>\n",
       "      <th>2</th>\n",
       "      <td>2019-05-27 12:28:42.745</td>\n",
       "      <td>523429.578021</td>\n",
       "      <td>4.772925e+06</td>\n",
       "      <td>1898.0692</td>\n",
       "    </tr>\n",
       "    <tr>\n",
       "      <th>3</th>\n",
       "      <td>2019-05-27 12:28:42.745</td>\n",
       "      <td>523429.435821</td>\n",
       "      <td>4.772927e+06</td>\n",
       "      <td>1898.5760</td>\n",
       "    </tr>\n",
       "    <tr>\n",
       "      <th>4</th>\n",
       "      <td>2019-05-27 12:28:42.745</td>\n",
       "      <td>523429.355678</td>\n",
       "      <td>4.772927e+06</td>\n",
       "      <td>1897.7479</td>\n",
       "    </tr>\n",
       "    <tr>\n",
       "      <th>...</th>\n",
       "      <td>...</td>\n",
       "      <td>...</td>\n",
       "      <td>...</td>\n",
       "      <td>...</td>\n",
       "    </tr>\n",
       "    <tr>\n",
       "      <th>1409899</th>\n",
       "      <td>2022-08-20 04:06:51.403</td>\n",
       "      <td>513872.015151</td>\n",
       "      <td>4.795333e+06</td>\n",
       "      <td>1795.9928</td>\n",
       "    </tr>\n",
       "    <tr>\n",
       "      <th>1409900</th>\n",
       "      <td>2022-08-20 04:06:51.403</td>\n",
       "      <td>513871.930533</td>\n",
       "      <td>4.795334e+06</td>\n",
       "      <td>1795.6282</td>\n",
       "    </tr>\n",
       "    <tr>\n",
       "      <th>1409901</th>\n",
       "      <td>2022-08-20 04:06:51.403</td>\n",
       "      <td>513871.860290</td>\n",
       "      <td>4.795335e+06</td>\n",
       "      <td>1795.5538</td>\n",
       "    </tr>\n",
       "    <tr>\n",
       "      <th>1409902</th>\n",
       "      <td>2022-08-20 04:06:51.403</td>\n",
       "      <td>513871.792962</td>\n",
       "      <td>4.795335e+06</td>\n",
       "      <td>1795.6029</td>\n",
       "    </tr>\n",
       "    <tr>\n",
       "      <th>1409903</th>\n",
       "      <td>2022-08-20 04:06:51.403</td>\n",
       "      <td>513871.799506</td>\n",
       "      <td>4.795335e+06</td>\n",
       "      <td>1795.8790</td>\n",
       "    </tr>\n",
       "  </tbody>\n",
       "</table>\n",
       "<p>1409904 rows × 4 columns</p>\n",
       "</div>"
      ],
      "text/plain": [
       "                            time              E             N          z\n",
       "0        2019-05-27 12:28:42.743  523430.475310  4.772917e+06  1900.3315\n",
       "1        2019-05-27 12:28:42.744  523429.877709  4.772922e+06  1898.8876\n",
       "2        2019-05-27 12:28:42.745  523429.578021  4.772925e+06  1898.0692\n",
       "3        2019-05-27 12:28:42.745  523429.435821  4.772927e+06  1898.5760\n",
       "4        2019-05-27 12:28:42.745  523429.355678  4.772927e+06  1897.7479\n",
       "...                          ...            ...           ...        ...\n",
       "1409899  2022-08-20 04:06:51.403  513872.015151  4.795333e+06  1795.9928\n",
       "1409900  2022-08-20 04:06:51.403  513871.930533  4.795334e+06  1795.6282\n",
       "1409901  2022-08-20 04:06:51.403  513871.860290  4.795335e+06  1795.5538\n",
       "1409902  2022-08-20 04:06:51.403  513871.792962  4.795335e+06  1795.6029\n",
       "1409903  2022-08-20 04:06:51.403  513871.799506  4.795335e+06  1795.8790\n",
       "\n",
       "[1409904 rows x 4 columns]"
      ]
     },
     "execution_count": 11,
     "metadata": {},
     "output_type": "execute_result"
    }
   ],
   "source": [
    "reference_dem"
   ]
  },
  {
   "cell_type": "code",
   "execution_count": 8,
   "id": "beea24a4-cb0d-47ac-995c-42049510d01b",
   "metadata": {},
   "outputs": [],
   "source": [
    "# **rename columns to E, N, & z if necisary**  \n",
    "reference_dem = reference_dem.rename(columns={'X': 'E','Y': 'N','Z':'z'})"
   ]
  },
  {
   "cell_type": "code",
   "execution_count": 10,
   "id": "b4741f7a-ea92-4b0a-af2c-e036e342cb90",
   "metadata": {},
   "outputs": [
    {
     "name": "stderr",
     "output_type": "stream",
     "text": [
      "OMP: Info #276: omp_set_nested routine deprecated, please use omp_set_max_active_levels instead.\n"
     ]
    },
    {
     "name": "stdout",
     "output_type": "stream",
     "text": [
      "Running Nuth and Kääb (2011) coregistration. Shift pts instead of shifting dem\n",
      "   Calculate slope and aspect\n"
     ]
    },
    {
     "name": "stderr",
     "output_type": "stream",
     "text": [
      "/Users/karinazikan/opt/anaconda3/envs/xdem-dev/lib/python3.11/site-packages/numpy/lib/nanfunctions.py:1217: RuntimeWarning: All-NaN slice encountered\n",
      "  return function_base._ureduce(a, func=_nanmedian, keepdims=keepdims,\n"
     ]
    },
    {
     "name": "stdout",
     "output_type": "stream",
     "text": [
      "   Statistics on initial dh:\n",
      "      Median = nan - NMAD = nan\n",
      "   Iteratively estimating horizontal shit:\n"
     ]
    },
    {
     "name": "stderr",
     "output_type": "stream",
     "text": [
      "   Progress:   0%|                     | 0/10 [00:00<?, ?it/s]\n"
     ]
    },
    {
     "ename": "AssertionError",
     "evalue": "",
     "output_type": "error",
     "traceback": [
      "\u001b[0;31m---------------------------------------------------------------------------\u001b[0m",
      "\u001b[0;31mAssertionError\u001b[0m                            Traceback (most recent call last)",
      "Cell \u001b[0;32mIn[10], line 5\u001b[0m\n\u001b[1;32m      1\u001b[0m \u001b[38;5;66;03m# **Nuth and Kääb coregistration\u001b[39;00m\n\u001b[1;32m      3\u001b[0m nuth_kaab \u001b[38;5;241m=\u001b[39m xdem\u001b[38;5;241m.\u001b[39mcoreg\u001b[38;5;241m.\u001b[39mNuthKaab()\n\u001b[0;32m----> 5\u001b[0m \u001b[43mnuth_kaab\u001b[49m\u001b[38;5;241;43m.\u001b[39;49m\u001b[43mfit_pts\u001b[49m\u001b[43m(\u001b[49m\u001b[43mreference_dem\u001b[49m\u001b[43m,\u001b[49m\u001b[43m \u001b[49m\u001b[43mdem_to_be_aligned\u001b[49m\u001b[43m,\u001b[49m\u001b[43m \u001b[49m\u001b[43mmask_high_curv\u001b[49m\u001b[38;5;241;43m=\u001b[39;49m\u001b[38;5;28;43;01mTrue\u001b[39;49;00m\u001b[43m,\u001b[49m\u001b[43m \u001b[49m\u001b[43mverbose\u001b[49m\u001b[43m \u001b[49m\u001b[38;5;241;43m=\u001b[39;49m\u001b[43m \u001b[49m\u001b[38;5;28;43;01mTrue\u001b[39;49;00m\u001b[43m)\u001b[49m\n",
      "File \u001b[0;32m~/Documents/xdem/xdem/coreg.py:782\u001b[0m, in \u001b[0;36mCoreg.fit_pts\u001b[0;34m(self, reference_dem, dem_to_be_aligned, inlier_mask, transform, samples, subsample, verbose, mask_high_curv, order, z_name, weights)\u001b[0m\n\u001b[1;32m    779\u001b[0m     ref_dem \u001b[38;5;241m=\u001b[39m ref_dem\u001b[38;5;241m.\u001b[39miloc[random_valids]\n\u001b[1;32m    781\u001b[0m \u001b[38;5;66;03m# Run the associated fitting function\u001b[39;00m\n\u001b[0;32m--> 782\u001b[0m \u001b[38;5;28;43mself\u001b[39;49m\u001b[38;5;241;43m.\u001b[39;49m\u001b[43m_fit_pts_func\u001b[49m\u001b[43m(\u001b[49m\n\u001b[1;32m    783\u001b[0m \u001b[43m    \u001b[49m\u001b[43mref_dem\u001b[49m\u001b[38;5;241;43m=\u001b[39;49m\u001b[43mref_dem\u001b[49m\u001b[43m,\u001b[49m\n\u001b[1;32m    784\u001b[0m \u001b[43m    \u001b[49m\u001b[43mtba_dem\u001b[49m\u001b[38;5;241;43m=\u001b[39;49m\u001b[43mtba_dem\u001b[49m\u001b[43m,\u001b[49m\n\u001b[1;32m    785\u001b[0m \u001b[43m    \u001b[49m\u001b[43mtransform\u001b[49m\u001b[38;5;241;43m=\u001b[39;49m\u001b[43mtransform\u001b[49m\u001b[43m,\u001b[49m\n\u001b[1;32m    786\u001b[0m \u001b[43m    \u001b[49m\u001b[43mweights\u001b[49m\u001b[38;5;241;43m=\u001b[39;49m\u001b[43mweights\u001b[49m\u001b[43m,\u001b[49m\n\u001b[1;32m    787\u001b[0m \u001b[43m    \u001b[49m\u001b[43mverbose\u001b[49m\u001b[38;5;241;43m=\u001b[39;49m\u001b[43mverbose\u001b[49m\u001b[43m,\u001b[49m\n\u001b[1;32m    788\u001b[0m \u001b[43m    \u001b[49m\u001b[43morder\u001b[49m\u001b[38;5;241;43m=\u001b[39;49m\u001b[43morder\u001b[49m\u001b[43m,\u001b[49m\n\u001b[1;32m    789\u001b[0m \u001b[43m    \u001b[49m\u001b[43mz_name\u001b[49m\u001b[38;5;241;43m=\u001b[39;49m\u001b[43mz_name\u001b[49m\u001b[43m,\u001b[49m\n\u001b[1;32m    790\u001b[0m \u001b[43m\u001b[49m\u001b[43m)\u001b[49m\n\u001b[1;32m    792\u001b[0m \u001b[38;5;66;03m# Flag that the fitting function has been called.\u001b[39;00m\n\u001b[1;32m    793\u001b[0m \u001b[38;5;28mself\u001b[39m\u001b[38;5;241m.\u001b[39m_fit_called \u001b[38;5;241m=\u001b[39m \u001b[38;5;28;01mTrue\u001b[39;00m\n",
      "File \u001b[0;32m~/Documents/xdem/xdem/coreg.py:1922\u001b[0m, in \u001b[0;36mNuthKaab._fit_pts_func\u001b[0;34m(self, ref_dem, tba_dem, transform, weights, verbose, order, z_name)\u001b[0m\n\u001b[1;32m   1918\u001b[0m pbar \u001b[38;5;241m=\u001b[39m trange(\u001b[38;5;28mself\u001b[39m\u001b[38;5;241m.\u001b[39mmax_iterations, disable\u001b[38;5;241m=\u001b[39m\u001b[38;5;129;01mnot\u001b[39;00m verbose, desc\u001b[38;5;241m=\u001b[39m\u001b[38;5;124m\"\u001b[39m\u001b[38;5;124m   Progress\u001b[39m\u001b[38;5;124m\"\u001b[39m)\n\u001b[1;32m   1919\u001b[0m \u001b[38;5;28;01mfor\u001b[39;00m i \u001b[38;5;129;01min\u001b[39;00m pbar:\n\u001b[1;32m   1920\u001b[0m \n\u001b[1;32m   1921\u001b[0m     \u001b[38;5;66;03m# Estimate the horizontal shift from the implementation by Nuth and Kääb (2011)\u001b[39;00m\n\u001b[0;32m-> 1922\u001b[0m     east_diff, north_diff, _ \u001b[38;5;241m=\u001b[39m \u001b[43mget_horizontal_shift\u001b[49m\u001b[43m(\u001b[49m\u001b[43m  \u001b[49m\u001b[38;5;66;43;03m# type: ignore\u001b[39;49;00m\n\u001b[1;32m   1923\u001b[0m \u001b[43m        \u001b[49m\u001b[43melevation_difference\u001b[49m\u001b[38;5;241;43m=\u001b[39;49m\u001b[43melevation_difference\u001b[49m\u001b[43m,\u001b[49m\u001b[43m \u001b[49m\u001b[43mslope\u001b[49m\u001b[38;5;241;43m=\u001b[39;49m\u001b[43mslope_pts\u001b[49m\u001b[43m,\u001b[49m\u001b[43m \u001b[49m\u001b[43maspect\u001b[49m\u001b[38;5;241;43m=\u001b[39;49m\u001b[43maspect_pts\u001b[49m\n\u001b[1;32m   1924\u001b[0m \u001b[43m    \u001b[49m\u001b[43m)\u001b[49m\n\u001b[1;32m   1925\u001b[0m     \u001b[38;5;28;01mif\u001b[39;00m verbose:\n\u001b[1;32m   1926\u001b[0m         pbar\u001b[38;5;241m.\u001b[39mwrite(\u001b[38;5;124mf\u001b[39m\u001b[38;5;124m\"\u001b[39m\u001b[38;5;124m      #\u001b[39m\u001b[38;5;132;01m{\u001b[39;00mi\u001b[38;5;250m \u001b[39m\u001b[38;5;241m+\u001b[39m\u001b[38;5;250m \u001b[39m\u001b[38;5;241m1\u001b[39m\u001b[38;5;132;01m:\u001b[39;00m\u001b[38;5;124md\u001b[39m\u001b[38;5;132;01m}\u001b[39;00m\u001b[38;5;124m - Offset in pixels : (\u001b[39m\u001b[38;5;132;01m{\u001b[39;00meast_diff\u001b[38;5;132;01m:\u001b[39;00m\u001b[38;5;124m.3f\u001b[39m\u001b[38;5;132;01m}\u001b[39;00m\u001b[38;5;124m, \u001b[39m\u001b[38;5;132;01m{\u001b[39;00mnorth_diff\u001b[38;5;132;01m:\u001b[39;00m\u001b[38;5;124m.3f\u001b[39m\u001b[38;5;132;01m}\u001b[39;00m\u001b[38;5;124m)\u001b[39m\u001b[38;5;124m\"\u001b[39m)\n",
      "File \u001b[0;32m~/Documents/xdem/xdem/coreg.py:215\u001b[0m, in \u001b[0;36mget_horizontal_shift\u001b[0;34m(elevation_difference, slope, aspect, min_count)\u001b[0m\n\u001b[1;32m    212\u001b[0m x_values \u001b[38;5;241m=\u001b[39m input_x_values[np\u001b[38;5;241m.\u001b[39misfinite(input_x_values) \u001b[38;5;241m&\u001b[39m np\u001b[38;5;241m.\u001b[39misfinite(input_y_values)]\n\u001b[1;32m    213\u001b[0m y_values \u001b[38;5;241m=\u001b[39m input_y_values[np\u001b[38;5;241m.\u001b[39misfinite(input_x_values) \u001b[38;5;241m&\u001b[39m np\u001b[38;5;241m.\u001b[39misfinite(input_y_values)]\n\u001b[0;32m--> 215\u001b[0m \u001b[38;5;28;01massert\u001b[39;00m y_values\u001b[38;5;241m.\u001b[39mshape[\u001b[38;5;241m0\u001b[39m] \u001b[38;5;241m>\u001b[39m \u001b[38;5;241m0\u001b[39m\n\u001b[1;32m    217\u001b[0m \u001b[38;5;66;03m# Remove outliers\u001b[39;00m\n\u001b[1;32m    218\u001b[0m lower_percentile \u001b[38;5;241m=\u001b[39m np\u001b[38;5;241m.\u001b[39mpercentile(y_values, \u001b[38;5;241m1\u001b[39m)\n",
      "\u001b[0;31mAssertionError\u001b[0m: "
     ]
    }
   ],
   "source": [
    "# **Nuth and Kääb coregistration**\n",
    "\n",
    "nuth_kaab = xdem.coreg.NuthKaab()\n",
    "\n",
    "nuth_kaab.fit_pts(reference_dem, dem_to_be_aligned, mask_high_curv=True, verbose = True)"
   ]
  },
  {
   "cell_type": "code",
   "execution_count": null,
   "id": "4503ec5c-a95c-4fa5-96f9-22abb5c2f4de",
   "metadata": {},
   "outputs": [],
   "source": [
    "aligned_dem = nuth_kaab.apply(dem_to_be_aligned)"
   ]
  },
  {
   "cell_type": "code",
   "execution_count": null,
   "id": "487dcf9c-3be3-4145-9ba3-66c36f676f62",
   "metadata": {},
   "outputs": [],
   "source": []
  }
 ],
 "metadata": {
  "kernelspec": {
   "display_name": "Python 3 (ipykernel)",
   "language": "python",
   "name": "python3"
  },
  "language_info": {
   "codemirror_mode": {
    "name": "ipython",
    "version": 3
   },
   "file_extension": ".py",
   "mimetype": "text/x-python",
   "name": "python",
   "nbconvert_exporter": "python",
   "pygments_lexer": "ipython3",
   "version": "3.11.4"
  }
 },
 "nbformat": 4,
 "nbformat_minor": 5
}
