{
 "cells": [
  {
   "cell_type": "markdown",
   "id": "adec21b9",
   "metadata": {},
   "source": [
    "## ICESat-2 SlideRule Download\n",
    "\n",
    "This code is adapted from Sliderule Python example code. It is designed to calculate ATL06 elevations from ALT03 points and save those elevations as a CSV. \n",
    "\n",
    "Activate the sliderule_env enviroment to run\n",
    "\n",
    "Last updated by Karina Zikan July 2023"
   ]
  },
  {
   "cell_type": "code",
   "execution_count": 1,
   "id": "2c4a16f4",
   "metadata": {},
   "outputs": [],
   "source": [
    "import sys\n",
    "import logging\n",
    "import concurrent.futures\n",
    "import time\n",
    "from datetime import datetime\n",
    "import pandas as pd\n",
    "import geopandas as gpd\n",
    "import matplotlib.pyplot as plt\n",
    "from pyproj import Transformer, CRS\n",
    "from shapely.geometry import Polygon, Point\n",
    "from sliderule import sliderule, icesat2, earthdata, h5"
   ]
  },
  {
   "cell_type": "markdown",
   "id": "9af7ad61",
   "metadata": {},
   "source": [
    "## SlideRule Configuration"
   ]
  },
  {
   "cell_type": "code",
   "execution_count": 2,
   "id": "f01cf9d3",
   "metadata": {},
   "outputs": [],
   "source": [
    "# Configure ICESat-2 API\n",
    "icesat2.init(\"slideruleearth.io\", verbose=False)"
   ]
  },
  {
   "cell_type": "markdown",
   "id": "4da5abf9",
   "metadata": {},
   "source": [
    "## Specify Region of Interest"
   ]
  },
  {
   "cell_type": "markdown",
   "id": "df0dd474",
   "metadata": {},
   "source": [
    "#### 1. Make geojson from shapefile - if you have a geojson of the region skip to 2."
   ]
  },
  {
   "cell_type": "code",
   "execution_count": 3,
   "id": "7be0c803",
   "metadata": {},
   "outputs": [
    {
     "data": {
      "text/plain": [
       "False"
      ]
     },
     "execution_count": 3,
     "metadata": {},
     "output_type": "execute_result"
    }
   ],
   "source": [
    "# Specify region of interest shapefile\n",
    "shp = \"Sites/MCS/ROIs/MCSborder_WGS84.shp\"\n",
    "shapefile = gpd.read_file(shp)\n",
    "# shapefile.to_file('DryCreek/boundDCEW/boundDCEW_WGS84.geojson', driver='GeoJSON')\n",
    "shapefile.crs is None"
   ]
  },
  {
   "cell_type": "markdown",
   "id": "298868e1-e137-4b7c-8f37-01e82e31c177",
   "metadata": {},
   "source": [
    "##### - Check shapefile crs"
   ]
  },
  {
   "cell_type": "code",
   "execution_count": 4,
   "id": "8f89519c",
   "metadata": {},
   "outputs": [
    {
     "data": {
      "text/plain": [
       "<Geographic 3D CRS: GEOGCRS[\"WGS_1984_3D\",DATUM[\"World Geodetic System ...>\n",
       "Name: WGS_1984_3D\n",
       "Axis Info [ellipsoidal]:\n",
       "- lon[east]: Longitude (Degree)\n",
       "- lat[north]: Latitude (Degree)\n",
       "- h[up]: Ellipsoidal height (metre)\n",
       "Area of Use:\n",
       "- undefined\n",
       "Datum: World Geodetic System 1984\n",
       "- Ellipsoid: WGS 84\n",
       "- Prime Meridian: Greenwich"
      ]
     },
     "execution_count": 4,
     "metadata": {},
     "output_type": "execute_result"
    }
   ],
   "source": [
    "## if shapefile.crs is None is false check the crs\n",
    "shapefile.crs"
   ]
  },
  {
   "cell_type": "markdown",
   "id": "f3ffb8cd-befd-4ba4-995f-c7d3b50c8722",
   "metadata": {},
   "source": [
    "##### - Make Geojson"
   ]
  },
  {
   "cell_type": "code",
   "execution_count": 5,
   "id": "ab072225-32ae-449d-a141-8d6b7109d26c",
   "metadata": {},
   "outputs": [],
   "source": [
    "shapefile.to_file('Sites/MCS/ROIs/MCSborder_WGS84.geojson', driver='GeoJSON')"
   ]
  },
  {
   "cell_type": "code",
   "execution_count": null,
   "id": "ee133c67",
   "metadata": {},
   "outputs": [],
   "source": [
    "## if shapefile.crs is None is true run this section\n",
    "#crs = 'epsg:8826' # set the starting datum using the epsg code\n",
    "#icesat_crs = 4979 # epsg code for WGS84\n",
    "#shapefile = shapefile.set_crs(crs)\n",
    "#shapefile = shapefile.to_crs(icesat_crs) # transform to WGS84 \n",
    "#shapefile.to_file('/Mores/MCSboundary/MoresBound_WGS84.geojson', driver='GeoJSON')"
   ]
  },
  {
   "cell_type": "code",
   "execution_count": null,
   "id": "9f0fd1bc",
   "metadata": {},
   "outputs": [],
   "source": [
    "## if shapefile.crs is not WGS84 run this section\n",
    "#icesat_crs = 4979 # epsg code for WGS84\n",
    "#shapefile = shapefile.to_crs(icesat_crs) # transform to WGS84 \n",
    "#shapefile.to_file('/Mores/MCSboundary/MoresBound_WGS84.geojson', driver='GeoJSON')"
   ]
  },
  {
   "cell_type": "markdown",
   "id": "b245490e",
   "metadata": {},
   "source": [
    "#### 2. Read in geojson for Region of Interest"
   ]
  },
  {
   "cell_type": "code",
   "execution_count": 6,
   "id": "d1897d7a",
   "metadata": {},
   "outputs": [
    {
     "data": {
      "text/plain": [
       "[{'lon': -115.69105550999866, 'lat': 43.90443498963517},\n",
       " {'lon': -115.63433182211558, 'lat': 43.93770015149147},\n",
       " {'lon': -115.6729242311569, 'lat': 43.98578181576067},\n",
       " {'lon': -115.73697536467022, 'lat': 43.95205216555316},\n",
       " {'lon': -115.69105550999866, 'lat': 43.90443498963517}]"
      ]
     },
     "execution_count": 6,
     "metadata": {},
     "output_type": "execute_result"
    }
   ],
   "source": [
    "# Specify region of interest from geojson\n",
    "poly_fn = 'Sites/MCS/ROIs/MCSborder_WGS84.geojson'\n",
    "region = sliderule.toregion(poly_fn)[\"poly\"] # symplify \n",
    "region"
   ]
  },
  {
   "cell_type": "code",
   "execution_count": 7,
   "id": "7e03aa49",
   "metadata": {},
   "outputs": [],
   "source": [
    "# Prepare coordinate lists for plotting the region of interest polygon\n",
    "region_lon = [e[\"lon\"] for e in region]\n",
    "region_lat = [e[\"lat\"] for e in region]"
   ]
  },
  {
   "cell_type": "code",
   "execution_count": 8,
   "id": "b7e4515b",
   "metadata": {},
   "outputs": [
    {
     "data": {
      "image/png": "[encoded data removed]",
      "text/plain": [
       "<Figure size 640x480 with 1 Axes>"
      ]
     },
     "metadata": {},
     "output_type": "display_data"
    }
   ],
   "source": [
    "# Read geojson with geopandas\n",
    "pregion = gpd.read_file(poly_fn)\n",
    "map = pregion.plot(); # plot origonal boundery \n",
    "map.plot(region_lon, region_lat, linewidth=1, color='g'); # plot symplified region boundery for a sanity check"
   ]
  },
  {
   "cell_type": "markdown",
   "id": "ef0c01fb",
   "metadata": {},
   "source": [
    "#### 3. Save simplified polygon"
   ]
  },
  {
   "cell_type": "code",
   "execution_count": 9,
   "id": "838867a1",
   "metadata": {},
   "outputs": [
    {
     "data": {
      "text/html": [
       "<div>\n",
       "<style scoped>\n",
       "    .dataframe tbody tr th:only-of-type {\n",
       "        vertical-align: middle;\n",
       "    }\n",
       "\n",
       "    .dataframe tbody tr th {\n",
       "        vertical-align: top;\n",
       "    }\n",
       "\n",
       "    .dataframe thead th {\n",
       "        text-align: right;\n",
       "    }\n",
       "</style>\n",
       "<table border=\"1\" class=\"dataframe\">\n",
       "  <thead>\n",
       "    <tr style=\"text-align: right;\">\n",
       "      <th></th>\n",
       "      <th>geometry</th>\n",
       "    </tr>\n",
       "  </thead>\n",
       "  <tbody>\n",
       "    <tr>\n",
       "      <th>0</th>\n",
       "      <td>POLYGON ((-115.69106 43.90443, -115.63433 43.9...</td>\n",
       "    </tr>\n",
       "  </tbody>\n",
       "</table>\n",
       "</div>"
      ],
      "text/plain": [
       "                                            geometry\n",
       "0  POLYGON ((-115.69106 43.90443, -115.63433 43.9..."
      ]
     },
     "execution_count": 9,
     "metadata": {},
     "output_type": "execute_result"
    }
   ],
   "source": [
    "polygon_geom = Polygon(zip(region_lon, region_lat))\n",
    "crs = 'epsg:4979'\n",
    "polygon = gpd.GeoDataFrame(index=[0], geometry=[polygon_geom])       \n",
    "\n",
    "polygon"
   ]
  },
  {
   "cell_type": "markdown",
   "id": "ccac8cb6-9434-413b-960f-ee0aeb5e5f51",
   "metadata": {},
   "source": [
    "### Save to file if you haven't already"
   ]
  },
  {
   "cell_type": "code",
   "execution_count": 10,
   "id": "3cb564bd",
   "metadata": {},
   "outputs": [],
   "source": [
    "polygon.to_file('Sites/MCS/ROIs/MCSborder_WGS84_simple.geojson', driver='GeoJSON')"
   ]
  },
  {
   "cell_type": "markdown",
   "id": "50f97261",
   "metadata": {},
   "source": [
    "# Sliderule Product processing\n",
    "\n",
    "Follow the processing section for the desired product"
   ]
  },
  {
   "cell_type": "markdown",
   "id": "7f339266-a0bf-4e9c-aecd-5f994de53118",
   "metadata": {},
   "source": [
    "### - ATL06 and ATL06_classified processing \n",
    "\n",
    "Chose ATL06 or ATL06_clssified parameters depending on what product you are downloading"
   ]
  },
  {
   "cell_type": "markdown",
   "id": "5378c061-957b-4569-a3ed-9443312b3e07",
   "metadata": {},
   "source": [
    "#### ATL06 Parameters"
   ]
  },
  {
   "cell_type": "code",
   "execution_count": null,
   "id": "31c5d508",
   "metadata": {},
   "outputs": [],
   "source": [
    "parms = {\n",
    "    \"poly\": region,\n",
    "    \"srt\": 0,\n",
    "    \"cnf\": icesat2.CNF_SURFACE_HIGH, \n",
    "    \"ats\": 20.0,\n",
    "    \"cnt\": 10,\n",
    "    \"len\": 40.0,\n",
    "    \"res\": 20.0,\n",
    "    \"maxi\": 6\n",
    "}\n",
    "cvs_name = \"Sites/MCS/ROIs/MCS-ICESat2-ATL06.csv\" #set name of the output"
   ]
  },
  {
   "cell_type": "markdown",
   "id": "f20717b5-5291-41b4-9b69-9de606019996",
   "metadata": {},
   "source": [
    "#### ATL06_classified Parameters"
   ]
  },
  {
   "cell_type": "code",
   "execution_count": 11,
   "id": "2899c941-df09-43e1-893f-184264c12cc9",
   "metadata": {},
   "outputs": [],
   "source": [
    "parms = {\n",
    "    \"poly\": region,\n",
    "    \"srt\": 0,\n",
    "    \"atl08_class\": \"atl08_ground\",\n",
    "    \"cnf\": icesat2.CNF_BACKGROUND, \n",
    "    \"ats\": 20.0,\n",
    "    \"cnt\": 10,\n",
    "    \"len\": 40.0,\n",
    "    \"res\": 20.0,\n",
    "    \"maxi\": 6\n",
    "}\n",
    "cvs_name = \"Sites/MCS/ROIs/MCS-ICESat2-ATL06-atl08class.csv\" #set name of the output"
   ]
  },
  {
   "cell_type": "markdown",
   "id": "643067ae-0ff8-4f07-bdc5-357fcf44a0de",
   "metadata": {},
   "source": [
    "#### Calculate Elevations"
   ]
  },
  {
   "cell_type": "code",
   "execution_count": 12,
   "id": "aa64d478",
   "metadata": {},
   "outputs": [
    {
     "name": "stdout",
     "output_type": "stream",
     "text": [
      "Completed in 20.602 seconds of wall-clock time\n",
      "Received 24355 elevations\n"
     ]
    }
   ],
   "source": [
    "# Latch Start Time\n",
    "perf_start = time.perf_counter()\n",
    "\n",
    "# Request ATL06 Data\n",
    "data = icesat2.atl06p(parms)\n",
    "\n",
    "# Latch Stop Time\n",
    "perf_stop = time.perf_counter()\n",
    "\n",
    "# Display Statistics\n",
    "perf_duration = perf_stop - perf_start\n",
    "print(\"Completed in {:.3f} seconds of wall-clock time\".format(perf_duration))\n",
    "#print(\"Reference Ground Tracks: {}\".format(atl06_sr[\"rgt\"].unique()))\n",
    "#print(\"Cycles: {}\".format(atl06_sr[\"cycle\"].unique()))\n",
    "print(\"Received {} elevations\".format(data.shape[0]))"
   ]
  },
  {
   "cell_type": "markdown",
   "id": "c7c141ca",
   "metadata": {},
   "source": [
    "## Plot ATL06 Results "
   ]
  },
  {
   "cell_type": "code",
   "execution_count": 13,
   "id": "6800cb28",
   "metadata": {},
   "outputs": [
    {
     "data": {
      "image/png": "[encoded data removed]",
      "text/plain": [
       "<Figure size 640x480 with 1 Axes>"
      ]
     },
     "metadata": {},
     "output_type": "display_data"
    }
   ],
   "source": [
    "f, ax = plt.subplots()\n",
    "ax.set_title(\"ICESat-2 Points\")\n",
    "ax.set_aspect('equal')\n",
    "data.plot(ax=ax, column='h_mean', cmap='inferno', s=0.1)\n",
    "ax.plot(region_lon, region_lat, linewidth=1, color='g');"
   ]
  },
  {
   "cell_type": "markdown",
   "id": "c8035b51-4b6f-4969-b0e4-d9b7a7e6b416",
   "metadata": {},
   "source": [
    "## Data Check"
   ]
  },
  {
   "cell_type": "code",
   "execution_count": 14,
   "id": "b633ec89",
   "metadata": {},
   "outputs": [
    {
     "data": {
      "text/html": [
       "<div>\n",
       "<style scoped>\n",
       "    .dataframe tbody tr th:only-of-type {\n",
       "        vertical-align: middle;\n",
       "    }\n",
       "\n",
       "    .dataframe tbody tr th {\n",
       "        vertical-align: top;\n",
       "    }\n",
       "\n",
       "    .dataframe thead th {\n",
       "        text-align: right;\n",
       "    }\n",
       "</style>\n",
       "<table border=\"1\" class=\"dataframe\">\n",
       "  <thead>\n",
       "    <tr style=\"text-align: right;\">\n",
       "      <th></th>\n",
       "      <th>dh_fit_dx</th>\n",
       "      <th>rgt</th>\n",
       "      <th>n_fit_photons</th>\n",
       "      <th>segment_id</th>\n",
       "      <th>y_atc</th>\n",
       "      <th>region</th>\n",
       "      <th>spot</th>\n",
       "      <th>h_mean</th>\n",
       "      <th>pflags</th>\n",
       "      <th>h_sigma</th>\n",
       "      <th>rms_misfit</th>\n",
       "      <th>x_atc</th>\n",
       "      <th>cycle</th>\n",
       "      <th>w_surface_window_final</th>\n",
       "      <th>gt</th>\n",
       "      <th>geometry</th>\n",
       "      <th>Longitude</th>\n",
       "      <th>Latitude</th>\n",
       "      <th>Easting</th>\n",
       "      <th>Northing</th>\n",
       "    </tr>\n",
       "    <tr>\n",
       "      <th>time</th>\n",
       "      <th></th>\n",
       "      <th></th>\n",
       "      <th></th>\n",
       "      <th></th>\n",
       "      <th></th>\n",
       "      <th></th>\n",
       "      <th></th>\n",
       "      <th></th>\n",
       "      <th></th>\n",
       "      <th></th>\n",
       "      <th></th>\n",
       "      <th></th>\n",
       "      <th></th>\n",
       "      <th></th>\n",
       "      <th></th>\n",
       "      <th></th>\n",
       "      <th></th>\n",
       "      <th></th>\n",
       "      <th></th>\n",
       "      <th></th>\n",
       "    </tr>\n",
       "  </thead>\n",
       "  <tbody>\n",
       "    <tr>\n",
       "      <th>2018-11-25 09:24:46.820481280</th>\n",
       "      <td>0.170260</td>\n",
       "      <td>882</td>\n",
       "      <td>16</td>\n",
       "      <td>757725</td>\n",
       "      <td>3955.413574</td>\n",
       "      <td>6</td>\n",
       "      <td>6</td>\n",
       "      <td>2228.691337</td>\n",
       "      <td>0</td>\n",
       "      <td>0.121136</td>\n",
       "      <td>0.476089</td>\n",
       "      <td>15176590.0</td>\n",
       "      <td>1</td>\n",
       "      <td>4.384499</td>\n",
       "      <td>10</td>\n",
       "      <td>POINT (-115.69928 43.97167)</td>\n",
       "      <td>-115.699285</td>\n",
       "      <td>43.971674</td>\n",
       "      <td>604334.865191</td>\n",
       "      <td>4.869549e+06</td>\n",
       "    </tr>\n",
       "    <tr>\n",
       "      <th>2018-11-25 09:24:46.823287040</th>\n",
       "      <td>0.153084</td>\n",
       "      <td>882</td>\n",
       "      <td>14</td>\n",
       "      <td>757726</td>\n",
       "      <td>3955.415771</td>\n",
       "      <td>6</td>\n",
       "      <td>6</td>\n",
       "      <td>2231.849002</td>\n",
       "      <td>0</td>\n",
       "      <td>0.155814</td>\n",
       "      <td>0.462323</td>\n",
       "      <td>15176610.0</td>\n",
       "      <td>1</td>\n",
       "      <td>3.951268</td>\n",
       "      <td>10</td>\n",
       "      <td>POINT (-115.69931 43.97149)</td>\n",
       "      <td>-115.699309</td>\n",
       "      <td>43.971495</td>\n",
       "      <td>604333.262354</td>\n",
       "      <td>4.869529e+06</td>\n",
       "    </tr>\n",
       "    <tr>\n",
       "      <th>2018-11-25 09:24:46.831732992</th>\n",
       "      <td>0.162604</td>\n",
       "      <td>882</td>\n",
       "      <td>10</td>\n",
       "      <td>757729</td>\n",
       "      <td>3955.408203</td>\n",
       "      <td>6</td>\n",
       "      <td>6</td>\n",
       "      <td>2242.514471</td>\n",
       "      <td>0</td>\n",
       "      <td>0.150072</td>\n",
       "      <td>0.470965</td>\n",
       "      <td>15176670.0</td>\n",
       "      <td>1</td>\n",
       "      <td>4.191274</td>\n",
       "      <td>10</td>\n",
       "      <td>POINT (-115.69938 43.97096)</td>\n",
       "      <td>-115.699381</td>\n",
       "      <td>43.970956</td>\n",
       "      <td>604328.430199</td>\n",
       "      <td>4.869469e+06</td>\n",
       "    </tr>\n",
       "    <tr>\n",
       "      <th>2018-11-25 09:24:46.837370624</th>\n",
       "      <td>0.175811</td>\n",
       "      <td>882</td>\n",
       "      <td>11</td>\n",
       "      <td>757731</td>\n",
       "      <td>3955.382812</td>\n",
       "      <td>6</td>\n",
       "      <td>6</td>\n",
       "      <td>2248.742279</td>\n",
       "      <td>0</td>\n",
       "      <td>0.199878</td>\n",
       "      <td>0.574689</td>\n",
       "      <td>15176710.0</td>\n",
       "      <td>1</td>\n",
       "      <td>4.524710</td>\n",
       "      <td>10</td>\n",
       "      <td>POINT (-115.69943 43.97060)</td>\n",
       "      <td>-115.699429</td>\n",
       "      <td>43.970597</td>\n",
       "      <td>604325.188433</td>\n",
       "      <td>4.869429e+06</td>\n",
       "    </tr>\n",
       "    <tr>\n",
       "      <th>2018-11-25 09:24:46.840189952</th>\n",
       "      <td>0.167958</td>\n",
       "      <td>882</td>\n",
       "      <td>12</td>\n",
       "      <td>757732</td>\n",
       "      <td>3955.352783</td>\n",
       "      <td>6</td>\n",
       "      <td>6</td>\n",
       "      <td>2252.139523</td>\n",
       "      <td>0</td>\n",
       "      <td>0.153579</td>\n",
       "      <td>0.531817</td>\n",
       "      <td>15176730.0</td>\n",
       "      <td>1</td>\n",
       "      <td>4.326377</td>\n",
       "      <td>10</td>\n",
       "      <td>POINT (-115.69945 43.97042)</td>\n",
       "      <td>-115.699453</td>\n",
       "      <td>43.970417</td>\n",
       "      <td>604323.550392</td>\n",
       "      <td>4.869409e+06</td>\n",
       "    </tr>\n",
       "    <tr>\n",
       "      <th>...</th>\n",
       "      <td>...</td>\n",
       "      <td>...</td>\n",
       "      <td>...</td>\n",
       "      <td>...</td>\n",
       "      <td>...</td>\n",
       "      <td>...</td>\n",
       "      <td>...</td>\n",
       "      <td>...</td>\n",
       "      <td>...</td>\n",
       "      <td>...</td>\n",
       "      <td>...</td>\n",
       "      <td>...</td>\n",
       "      <td>...</td>\n",
       "      <td>...</td>\n",
       "      <td>...</td>\n",
       "      <td>...</td>\n",
       "      <td>...</td>\n",
       "      <td>...</td>\n",
       "      <td>...</td>\n",
       "      <td>...</td>\n",
       "    </tr>\n",
       "    <tr>\n",
       "      <th>2024-04-16 11:23:26.085279744</th>\n",
       "      <td>-0.078674</td>\n",
       "      <td>440</td>\n",
       "      <td>63</td>\n",
       "      <td>757899</td>\n",
       "      <td>27703.554688</td>\n",
       "      <td>6</td>\n",
       "      <td>3</td>\n",
       "      <td>2029.433608</td>\n",
       "      <td>0</td>\n",
       "      <td>0.046114</td>\n",
       "      <td>0.340923</td>\n",
       "      <td>15180217.0</td>\n",
       "      <td>23</td>\n",
       "      <td>3.666181</td>\n",
       "      <td>40</td>\n",
       "      <td>POINT (-115.66887 43.91829)</td>\n",
       "      <td>-115.668873</td>\n",
       "      <td>43.918287</td>\n",
       "      <td>606869.896610</td>\n",
       "      <td>4.863658e+06</td>\n",
       "    </tr>\n",
       "    <tr>\n",
       "      <th>2024-04-16 11:23:26.088102400</th>\n",
       "      <td>-0.040331</td>\n",
       "      <td>440</td>\n",
       "      <td>77</td>\n",
       "      <td>757900</td>\n",
       "      <td>27703.433594</td>\n",
       "      <td>6</td>\n",
       "      <td>3</td>\n",
       "      <td>2028.237643</td>\n",
       "      <td>0</td>\n",
       "      <td>0.045523</td>\n",
       "      <td>0.398625</td>\n",
       "      <td>15180237.0</td>\n",
       "      <td>23</td>\n",
       "      <td>3.000000</td>\n",
       "      <td>40</td>\n",
       "      <td>POINT (-115.66890 43.91811)</td>\n",
       "      <td>-115.668900</td>\n",
       "      <td>43.918108</td>\n",
       "      <td>606868.104210</td>\n",
       "      <td>4.863638e+06</td>\n",
       "    </tr>\n",
       "    <tr>\n",
       "      <th>2024-04-16 11:23:26.090921984</th>\n",
       "      <td>-0.032255</td>\n",
       "      <td>440</td>\n",
       "      <td>54</td>\n",
       "      <td>757901</td>\n",
       "      <td>27703.277344</td>\n",
       "      <td>6</td>\n",
       "      <td>3</td>\n",
       "      <td>2027.470258</td>\n",
       "      <td>0</td>\n",
       "      <td>0.048991</td>\n",
       "      <td>0.345685</td>\n",
       "      <td>15180257.0</td>\n",
       "      <td>23</td>\n",
       "      <td>3.000000</td>\n",
       "      <td>40</td>\n",
       "      <td>POINT (-115.66893 43.91793)</td>\n",
       "      <td>-115.668926</td>\n",
       "      <td>43.917929</td>\n",
       "      <td>606866.275508</td>\n",
       "      <td>4.863618e+06</td>\n",
       "    </tr>\n",
       "    <tr>\n",
       "      <th>2024-04-16 11:23:26.093738240</th>\n",
       "      <td>-0.020649</td>\n",
       "      <td>440</td>\n",
       "      <td>48</td>\n",
       "      <td>757902</td>\n",
       "      <td>27703.115234</td>\n",
       "      <td>6</td>\n",
       "      <td>3</td>\n",
       "      <td>2026.895071</td>\n",
       "      <td>0</td>\n",
       "      <td>0.044860</td>\n",
       "      <td>0.304036</td>\n",
       "      <td>15180277.0</td>\n",
       "      <td>23</td>\n",
       "      <td>3.000000</td>\n",
       "      <td>40</td>\n",
       "      <td>POINT (-115.66895 43.91775)</td>\n",
       "      <td>-115.668953</td>\n",
       "      <td>43.917749</td>\n",
       "      <td>606864.439845</td>\n",
       "      <td>4.863598e+06</td>\n",
       "    </tr>\n",
       "    <tr>\n",
       "      <th>2024-04-16 11:23:26.096551168</th>\n",
       "      <td>0.037077</td>\n",
       "      <td>440</td>\n",
       "      <td>64</td>\n",
       "      <td>757903</td>\n",
       "      <td>27702.925781</td>\n",
       "      <td>6</td>\n",
       "      <td>3</td>\n",
       "      <td>2026.989479</td>\n",
       "      <td>0</td>\n",
       "      <td>0.050138</td>\n",
       "      <td>0.399059</td>\n",
       "      <td>15180297.0</td>\n",
       "      <td>23</td>\n",
       "      <td>3.000000</td>\n",
       "      <td>40</td>\n",
       "      <td>POINT (-115.66898 43.91757)</td>\n",
       "      <td>-115.668980</td>\n",
       "      <td>43.917570</td>\n",
       "      <td>606862.579508</td>\n",
       "      <td>4.863578e+06</td>\n",
       "    </tr>\n",
       "  </tbody>\n",
       "</table>\n",
       "<p>24355 rows × 20 columns</p>\n",
       "</div>"
      ],
      "text/plain": [
       "                               dh_fit_dx  rgt  n_fit_photons  segment_id  \\\n",
       "time                                                                       \n",
       "2018-11-25 09:24:46.820481280   0.170260  882             16      757725   \n",
       "2018-11-25 09:24:46.823287040   0.153084  882             14      757726   \n",
       "2018-11-25 09:24:46.831732992   0.162604  882             10      757729   \n",
       "2018-11-25 09:24:46.837370624   0.175811  882             11      757731   \n",
       "2018-11-25 09:24:46.840189952   0.167958  882             12      757732   \n",
       "...                                  ...  ...            ...         ...   \n",
       "2024-04-16 11:23:26.085279744  -0.078674  440             63      757899   \n",
       "2024-04-16 11:23:26.088102400  -0.040331  440             77      757900   \n",
       "2024-04-16 11:23:26.090921984  -0.032255  440             54      757901   \n",
       "2024-04-16 11:23:26.093738240  -0.020649  440             48      757902   \n",
       "2024-04-16 11:23:26.096551168   0.037077  440             64      757903   \n",
       "\n",
       "                                      y_atc  region  spot       h_mean  \\\n",
       "time                                                                     \n",
       "2018-11-25 09:24:46.820481280   3955.413574       6     6  2228.691337   \n",
       "2018-11-25 09:24:46.823287040   3955.415771       6     6  2231.849002   \n",
       "2018-11-25 09:24:46.831732992   3955.408203       6     6  2242.514471   \n",
       "2018-11-25 09:24:46.837370624   3955.382812       6     6  2248.742279   \n",
       "2018-11-25 09:24:46.840189952   3955.352783       6     6  2252.139523   \n",
       "...                                     ...     ...   ...          ...   \n",
       "2024-04-16 11:23:26.085279744  27703.554688       6     3  2029.433608   \n",
       "2024-04-16 11:23:26.088102400  27703.433594       6     3  2028.237643   \n",
       "2024-04-16 11:23:26.090921984  27703.277344       6     3  2027.470258   \n",
       "2024-04-16 11:23:26.093738240  27703.115234       6     3  2026.895071   \n",
       "2024-04-16 11:23:26.096551168  27702.925781       6     3  2026.989479   \n",
       "\n",
       "                               pflags   h_sigma  rms_misfit       x_atc  \\\n",
       "time                                                                      \n",
       "2018-11-25 09:24:46.820481280       0  0.121136    0.476089  15176590.0   \n",
       "2018-11-25 09:24:46.823287040       0  0.155814    0.462323  15176610.0   \n",
       "2018-11-25 09:24:46.831732992       0  0.150072    0.470965  15176670.0   \n",
       "2018-11-25 09:24:46.837370624       0  0.199878    0.574689  15176710.0   \n",
       "2018-11-25 09:24:46.840189952       0  0.153579    0.531817  15176730.0   \n",
       "...                               ...       ...         ...         ...   \n",
       "2024-04-16 11:23:26.085279744       0  0.046114    0.340923  15180217.0   \n",
       "2024-04-16 11:23:26.088102400       0  0.045523    0.398625  15180237.0   \n",
       "2024-04-16 11:23:26.090921984       0  0.048991    0.345685  15180257.0   \n",
       "2024-04-16 11:23:26.093738240       0  0.044860    0.304036  15180277.0   \n",
       "2024-04-16 11:23:26.096551168       0  0.050138    0.399059  15180297.0   \n",
       "\n",
       "                               cycle  w_surface_window_final  gt  \\\n",
       "time                                                               \n",
       "2018-11-25 09:24:46.820481280      1                4.384499  10   \n",
       "2018-11-25 09:24:46.823287040      1                3.951268  10   \n",
       "2018-11-25 09:24:46.831732992      1                4.191274  10   \n",
       "2018-11-25 09:24:46.837370624      1                4.524710  10   \n",
       "2018-11-25 09:24:46.840189952      1                4.326377  10   \n",
       "...                              ...                     ...  ..   \n",
       "2024-04-16 11:23:26.085279744     23                3.666181  40   \n",
       "2024-04-16 11:23:26.088102400     23                3.000000  40   \n",
       "2024-04-16 11:23:26.090921984     23                3.000000  40   \n",
       "2024-04-16 11:23:26.093738240     23                3.000000  40   \n",
       "2024-04-16 11:23:26.096551168     23                3.000000  40   \n",
       "\n",
       "                                                  geometry   Longitude  \\\n",
       "time                                                                     \n",
       "2018-11-25 09:24:46.820481280  POINT (-115.69928 43.97167) -115.699285   \n",
       "2018-11-25 09:24:46.823287040  POINT (-115.69931 43.97149) -115.699309   \n",
       "2018-11-25 09:24:46.831732992  POINT (-115.69938 43.97096) -115.699381   \n",
       "2018-11-25 09:24:46.837370624  POINT (-115.69943 43.97060) -115.699429   \n",
       "2018-11-25 09:24:46.840189952  POINT (-115.69945 43.97042) -115.699453   \n",
       "...                                                    ...         ...   \n",
       "2024-04-16 11:23:26.085279744  POINT (-115.66887 43.91829) -115.668873   \n",
       "2024-04-16 11:23:26.088102400  POINT (-115.66890 43.91811) -115.668900   \n",
       "2024-04-16 11:23:26.090921984  POINT (-115.66893 43.91793) -115.668926   \n",
       "2024-04-16 11:23:26.093738240  POINT (-115.66895 43.91775) -115.668953   \n",
       "2024-04-16 11:23:26.096551168  POINT (-115.66898 43.91757) -115.668980   \n",
       "\n",
       "                                Latitude        Easting      Northing  \n",
       "time                                                                   \n",
       "2018-11-25 09:24:46.820481280  43.971674  604334.865191  4.869549e+06  \n",
       "2018-11-25 09:24:46.823287040  43.971495  604333.262354  4.869529e+06  \n",
       "2018-11-25 09:24:46.831732992  43.970956  604328.430199  4.869469e+06  \n",
       "2018-11-25 09:24:46.837370624  43.970597  604325.188433  4.869429e+06  \n",
       "2018-11-25 09:24:46.840189952  43.970417  604323.550392  4.869409e+06  \n",
       "...                                  ...            ...           ...  \n",
       "2024-04-16 11:23:26.085279744  43.918287  606869.896610  4.863658e+06  \n",
       "2024-04-16 11:23:26.088102400  43.918108  606868.104210  4.863638e+06  \n",
       "2024-04-16 11:23:26.090921984  43.917929  606866.275508  4.863618e+06  \n",
       "2024-04-16 11:23:26.093738240  43.917749  606864.439845  4.863598e+06  \n",
       "2024-04-16 11:23:26.096551168  43.917570  606862.579508  4.863578e+06  \n",
       "\n",
       "[24355 rows x 20 columns]"
      ]
     },
     "execution_count": 14,
     "metadata": {},
     "output_type": "execute_result"
    }
   ],
   "source": [
    "#Set utmzone code - utm zone 11:32611\n",
    "utm_code = 'epsg:32611' \n",
    "\n",
    "data['Longitude'] = data['geometry'].x\n",
    "data['Latitude'] = data['geometry'].y\n",
    "eastnorths = data['geometry'].to_crs(utm_code)\n",
    "data['Easting'] = eastnorths.x\n",
    "data['Northing'] = eastnorths.y\n",
    "data"
   ]
  },
  {
   "cell_type": "markdown",
   "id": "1a407769",
   "metadata": {},
   "source": [
    "## Write CSV - ATL06"
   ]
  },
  {
   "cell_type": "code",
   "execution_count": 15,
   "id": "729f0e80",
   "metadata": {},
   "outputs": [],
   "source": [
    "data.to_csv(cvs_name)"
   ]
  },
  {
   "cell_type": "code",
   "execution_count": null,
   "id": "7a41a04d-5b6e-4409-a742-4119f5f41b87",
   "metadata": {},
   "outputs": [],
   "source": []
  }
 ],
 "metadata": {
  "kernelspec": {
   "display_name": "Python 3 (ipykernel)",
   "language": "python",
   "name": "python3"
  },
  "language_info": {
   "codemirror_mode": {
    "name": "ipython",
    "version": 3
   },
   "file_extension": ".py",
   "mimetype": "text/x-python",
   "name": "python",
   "nbconvert_exporter": "python",
   "pygments_lexer": "ipython3",
   "version": "3.11.6"
  }
 },
 "nbformat": 4,
 "nbformat_minor": 5
}
