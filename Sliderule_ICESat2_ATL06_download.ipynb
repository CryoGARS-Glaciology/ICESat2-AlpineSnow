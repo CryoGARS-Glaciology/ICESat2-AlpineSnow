{
 "cells": [
  {
   "cell_type": "markdown",
   "id": "adec21b9",
   "metadata": {},
   "source": [
    "## ICESat-2 SlideRule Download\n",
    "\n",
    "This code is adapted from Sliderule Python example code. It is designed to calculate ATL06 elevations from ALT03 points and save those elevations as a CSV. \n",
    "\n",
    "Activate the sliderule_env enviroment to run\n",
    "\n",
    "Last updated by Karina Zikan July 2023"
   ]
  },
  {
   "cell_type": "code",
   "execution_count": 2,
   "id": "125f7cc2",
   "metadata": {},
   "outputs": [
    {
     "name": "stdout",
     "output_type": "stream",
     "text": [
      "Defaulting to user installation because normal site-packages is not writeable\n",
      "Collecting matplotlib\n",
      "  Downloading matplotlib-3.9.2-cp310-cp310-macosx_10_12_x86_64.whl (7.9 MB)\n",
      "\u001b[K     |████████████████████████████████| 7.9 MB 2.4 MB/s eta 0:00:01\n",
      "\u001b[?25hRequirement already satisfied: packaging>=20.0 in /Library/Frameworks/Python.framework/Versions/3.10/lib/python3.10/site-packages (from matplotlib) (21.3)\n",
      "Requirement already satisfied: pillow>=8 in /Users/karinazikan/Library/Python/3.10/lib/python/site-packages (from matplotlib) (11.0.0)\n",
      "Requirement already satisfied: python-dateutil>=2.7 in /Library/Frameworks/Python.framework/Versions/3.10/lib/python3.10/site-packages (from matplotlib) (2.8.2)\n",
      "Requirement already satisfied: numpy>=1.23 in /Users/karinazikan/Library/Python/3.10/lib/python/site-packages (from matplotlib) (2.1.2)\n",
      "Collecting cycler>=0.10\n",
      "  Downloading cycler-0.12.1-py3-none-any.whl (8.3 kB)\n",
      "Collecting kiwisolver>=1.3.1\n",
      "  Downloading kiwisolver-1.4.7-cp310-cp310-macosx_10_9_x86_64.whl (65 kB)\n",
      "\u001b[K     |████████████████████████████████| 65 kB 6.7 MB/s eta 0:00:01\n",
      "\u001b[?25hCollecting contourpy>=1.0.1\n",
      "  Downloading contourpy-1.3.0-cp310-cp310-macosx_10_9_x86_64.whl (265 kB)\n",
      "\u001b[K     |████████████████████████████████| 265 kB 7.0 MB/s eta 0:00:01\n",
      "\u001b[?25hRequirement already satisfied: pyparsing>=2.3.1 in /Library/Frameworks/Python.framework/Versions/3.10/lib/python3.10/site-packages (from matplotlib) (3.0.7)\n",
      "Collecting fonttools>=4.22.0\n",
      "  Downloading fonttools-4.54.1-cp310-cp310-macosx_10_9_universal2.whl (2.8 MB)\n",
      "\u001b[K     |████████████████████████████████| 2.8 MB 9.4 MB/s eta 0:00:01\n",
      "\u001b[?25hRequirement already satisfied: six>=1.5 in /Library/Frameworks/Python.framework/Versions/3.10/lib/python3.10/site-packages (from python-dateutil>=2.7->matplotlib) (1.16.0)\n",
      "Installing collected packages: kiwisolver, fonttools, cycler, contourpy, matplotlib\n",
      "\u001b[33m  WARNING: The scripts fonttools, pyftmerge, pyftsubset and ttx are installed in '/Users/karinazikan/Library/Python/3.10/bin' which is not on PATH.\n",
      "  Consider adding this directory to PATH or, if you prefer to suppress this warning, use --no-warn-script-location.\u001b[0m\n",
      "Successfully installed contourpy-1.3.0 cycler-0.12.1 fonttools-4.54.1 kiwisolver-1.4.7 matplotlib-3.9.2\n",
      "\u001b[33mWARNING: You are using pip version 21.2.4; however, version 24.2 is available.\n",
      "You should consider upgrading via the '/Library/Frameworks/Python.framework/Versions/3.10/bin/python3.10 -m pip install --upgrade pip' command.\u001b[0m\n",
      "Note: you may need to restart the kernel to use updated packages.\n"
     ]
    }
   ],
   "source": []
  },
  {
   "cell_type": "code",
   "execution_count": 1,
   "id": "2c4a16f4",
   "metadata": {},
   "outputs": [],
   "source": [
    "import sys\n",
    "import logging\n",
    "import concurrent.futures\n",
    "import time\n",
    "from datetime import datetime\n",
    "import pandas as pd\n",
    "import geopandas as gpd\n",
    "import matplotlib.pyplot as plt\n",
    "from pyproj import Transformer, CRS\n",
    "from shapely.geometry import Polygon, Point\n",
    "from sliderule import sliderule, icesat2, earthdata, h5"
   ]
  },
  {
   "cell_type": "markdown",
   "id": "9af7ad61",
   "metadata": {},
   "source": [
    "## SlideRule Configuration"
   ]
  },
  {
   "cell_type": "code",
   "execution_count": 2,
   "id": "f01cf9d3",
   "metadata": {},
   "outputs": [],
   "source": [
    "# Configure ICESat-2 API\n",
    "icesat2.init(\"slideruleearth.io\", verbose=False)"
   ]
  },
  {
   "cell_type": "markdown",
   "id": "4da5abf9",
   "metadata": {},
   "source": [
    "## Specify Region of Interest"
   ]
  },
  {
   "cell_type": "markdown",
   "id": "df0dd474",
   "metadata": {},
   "source": [
    "#### 1. Make geojson from shapefile - if you have a geojson of the region skip to 2."
   ]
  },
  {
   "cell_type": "code",
   "execution_count": 12,
   "id": "7be0c803",
   "metadata": {},
   "outputs": [
    {
     "data": {
      "text/plain": [
       "False"
      ]
     },
     "execution_count": 12,
     "metadata": {},
     "output_type": "execute_result"
    }
   ],
   "source": [
    "# Specify region of interest shapefile\n",
    "shp = \"Sites/RCEW/ROIs/RCEW-outline_WGS84.shp\"\n",
    "shapefile = gpd.read_file(shp)\n",
    "# shapefile.to_file('DryCreek/boundDCEW/boundDCEW_WGS84.geojson', driver='GeoJSON')\n",
    "shapefile.crs is None"
   ]
  },
  {
   "cell_type": "markdown",
   "id": "298868e1-e137-4b7c-8f37-01e82e31c177",
   "metadata": {},
   "source": [
    "##### - Check shapefile crs"
   ]
  },
  {
   "cell_type": "code",
   "execution_count": 13,
   "id": "8f89519c",
   "metadata": {},
   "outputs": [
    {
     "data": {
      "text/plain": [
       "<Geographic 2D CRS: EPSG:4326>\n",
       "Name: WGS 84\n",
       "Axis Info [ellipsoidal]:\n",
       "- Lat[north]: Geodetic latitude (degree)\n",
       "- Lon[east]: Geodetic longitude (degree)\n",
       "Area of Use:\n",
       "- name: World.\n",
       "- bounds: (-180.0, -90.0, 180.0, 90.0)\n",
       "Datum: World Geodetic System 1984 ensemble\n",
       "- Ellipsoid: WGS 84\n",
       "- Prime Meridian: Greenwich"
      ]
     },
     "execution_count": 13,
     "metadata": {},
     "output_type": "execute_result"
    }
   ],
   "source": [
    "## if shapefile.crs is None is false check the crs\n",
    "shapefile.crs"
   ]
  },
  {
   "cell_type": "markdown",
   "id": "f3ffb8cd-befd-4ba4-995f-c7d3b50c8722",
   "metadata": {},
   "source": [
    "##### - Make Geojson"
   ]
  },
  {
   "cell_type": "code",
   "execution_count": 7,
   "id": "ab072225-32ae-449d-a141-8d6b7109d26c",
   "metadata": {},
   "outputs": [],
   "source": [
    "#shapefile.to_file('Sites/DCEW/ROIs/DCEW2bound_WGS84.geojson', driver='GeoJSON')"
   ]
  },
  {
   "cell_type": "code",
   "execution_count": null,
   "id": "ee133c67",
   "metadata": {},
   "outputs": [],
   "source": [
    "## if shapefile.crs is None is true run this section\n",
    "#crs = 'epsg:8826' # set the starting datum using the epsg code\n",
    "#icesat_crs = 4979 # epsg code for WGS84\n",
    "#shapefile = shapefile.set_crs(crs)\n",
    "#shapefile = shapefile.to_crs(icesat_crs) # transform to WGS84 \n",
    "#shapefile.to_file('/Mores/MCSboundary/MoresBound_WGS84.geojson', driver='GeoJSON')"
   ]
  },
  {
   "cell_type": "code",
   "execution_count": null,
   "id": "9f0fd1bc",
   "metadata": {},
   "outputs": [],
   "source": [
    "## if shapefile.crs is not WGS84 run this section\n",
    "#icesat_crs = 4979 # epsg code for WGS84\n",
    "#shapefile = shapefile.to_crs(icesat_crs) # transform to WGS84 \n",
    "#shapefile.to_file('/Mores/MCSboundary/MoresBound_WGS84.geojson', driver='GeoJSON')"
   ]
  },
  {
   "cell_type": "markdown",
   "id": "b245490e",
   "metadata": {},
   "source": [
    "#### 2. Read in geojson for Region of Interest"
   ]
  },
  {
   "cell_type": "code",
   "execution_count": 14,
   "id": "d1897d7a",
   "metadata": {},
   "outputs": [
    {
     "data": {
      "text/plain": [
       "[{'lon': -116.799, 'lat': 43.06089},\n",
       " {'lon': -116.7954, 'lat': 43.06089},\n",
       " {'lon': -116.7481, 'lat': 43.06268},\n",
       " {'lon': -116.747, 'lat': 43.06295},\n",
       " {'lon': -116.7411, 'lat': 43.06456},\n",
       " {'lon': -116.7409, 'lat': 43.06469},\n",
       " {'lon': -116.7392, 'lat': 43.06591},\n",
       " {'lon': -116.7379, 'lat': 43.06712},\n",
       " {'lon': -116.7179, 'lat': 43.09706},\n",
       " {'lon': -116.7008, 'lat': 43.12889},\n",
       " {'lon': -116.6963, 'lat': 43.13834},\n",
       " {'lon': -116.696, 'lat': 43.13915},\n",
       " {'lon': -116.6922, 'lat': 43.15454},\n",
       " {'lon': -116.6881, 'lat': 43.22341},\n",
       " {'lon': -116.6881, 'lat': 43.22476},\n",
       " {'lon': -116.6947, 'lat': 43.24693},\n",
       " {'lon': -116.6954, 'lat': 43.24828},\n",
       " {'lon': -116.6958, 'lat': 43.24883},\n",
       " {'lon': -116.702, 'lat': 43.2564},\n",
       " {'lon': -116.7022, 'lat': 43.25654},\n",
       " {'lon': -116.7579, 'lat': 43.2872},\n",
       " {'lon': -116.7605, 'lat': 43.28828},\n",
       " {'lon': -116.7612, 'lat': 43.28856},\n",
       " {'lon': -116.8199, 'lat': 43.31163},\n",
       " {'lon': -116.8251, 'lat': 43.31298},\n",
       " {'lon': -116.8266, 'lat': 43.31218},\n",
       " {'lon': -116.8303, 'lat': 43.31002},\n",
       " {'lon': -116.8305, 'lat': 43.30989},\n",
       " {'lon': -116.8559, 'lat': 43.29223},\n",
       " {'lon': -116.8561, 'lat': 43.29209},\n",
       " {'lon': -116.8564, 'lat': 43.29182},\n",
       " {'lon': -116.8594, 'lat': 43.26859},\n",
       " {'lon': -116.8574, 'lat': 43.2151},\n",
       " {'lon': -116.8563, 'lat': 43.20781},\n",
       " {'lon': -116.8363, 'lat': 43.08162},\n",
       " {'lon': -116.8341, 'lat': 43.07946},\n",
       " {'lon': -116.8319, 'lat': 43.07783},\n",
       " {'lon': -116.8317, 'lat': 43.07769},\n",
       " {'lon': -116.8282, 'lat': 43.07539},\n",
       " {'lon': -116.828, 'lat': 43.07526},\n",
       " {'lon': -116.799, 'lat': 43.06089}]"
      ]
     },
     "execution_count": 14,
     "metadata": {},
     "output_type": "execute_result"
    }
   ],
   "source": [
    "# Specify region of interest from geojson\n",
    "poly_fn = 'Sites/RCEW/ROIs/RCEW-outline_WGS84.geojson'\n",
    "region = sliderule.toregion(poly_fn)[\"poly\"] # symplify \n",
    "region"
   ]
  },
  {
   "cell_type": "code",
   "execution_count": 15,
   "id": "7e03aa49",
   "metadata": {},
   "outputs": [],
   "source": [
    "# Prepare coordinate lists for plotting the region of interest polygon\n",
    "region_lon = [e[\"lon\"] for e in region]\n",
    "region_lat = [e[\"lat\"] for e in region]"
   ]
  },
  {
   "cell_type": "code",
   "execution_count": 16,
   "id": "b7e4515b",
   "metadata": {},
   "outputs": [
    {
     "data": {
      "image/png": "[encoded data removed]",
      "text/plain": [
       "<Figure size 640x480 with 1 Axes>"
      ]
     },
     "metadata": {},
     "output_type": "display_data"
    }
   ],
   "source": [
    "# Read geojson with geopandas\n",
    "pregion = gpd.read_file(poly_fn)\n",
    "map = pregion.plot(); # plot origonal boundery \n",
    "map.plot(region_lon, region_lat, linewidth=1, color='g'); # plot symplified region boundery for a sanity check"
   ]
  },
  {
   "cell_type": "markdown",
   "id": "ef0c01fb",
   "metadata": {},
   "source": [
    "#### 3. Save simplified polygon"
   ]
  },
  {
   "cell_type": "code",
   "execution_count": 17,
   "id": "838867a1",
   "metadata": {},
   "outputs": [
    {
     "data": {
      "text/html": [
       "<div>\n",
       "<style scoped>\n",
       "    .dataframe tbody tr th:only-of-type {\n",
       "        vertical-align: middle;\n",
       "    }\n",
       "\n",
       "    .dataframe tbody tr th {\n",
       "        vertical-align: top;\n",
       "    }\n",
       "\n",
       "    .dataframe thead th {\n",
       "        text-align: right;\n",
       "    }\n",
       "</style>\n",
       "<table border=\"1\" class=\"dataframe\">\n",
       "  <thead>\n",
       "    <tr style=\"text-align: right;\">\n",
       "      <th></th>\n",
       "      <th>geometry</th>\n",
       "    </tr>\n",
       "  </thead>\n",
       "  <tbody>\n",
       "    <tr>\n",
       "      <th>0</th>\n",
       "      <td>POLYGON ((-116.799 43.06089, -116.7954 43.0608...</td>\n",
       "    </tr>\n",
       "  </tbody>\n",
       "</table>\n",
       "</div>"
      ],
      "text/plain": [
       "                                            geometry\n",
       "0  POLYGON ((-116.799 43.06089, -116.7954 43.0608..."
      ]
     },
     "execution_count": 17,
     "metadata": {},
     "output_type": "execute_result"
    }
   ],
   "source": [
    "polygon_geom = Polygon(zip(region_lon, region_lat))\n",
    "crs = 'epsg:4979'\n",
    "polygon = gpd.GeoDataFrame(index=[0], geometry=[polygon_geom])       \n",
    "\n",
    "polygon"
   ]
  },
  {
   "cell_type": "markdown",
   "id": "ccac8cb6-9434-413b-960f-ee0aeb5e5f51",
   "metadata": {},
   "source": [
    "### Save to file if you haven't already"
   ]
  },
  {
   "cell_type": "code",
   "execution_count": 59,
   "id": "3cb564bd",
   "metadata": {},
   "outputs": [],
   "source": [
    "#polygon.to_file('Sites/DCEW/ROIs/DCEW2bound_WGS84_simple.geojson', driver='GeoJSON')"
   ]
  },
  {
   "cell_type": "markdown",
   "id": "50f97261",
   "metadata": {},
   "source": [
    "# Sliderule Product processing\n",
    "\n",
    "Follow the processing section for the desired product"
   ]
  },
  {
   "cell_type": "markdown",
   "id": "7f339266-a0bf-4e9c-aecd-5f994de53118",
   "metadata": {},
   "source": [
    "### - ATL06 and ATL06_classified processing \n",
    "\n",
    "Chose ATL06 or ATL06_clssified parameters depending on what product you are downloading"
   ]
  },
  {
   "cell_type": "markdown",
   "id": "5378c061-957b-4569-a3ed-9443312b3e07",
   "metadata": {},
   "source": [
    "#### ATL06 Parameters"
   ]
  },
  {
   "cell_type": "code",
   "execution_count": null,
   "id": "31c5d508",
   "metadata": {},
   "outputs": [],
   "source": [
    "parms = {\n",
    "    \"poly\": region,\n",
    "    \"srt\": 0,\n",
    "    \"cnf\": icesat2.CNF_SURFACE_HIGH, \n",
    "    \"ats\": 20.0,\n",
    "    \"cnt\": 10,\n",
    "    \"len\": 40.0,\n",
    "    \"res\": 20.0,\n",
    "    \"maxi\": 6\n",
    "}\n",
    "cvs_name = \"Sites/MCS/ROIs/MCS-ICESat2-ATL06.csv\" #set name of the output"
   ]
  },
  {
   "cell_type": "markdown",
   "id": "f20717b5-5291-41b4-9b69-9de606019996",
   "metadata": {},
   "source": [
    "#### ATL06_classified Parameters"
   ]
  },
  {
   "cell_type": "code",
   "execution_count": 23,
   "id": "2899c941-df09-43e1-893f-184264c12cc9",
   "metadata": {},
   "outputs": [],
   "source": [
    "parms = {\n",
    "    \"poly\": region,\n",
    "    \"srt\": 0,\n",
    "    \"atl08_class\": \"atl08_ground\",\n",
    "    \"cnf\": icesat2.CNF_BACKGROUND, \n",
    "    \"ats\": 20.0,\n",
    "    \"cnt\": 10,\n",
    "    \"len\": 40.0,\n",
    "    \"res\": 20.0,\n",
    "    \"maxi\": 6\n",
    "}\n",
    "cvs_name = \"Sites/RCEW/IS2_Data/RCEW-ICESat2-A6-40.csv\" #set name of the output"
   ]
  },
  {
   "cell_type": "markdown",
   "id": "643067ae-0ff8-4f07-bdc5-357fcf44a0de",
   "metadata": {},
   "source": [
    "#### Calculate Elevations"
   ]
  },
  {
   "cell_type": "code",
   "execution_count": 19,
   "id": "aa64d478",
   "metadata": {},
   "outputs": [
    {
     "name": "stdout",
     "output_type": "stream",
     "text": [
      "Completed in 17.538 seconds of wall-clock time\n",
      "Received 84040 elevations\n"
     ]
    }
   ],
   "source": [
    "# Latch Start Time\n",
    "perf_start = time.perf_counter()\n",
    "\n",
    "# Request ATL06 Data\n",
    "data = icesat2.atl06p(parms)\n",
    "\n",
    "# Latch Stop Time\n",
    "perf_stop = time.perf_counter()\n",
    "\n",
    "# Display Statistics\n",
    "perf_duration = perf_stop - perf_start\n",
    "print(\"Completed in {:.3f} seconds of wall-clock time\".format(perf_duration))\n",
    "#print(\"Reference Ground Tracks: {}\".format(atl06_sr[\"rgt\"].unique()))\n",
    "#print(\"Cycles: {}\".format(atl06_sr[\"cycle\"].unique()))\n",
    "print(\"Received {} elevations\".format(data.shape[0]))"
   ]
  },
  {
   "cell_type": "markdown",
   "id": "c7c141ca",
   "metadata": {},
   "source": [
    "## Plot ATL06 Results "
   ]
  },
  {
   "cell_type": "code",
   "execution_count": 20,
   "id": "6800cb28",
   "metadata": {},
   "outputs": [
    {
     "data": {
      "image/png": "[encoded data removed]",
      "text/plain": [
       "<Figure size 640x480 with 1 Axes>"
      ]
     },
     "metadata": {},
     "output_type": "display_data"
    }
   ],
   "source": [
    "f, ax = plt.subplots()\n",
    "ax.set_title(\"ICESat-2 Points\")\n",
    "ax.set_aspect('equal')\n",
    "data.plot(ax=ax, column='h_mean', cmap='inferno', s=0.1)\n",
    "ax.plot(region_lon, region_lat, linewidth=1, color='g');"
   ]
  },
  {
   "cell_type": "markdown",
   "id": "c8035b51-4b6f-4969-b0e4-d9b7a7e6b416",
   "metadata": {},
   "source": [
    "## Data Check"
   ]
  },
  {
   "cell_type": "code",
   "execution_count": 21,
   "id": "b633ec89",
   "metadata": {},
   "outputs": [
    {
     "data": {
      "text/html": [
       "<div>\n",
       "<style scoped>\n",
       "    .dataframe tbody tr th:only-of-type {\n",
       "        vertical-align: middle;\n",
       "    }\n",
       "\n",
       "    .dataframe tbody tr th {\n",
       "        vertical-align: top;\n",
       "    }\n",
       "\n",
       "    .dataframe thead th {\n",
       "        text-align: right;\n",
       "    }\n",
       "</style>\n",
       "<table border=\"1\" class=\"dataframe\">\n",
       "  <thead>\n",
       "    <tr style=\"text-align: right;\">\n",
       "      <th></th>\n",
       "      <th>segment_id</th>\n",
       "      <th>region</th>\n",
       "      <th>gt</th>\n",
       "      <th>spot</th>\n",
       "      <th>rgt</th>\n",
       "      <th>w_surface_window_final</th>\n",
       "      <th>rms_misfit</th>\n",
       "      <th>y_atc</th>\n",
       "      <th>x_atc</th>\n",
       "      <th>pflags</th>\n",
       "      <th>h_sigma</th>\n",
       "      <th>dh_fit_dx</th>\n",
       "      <th>cycle</th>\n",
       "      <th>h_mean</th>\n",
       "      <th>n_fit_photons</th>\n",
       "      <th>geometry</th>\n",
       "      <th>Longitude</th>\n",
       "      <th>Latitude</th>\n",
       "      <th>Easting</th>\n",
       "      <th>Northing</th>\n",
       "    </tr>\n",
       "    <tr>\n",
       "      <th>time</th>\n",
       "      <th></th>\n",
       "      <th></th>\n",
       "      <th></th>\n",
       "      <th></th>\n",
       "      <th></th>\n",
       "      <th></th>\n",
       "      <th></th>\n",
       "      <th></th>\n",
       "      <th></th>\n",
       "      <th></th>\n",
       "      <th></th>\n",
       "      <th></th>\n",
       "      <th></th>\n",
       "      <th></th>\n",
       "      <th></th>\n",
       "      <th></th>\n",
       "      <th></th>\n",
       "      <th></th>\n",
       "      <th></th>\n",
       "      <th></th>\n",
       "    </tr>\n",
       "  </thead>\n",
       "  <tbody>\n",
       "    <tr>\n",
       "      <th>2018-11-26 21:09:06.009938688</th>\n",
       "      <td>239591</td>\n",
       "      <td>2</td>\n",
       "      <td>20</td>\n",
       "      <td>5</td>\n",
       "      <td>905</td>\n",
       "      <td>5.214227e+00</td>\n",
       "      <td>0.341816</td>\n",
       "      <td>928.000916</td>\n",
       "      <td>4804686.5</td>\n",
       "      <td>0</td>\n",
       "      <td>0.118302</td>\n",
       "      <td>-0.203068</td>\n",
       "      <td>1</td>\n",
       "      <td>1418.891576</td>\n",
       "      <td>13</td>\n",
       "      <td>POINT (-116.69149 43.16892)</td>\n",
       "      <td>-116.691486</td>\n",
       "      <td>43.168918</td>\n",
       "      <td>525078.707725</td>\n",
       "      <td>4.779619e+06</td>\n",
       "    </tr>\n",
       "    <tr>\n",
       "      <th>2018-11-26 21:09:06.012748288</th>\n",
       "      <td>239592</td>\n",
       "      <td>2</td>\n",
       "      <td>20</td>\n",
       "      <td>5</td>\n",
       "      <td>905</td>\n",
       "      <td>6.003153e+37</td>\n",
       "      <td>0.405302</td>\n",
       "      <td>928.033752</td>\n",
       "      <td>4804706.5</td>\n",
       "      <td>0</td>\n",
       "      <td>0.101415</td>\n",
       "      <td>-0.129099</td>\n",
       "      <td>1</td>\n",
       "      <td>1415.109474</td>\n",
       "      <td>16</td>\n",
       "      <td>POINT (-116.69151 43.1691)</td>\n",
       "      <td>-116.691510</td>\n",
       "      <td>43.169098</td>\n",
       "      <td>525076.688845</td>\n",
       "      <td>4.779639e+06</td>\n",
       "    </tr>\n",
       "    <tr>\n",
       "      <th>2018-11-26 21:09:06.015550976</th>\n",
       "      <td>239593</td>\n",
       "      <td>2</td>\n",
       "      <td>20</td>\n",
       "      <td>5</td>\n",
       "      <td>905</td>\n",
       "      <td>6.003153e+37</td>\n",
       "      <td>0.497656</td>\n",
       "      <td>928.077820</td>\n",
       "      <td>4804726.5</td>\n",
       "      <td>0</td>\n",
       "      <td>0.207489</td>\n",
       "      <td>-0.098976</td>\n",
       "      <td>1</td>\n",
       "      <td>1412.797057</td>\n",
       "      <td>10</td>\n",
       "      <td>POINT (-116.69153 43.16928)</td>\n",
       "      <td>-116.691534</td>\n",
       "      <td>43.169277</td>\n",
       "      <td>525074.658811</td>\n",
       "      <td>4.779659e+06</td>\n",
       "    </tr>\n",
       "    <tr>\n",
       "      <th>2018-11-26 21:09:06.021147904</th>\n",
       "      <td>239595</td>\n",
       "      <td>2</td>\n",
       "      <td>20</td>\n",
       "      <td>5</td>\n",
       "      <td>905</td>\n",
       "      <td>3.115877e+00</td>\n",
       "      <td>0.391529</td>\n",
       "      <td>928.157349</td>\n",
       "      <td>4804766.5</td>\n",
       "      <td>0</td>\n",
       "      <td>0.134737</td>\n",
       "      <td>-0.087848</td>\n",
       "      <td>1</td>\n",
       "      <td>1410.463856</td>\n",
       "      <td>14</td>\n",
       "      <td>POINT (-116.69158 43.16964)</td>\n",
       "      <td>-116.691583</td>\n",
       "      <td>43.169636</td>\n",
       "      <td>525070.607256</td>\n",
       "      <td>4.779699e+06</td>\n",
       "    </tr>\n",
       "    <tr>\n",
       "      <th>2018-11-26 21:09:06.023947264</th>\n",
       "      <td>239596</td>\n",
       "      <td>2</td>\n",
       "      <td>20</td>\n",
       "      <td>5</td>\n",
       "      <td>905</td>\n",
       "      <td>4.502365e+37</td>\n",
       "      <td>0.180021</td>\n",
       "      <td>928.189331</td>\n",
       "      <td>4804787.0</td>\n",
       "      <td>0</td>\n",
       "      <td>0.035358</td>\n",
       "      <td>-0.141020</td>\n",
       "      <td>1</td>\n",
       "      <td>1408.069261</td>\n",
       "      <td>26</td>\n",
       "      <td>POINT (-116.69161 43.16982)</td>\n",
       "      <td>-116.691606</td>\n",
       "      <td>43.169816</td>\n",
       "      <td>525068.589241</td>\n",
       "      <td>4.779718e+06</td>\n",
       "    </tr>\n",
       "    <tr>\n",
       "      <th>...</th>\n",
       "      <td>...</td>\n",
       "      <td>...</td>\n",
       "      <td>...</td>\n",
       "      <td>...</td>\n",
       "      <td>...</td>\n",
       "      <td>...</td>\n",
       "      <td>...</td>\n",
       "      <td>...</td>\n",
       "      <td>...</td>\n",
       "      <td>...</td>\n",
       "      <td>...</td>\n",
       "      <td>...</td>\n",
       "      <td>...</td>\n",
       "      <td>...</td>\n",
       "      <td>...</td>\n",
       "      <td>...</td>\n",
       "      <td>...</td>\n",
       "      <td>...</td>\n",
       "      <td>...</td>\n",
       "      <td>...</td>\n",
       "    </tr>\n",
       "    <tr>\n",
       "      <th>2024-07-20 06:55:08.974691584</th>\n",
       "      <td>762741</td>\n",
       "      <td>6</td>\n",
       "      <td>40</td>\n",
       "      <td>4</td>\n",
       "      <td>501</td>\n",
       "      <td>8.058585e+31</td>\n",
       "      <td>0.118300</td>\n",
       "      <td>11940.850586</td>\n",
       "      <td>15277184.0</td>\n",
       "      <td>0</td>\n",
       "      <td>0.038173</td>\n",
       "      <td>-0.014558</td>\n",
       "      <td>24</td>\n",
       "      <td>2075.224339</td>\n",
       "      <td>11</td>\n",
       "      <td>POINT (-116.75939 43.06345)</td>\n",
       "      <td>-116.759393</td>\n",
       "      <td>43.063452</td>\n",
       "      <td>519592.539642</td>\n",
       "      <td>4.767889e+06</td>\n",
       "    </tr>\n",
       "    <tr>\n",
       "      <th>2024-07-20 06:55:08.988848128</th>\n",
       "      <td>762746</td>\n",
       "      <td>6</td>\n",
       "      <td>40</td>\n",
       "      <td>4</td>\n",
       "      <td>501</td>\n",
       "      <td>6.043939e+31</td>\n",
       "      <td>0.196559</td>\n",
       "      <td>11940.067383</td>\n",
       "      <td>15277284.0</td>\n",
       "      <td>0</td>\n",
       "      <td>0.064583</td>\n",
       "      <td>-0.007501</td>\n",
       "      <td>24</td>\n",
       "      <td>2073.936341</td>\n",
       "      <td>10</td>\n",
       "      <td>POINT (-116.75952 43.06256)</td>\n",
       "      <td>-116.759522</td>\n",
       "      <td>43.062555</td>\n",
       "      <td>519582.318390</td>\n",
       "      <td>4.767789e+06</td>\n",
       "    </tr>\n",
       "    <tr>\n",
       "      <th>2024-07-20 06:55:08.991682304</th>\n",
       "      <td>762747</td>\n",
       "      <td>6</td>\n",
       "      <td>40</td>\n",
       "      <td>4</td>\n",
       "      <td>501</td>\n",
       "      <td>4.532954e+31</td>\n",
       "      <td>0.271220</td>\n",
       "      <td>11939.883789</td>\n",
       "      <td>15277304.0</td>\n",
       "      <td>0</td>\n",
       "      <td>0.081845</td>\n",
       "      <td>-0.019582</td>\n",
       "      <td>24</td>\n",
       "      <td>2073.675912</td>\n",
       "      <td>11</td>\n",
       "      <td>POINT (-116.75955 43.06238)</td>\n",
       "      <td>-116.759548</td>\n",
       "      <td>43.062376</td>\n",
       "      <td>519580.247254</td>\n",
       "      <td>4.767769e+06</td>\n",
       "    </tr>\n",
       "    <tr>\n",
       "      <th>2024-07-20 06:55:09.000800768</th>\n",
       "      <td>762756</td>\n",
       "      <td>6</td>\n",
       "      <td>60</td>\n",
       "      <td>6</td>\n",
       "      <td>501</td>\n",
       "      <td>6.003153e+37</td>\n",
       "      <td>0.339990</td>\n",
       "      <td>8710.519531</td>\n",
       "      <td>15277484.0</td>\n",
       "      <td>0</td>\n",
       "      <td>0.108538</td>\n",
       "      <td>0.027426</td>\n",
       "      <td>24</td>\n",
       "      <td>2061.825915</td>\n",
       "      <td>10</td>\n",
       "      <td>POINT (-116.79922 43.06358)</td>\n",
       "      <td>-116.799221</td>\n",
       "      <td>43.063576</td>\n",
       "      <td>516349.546006</td>\n",
       "      <td>4.767894e+06</td>\n",
       "    </tr>\n",
       "    <tr>\n",
       "      <th>2024-07-20 06:55:09.023377664</th>\n",
       "      <td>762764</td>\n",
       "      <td>6</td>\n",
       "      <td>60</td>\n",
       "      <td>6</td>\n",
       "      <td>501</td>\n",
       "      <td>6.003153e+37</td>\n",
       "      <td>0.405415</td>\n",
       "      <td>8709.159180</td>\n",
       "      <td>15277645.0</td>\n",
       "      <td>0</td>\n",
       "      <td>0.117141</td>\n",
       "      <td>0.100172</td>\n",
       "      <td>24</td>\n",
       "      <td>2073.262360</td>\n",
       "      <td>12</td>\n",
       "      <td>POINT (-116.79943 43.06214)</td>\n",
       "      <td>-116.799428</td>\n",
       "      <td>43.062140</td>\n",
       "      <td>516333.085649</td>\n",
       "      <td>4.767734e+06</td>\n",
       "    </tr>\n",
       "  </tbody>\n",
       "</table>\n",
       "<p>84040 rows × 20 columns</p>\n",
       "</div>"
      ],
      "text/plain": [
       "                               segment_id  region  gt  spot  rgt  \\\n",
       "time                                                               \n",
       "2018-11-26 21:09:06.009938688      239591       2  20     5  905   \n",
       "2018-11-26 21:09:06.012748288      239592       2  20     5  905   \n",
       "2018-11-26 21:09:06.015550976      239593       2  20     5  905   \n",
       "2018-11-26 21:09:06.021147904      239595       2  20     5  905   \n",
       "2018-11-26 21:09:06.023947264      239596       2  20     5  905   \n",
       "...                                   ...     ...  ..   ...  ...   \n",
       "2024-07-20 06:55:08.974691584      762741       6  40     4  501   \n",
       "2024-07-20 06:55:08.988848128      762746       6  40     4  501   \n",
       "2024-07-20 06:55:08.991682304      762747       6  40     4  501   \n",
       "2024-07-20 06:55:09.000800768      762756       6  60     6  501   \n",
       "2024-07-20 06:55:09.023377664      762764       6  60     6  501   \n",
       "\n",
       "                               w_surface_window_final  rms_misfit  \\\n",
       "time                                                                \n",
       "2018-11-26 21:09:06.009938688            5.214227e+00    0.341816   \n",
       "2018-11-26 21:09:06.012748288            6.003153e+37    0.405302   \n",
       "2018-11-26 21:09:06.015550976            6.003153e+37    0.497656   \n",
       "2018-11-26 21:09:06.021147904            3.115877e+00    0.391529   \n",
       "2018-11-26 21:09:06.023947264            4.502365e+37    0.180021   \n",
       "...                                               ...         ...   \n",
       "2024-07-20 06:55:08.974691584            8.058585e+31    0.118300   \n",
       "2024-07-20 06:55:08.988848128            6.043939e+31    0.196559   \n",
       "2024-07-20 06:55:08.991682304            4.532954e+31    0.271220   \n",
       "2024-07-20 06:55:09.000800768            6.003153e+37    0.339990   \n",
       "2024-07-20 06:55:09.023377664            6.003153e+37    0.405415   \n",
       "\n",
       "                                      y_atc       x_atc  pflags   h_sigma  \\\n",
       "time                                                                        \n",
       "2018-11-26 21:09:06.009938688    928.000916   4804686.5       0  0.118302   \n",
       "2018-11-26 21:09:06.012748288    928.033752   4804706.5       0  0.101415   \n",
       "2018-11-26 21:09:06.015550976    928.077820   4804726.5       0  0.207489   \n",
       "2018-11-26 21:09:06.021147904    928.157349   4804766.5       0  0.134737   \n",
       "2018-11-26 21:09:06.023947264    928.189331   4804787.0       0  0.035358   \n",
       "...                                     ...         ...     ...       ...   \n",
       "2024-07-20 06:55:08.974691584  11940.850586  15277184.0       0  0.038173   \n",
       "2024-07-20 06:55:08.988848128  11940.067383  15277284.0       0  0.064583   \n",
       "2024-07-20 06:55:08.991682304  11939.883789  15277304.0       0  0.081845   \n",
       "2024-07-20 06:55:09.000800768   8710.519531  15277484.0       0  0.108538   \n",
       "2024-07-20 06:55:09.023377664   8709.159180  15277645.0       0  0.117141   \n",
       "\n",
       "                               dh_fit_dx  cycle       h_mean  n_fit_photons  \\\n",
       "time                                                                          \n",
       "2018-11-26 21:09:06.009938688  -0.203068      1  1418.891576             13   \n",
       "2018-11-26 21:09:06.012748288  -0.129099      1  1415.109474             16   \n",
       "2018-11-26 21:09:06.015550976  -0.098976      1  1412.797057             10   \n",
       "2018-11-26 21:09:06.021147904  -0.087848      1  1410.463856             14   \n",
       "2018-11-26 21:09:06.023947264  -0.141020      1  1408.069261             26   \n",
       "...                                  ...    ...          ...            ...   \n",
       "2024-07-20 06:55:08.974691584  -0.014558     24  2075.224339             11   \n",
       "2024-07-20 06:55:08.988848128  -0.007501     24  2073.936341             10   \n",
       "2024-07-20 06:55:08.991682304  -0.019582     24  2073.675912             11   \n",
       "2024-07-20 06:55:09.000800768   0.027426     24  2061.825915             10   \n",
       "2024-07-20 06:55:09.023377664   0.100172     24  2073.262360             12   \n",
       "\n",
       "                                                  geometry   Longitude  \\\n",
       "time                                                                     \n",
       "2018-11-26 21:09:06.009938688  POINT (-116.69149 43.16892) -116.691486   \n",
       "2018-11-26 21:09:06.012748288   POINT (-116.69151 43.1691) -116.691510   \n",
       "2018-11-26 21:09:06.015550976  POINT (-116.69153 43.16928) -116.691534   \n",
       "2018-11-26 21:09:06.021147904  POINT (-116.69158 43.16964) -116.691583   \n",
       "2018-11-26 21:09:06.023947264  POINT (-116.69161 43.16982) -116.691606   \n",
       "...                                                    ...         ...   \n",
       "2024-07-20 06:55:08.974691584  POINT (-116.75939 43.06345) -116.759393   \n",
       "2024-07-20 06:55:08.988848128  POINT (-116.75952 43.06256) -116.759522   \n",
       "2024-07-20 06:55:08.991682304  POINT (-116.75955 43.06238) -116.759548   \n",
       "2024-07-20 06:55:09.000800768  POINT (-116.79922 43.06358) -116.799221   \n",
       "2024-07-20 06:55:09.023377664  POINT (-116.79943 43.06214) -116.799428   \n",
       "\n",
       "                                Latitude        Easting      Northing  \n",
       "time                                                                   \n",
       "2018-11-26 21:09:06.009938688  43.168918  525078.707725  4.779619e+06  \n",
       "2018-11-26 21:09:06.012748288  43.169098  525076.688845  4.779639e+06  \n",
       "2018-11-26 21:09:06.015550976  43.169277  525074.658811  4.779659e+06  \n",
       "2018-11-26 21:09:06.021147904  43.169636  525070.607256  4.779699e+06  \n",
       "2018-11-26 21:09:06.023947264  43.169816  525068.589241  4.779718e+06  \n",
       "...                                  ...            ...           ...  \n",
       "2024-07-20 06:55:08.974691584  43.063452  519592.539642  4.767889e+06  \n",
       "2024-07-20 06:55:08.988848128  43.062555  519582.318390  4.767789e+06  \n",
       "2024-07-20 06:55:08.991682304  43.062376  519580.247254  4.767769e+06  \n",
       "2024-07-20 06:55:09.000800768  43.063576  516349.546006  4.767894e+06  \n",
       "2024-07-20 06:55:09.023377664  43.062140  516333.085649  4.767734e+06  \n",
       "\n",
       "[84040 rows x 20 columns]"
      ]
     },
     "execution_count": 21,
     "metadata": {},
     "output_type": "execute_result"
    }
   ],
   "source": [
    "#Set utmzone code - utm zone 11:32611\n",
    "utm_code = 'epsg:32611' \n",
    "\n",
    "data['Longitude'] = data['geometry'].x\n",
    "data['Latitude'] = data['geometry'].y\n",
    "eastnorths = data['geometry'].to_crs(utm_code)\n",
    "data['Easting'] = eastnorths.x\n",
    "data['Northing'] = eastnorths.y\n",
    "data"
   ]
  },
  {
   "cell_type": "markdown",
   "id": "1a407769",
   "metadata": {},
   "source": [
    "## Write CSV - ATL06"
   ]
  },
  {
   "cell_type": "code",
   "execution_count": 24,
   "id": "729f0e80",
   "metadata": {},
   "outputs": [],
   "source": [
    "data.to_csv(cvs_name)"
   ]
  },
  {
   "cell_type": "code",
   "execution_count": null,
   "id": "7a41a04d-5b6e-4409-a742-4119f5f41b87",
   "metadata": {},
   "outputs": [],
   "source": []
  }
 ],
 "metadata": {
  "kernelspec": {
   "display_name": "Python 3 (ipykernel)",
   "language": "python",
   "name": "python3"
  },
  "language_info": {
   "codemirror_mode": {
    "name": "ipython",
    "version": 3
   },
   "file_extension": ".py",
   "mimetype": "text/x-python",
   "name": "python",
   "nbconvert_exporter": "python",
   "pygments_lexer": "ipython3",
   "version": "3.12.7"
  }
 },
 "nbformat": 4,
 "nbformat_minor": 5
}
