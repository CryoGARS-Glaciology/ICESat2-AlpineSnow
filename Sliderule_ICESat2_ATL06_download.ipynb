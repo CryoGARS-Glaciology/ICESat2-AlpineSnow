{
 "cells": [
  {
   "cell_type": "markdown",
   "id": "adec21b9",
   "metadata": {},
   "source": [
    "## ICESat-2 SlideRule Download\n",
    "\n",
    "This code is adapted from Sliderule Python example code. It is designed to calculate ATL06 elevations from ALT03 points and save those elevations as a CSV. \n",
    "\n",
    "Activate the sliderule_env enviroment to run\n",
    "\n",
    "Last updated by Karina Zikan July 2023"
   ]
  },
  {
   "cell_type": "code",
   "execution_count": 30,
   "id": "2c4a16f4",
   "metadata": {},
   "outputs": [],
   "source": [
    "import sys\n",
    "import logging\n",
    "import concurrent.futures\n",
    "import time\n",
    "from datetime import datetime\n",
    "import pandas as pd\n",
    "import geopandas as gpd\n",
    "import matplotlib.pyplot as plt\n",
    "from pyproj import Transformer, CRS\n",
    "from shapely.geometry import Polygon, Point\n",
    "from sliderule import sliderule, icesat2, earthdata, h5"
   ]
  },
  {
   "cell_type": "markdown",
   "id": "9af7ad61",
   "metadata": {},
   "source": [
    "## SlideRule Configuration"
   ]
  },
  {
   "cell_type": "code",
   "execution_count": 31,
   "id": "f01cf9d3",
   "metadata": {},
   "outputs": [],
   "source": [
    "# Configure ICESat-2 API\n",
    "icesat2.init(\"slideruleearth.io\", verbose=False)"
   ]
  },
  {
   "cell_type": "markdown",
   "id": "4da5abf9",
   "metadata": {},
   "source": [
    "## Specify Region of Interest"
   ]
  },
  {
   "cell_type": "markdown",
   "id": "df0dd474",
   "metadata": {},
   "source": [
    "#### 1. Make geojson from shapefile - if you have a geojson of the region skip to 2."
   ]
  },
  {
   "cell_type": "code",
   "execution_count": 5,
   "id": "7be0c803",
   "metadata": {},
   "outputs": [
    {
     "data": {
      "text/plain": [
       "False"
      ]
     },
     "execution_count": 5,
     "metadata": {},
     "output_type": "execute_result"
    }
   ],
   "source": [
    "# Specify region of interest shapefile\n",
    "shp = \"Sites/Banner/ROIs/BannerBound_WGS84.shp\"\n",
    "shapefile = gpd.read_file(shp)\n",
    "# shapefile.to_file('DryCreek/boundDCEW/boundDCEW_WGS84.geojson', driver='GeoJSON')\n",
    "shapefile.crs is None"
   ]
  },
  {
   "cell_type": "markdown",
   "id": "298868e1-e137-4b7c-8f37-01e82e31c177",
   "metadata": {},
   "source": [
    "##### - Check shapefile crs"
   ]
  },
  {
   "cell_type": "code",
   "execution_count": 6,
   "id": "8f89519c",
   "metadata": {},
   "outputs": [
    {
     "data": {
      "text/plain": [
       "<Geographic 3D CRS: GEOGCRS[\"WGS_1984_3D\",DATUM[\"World Geodetic System ...>\n",
       "Name: WGS_1984_3D\n",
       "Axis Info [ellipsoidal]:\n",
       "- lon[east]: Longitude (Degree)\n",
       "- lat[north]: Latitude (Degree)\n",
       "- h[up]: Ellipsoidal height (metre)\n",
       "Area of Use:\n",
       "- undefined\n",
       "Datum: World Geodetic System 1984\n",
       "- Ellipsoid: WGS 84\n",
       "- Prime Meridian: Greenwich"
      ]
     },
     "execution_count": 6,
     "metadata": {},
     "output_type": "execute_result"
    }
   ],
   "source": [
    "## if shapefile.crs is None is false check the crs\n",
    "shapefile.crs"
   ]
  },
  {
   "cell_type": "markdown",
   "id": "f3ffb8cd-befd-4ba4-995f-c7d3b50c8722",
   "metadata": {},
   "source": [
    "##### - Make Geojson"
   ]
  },
  {
   "cell_type": "code",
   "execution_count": 7,
   "id": "ab072225-32ae-449d-a141-8d6b7109d26c",
   "metadata": {},
   "outputs": [],
   "source": [
    "#shapefile.to_file('Sites/DCEW/ROIs/DCEW2bound_WGS84.geojson', driver='GeoJSON')"
   ]
  },
  {
   "cell_type": "code",
   "execution_count": null,
   "id": "ee133c67",
   "metadata": {},
   "outputs": [],
   "source": [
    "## if shapefile.crs is None is true run this section\n",
    "#crs = 'epsg:8826' # set the starting datum using the epsg code\n",
    "#icesat_crs = 4979 # epsg code for WGS84\n",
    "#shapefile = shapefile.set_crs(crs)\n",
    "#shapefile = shapefile.to_crs(icesat_crs) # transform to WGS84 \n",
    "#shapefile.to_file('/Mores/MCSboundary/MoresBound_WGS84.geojson', driver='GeoJSON')"
   ]
  },
  {
   "cell_type": "code",
   "execution_count": null,
   "id": "9f0fd1bc",
   "metadata": {},
   "outputs": [],
   "source": [
    "## if shapefile.crs is not WGS84 run this section\n",
    "#icesat_crs = 4979 # epsg code for WGS84\n",
    "#shapefile = shapefile.to_crs(icesat_crs) # transform to WGS84 \n",
    "#shapefile.to_file('/Mores/MCSboundary/MoresBound_WGS84.geojson', driver='GeoJSON')"
   ]
  },
  {
   "cell_type": "markdown",
   "id": "b245490e",
   "metadata": {},
   "source": [
    "#### 2. Read in geojson for Region of Interest"
   ]
  },
  {
   "cell_type": "code",
   "execution_count": 55,
   "id": "d1897d7a",
   "metadata": {},
   "outputs": [
    {
     "data": {
      "text/plain": [
       "[{'lon': -115.69105550999866, 'lat': 43.90443498963517},\n",
       " {'lon': -115.63433182211558, 'lat': 43.93770015149147},\n",
       " {'lon': -115.6729242311569, 'lat': 43.98578181576067},\n",
       " {'lon': -115.73697536467022, 'lat': 43.95205216555316},\n",
       " {'lon': -115.69105550999866, 'lat': 43.90443498963517}]"
      ]
     },
     "execution_count": 55,
     "metadata": {},
     "output_type": "execute_result"
    }
   ],
   "source": [
    "# Specify region of interest from geojson\n",
    "poly_fn = 'Sites/MCS/ROIs/MCSborder_WGS84.geojson'\n",
    "region = sliderule.toregion(poly_fn)[\"poly\"] # symplify \n",
    "region"
   ]
  },
  {
   "cell_type": "code",
   "execution_count": 56,
   "id": "7e03aa49",
   "metadata": {},
   "outputs": [],
   "source": [
    "# Prepare coordinate lists for plotting the region of interest polygon\n",
    "region_lon = [e[\"lon\"] for e in region]\n",
    "region_lat = [e[\"lat\"] for e in region]"
   ]
  },
  {
   "cell_type": "code",
   "execution_count": 57,
   "id": "b7e4515b",
   "metadata": {},
   "outputs": [
    {
     "data": {
      "image/png": "[encoded data removed]",
      "text/plain": [
       "<Figure size 640x480 with 1 Axes>"
      ]
     },
     "metadata": {},
     "output_type": "display_data"
    }
   ],
   "source": [
    "# Read geojson with geopandas\n",
    "pregion = gpd.read_file(poly_fn)\n",
    "map = pregion.plot(); # plot origonal boundery \n",
    "map.plot(region_lon, region_lat, linewidth=1, color='g'); # plot symplified region boundery for a sanity check"
   ]
  },
  {
   "cell_type": "markdown",
   "id": "ef0c01fb",
   "metadata": {},
   "source": [
    "#### 3. Save simplified polygon"
   ]
  },
  {
   "cell_type": "code",
   "execution_count": 58,
   "id": "838867a1",
   "metadata": {},
   "outputs": [
    {
     "data": {
      "text/html": [
       "<div>\n",
       "<style scoped>\n",
       "    .dataframe tbody tr th:only-of-type {\n",
       "        vertical-align: middle;\n",
       "    }\n",
       "\n",
       "    .dataframe tbody tr th {\n",
       "        vertical-align: top;\n",
       "    }\n",
       "\n",
       "    .dataframe thead th {\n",
       "        text-align: right;\n",
       "    }\n",
       "</style>\n",
       "<table border=\"1\" class=\"dataframe\">\n",
       "  <thead>\n",
       "    <tr style=\"text-align: right;\">\n",
       "      <th></th>\n",
       "      <th>geometry</th>\n",
       "    </tr>\n",
       "  </thead>\n",
       "  <tbody>\n",
       "    <tr>\n",
       "      <th>0</th>\n",
       "      <td>POLYGON ((-115.69106 43.90443, -115.63433 43.9...</td>\n",
       "    </tr>\n",
       "  </tbody>\n",
       "</table>\n",
       "</div>"
      ],
      "text/plain": [
       "                                            geometry\n",
       "0  POLYGON ((-115.69106 43.90443, -115.63433 43.9..."
      ]
     },
     "execution_count": 58,
     "metadata": {},
     "output_type": "execute_result"
    }
   ],
   "source": [
    "polygon_geom = Polygon(zip(region_lon, region_lat))\n",
    "crs = 'epsg:4979'\n",
    "polygon = gpd.GeoDataFrame(index=[0], geometry=[polygon_geom])       \n",
    "\n",
    "polygon"
   ]
  },
  {
   "cell_type": "markdown",
   "id": "ccac8cb6-9434-413b-960f-ee0aeb5e5f51",
   "metadata": {},
   "source": [
    "### Save to file if you haven't already"
   ]
  },
  {
   "cell_type": "code",
   "execution_count": 59,
   "id": "3cb564bd",
   "metadata": {},
   "outputs": [],
   "source": [
    "#polygon.to_file('Sites/DCEW/ROIs/DCEW2bound_WGS84_simple.geojson', driver='GeoJSON')"
   ]
  },
  {
   "cell_type": "markdown",
   "id": "50f97261",
   "metadata": {},
   "source": [
    "# Sliderule Product processing\n",
    "\n",
    "Follow the processing section for the desired product"
   ]
  },
  {
   "cell_type": "markdown",
   "id": "7f339266-a0bf-4e9c-aecd-5f994de53118",
   "metadata": {},
   "source": [
    "### - ATL06 and ATL06_classified processing \n",
    "\n",
    "Chose ATL06 or ATL06_clssified parameters depending on what product you are downloading"
   ]
  },
  {
   "cell_type": "markdown",
   "id": "5378c061-957b-4569-a3ed-9443312b3e07",
   "metadata": {},
   "source": [
    "#### ATL06 Parameters"
   ]
  },
  {
   "cell_type": "code",
   "execution_count": null,
   "id": "31c5d508",
   "metadata": {},
   "outputs": [],
   "source": [
    "parms = {\n",
    "    \"poly\": region,\n",
    "    \"srt\": 0,\n",
    "    \"cnf\": icesat2.CNF_SURFACE_HIGH, \n",
    "    \"ats\": 20.0,\n",
    "    \"cnt\": 10,\n",
    "    \"len\": 40.0,\n",
    "    \"res\": 20.0,\n",
    "    \"maxi\": 6\n",
    "}\n",
    "cvs_name = \"Sites/MCS/ROIs/MCS-ICESat2-ATL06.csv\" #set name of the output"
   ]
  },
  {
   "cell_type": "markdown",
   "id": "f20717b5-5291-41b4-9b69-9de606019996",
   "metadata": {},
   "source": [
    "#### ATL06_classified Parameters"
   ]
  },
  {
   "cell_type": "code",
   "execution_count": 65,
   "id": "2899c941-df09-43e1-893f-184264c12cc9",
   "metadata": {},
   "outputs": [],
   "source": [
    "parms = {\n",
    "    \"poly\": region,\n",
    "    \"srt\": 0,\n",
    "    \"atl08_class\": \"atl08_ground\",\n",
    "    \"cnf\": icesat2.CNF_BACKGROUND, \n",
    "    \"ats\": 20.0,\n",
    "    \"cnt\": 10,\n",
    "    \"len\": 40.0,\n",
    "    \"res\": 20.0,\n",
    "    \"maxi\": 6\n",
    "}\n",
    "cvs_name = \"Sites/MCS/IS2_Data/MCS-ICESat2-A6-40.csv\" #set name of the output"
   ]
  },
  {
   "cell_type": "markdown",
   "id": "643067ae-0ff8-4f07-bdc5-357fcf44a0de",
   "metadata": {},
   "source": [
    "#### Calculate Elevations"
   ]
  },
  {
   "cell_type": "code",
   "execution_count": null,
   "id": "aa64d478",
   "metadata": {},
   "outputs": [],
   "source": [
    "# Latch Start Time\n",
    "perf_start = time.perf_counter()\n",
    "\n",
    "# Request ATL06 Data\n",
    "data = icesat2.atl06p(parms)\n",
    "\n",
    "# Latch Stop Time\n",
    "perf_stop = time.perf_counter()\n",
    "\n",
    "# Display Statistics\n",
    "perf_duration = perf_stop - perf_start\n",
    "print(\"Completed in {:.3f} seconds of wall-clock time\".format(perf_duration))\n",
    "#print(\"Reference Ground Tracks: {}\".format(atl06_sr[\"rgt\"].unique()))\n",
    "#print(\"Cycles: {}\".format(atl06_sr[\"cycle\"].unique()))\n",
    "print(\"Received {} elevations\".format(data.shape[0]))"
   ]
  },
  {
   "cell_type": "markdown",
   "id": "c7c141ca",
   "metadata": {},
   "source": [
    "## Plot ATL06 Results "
   ]
  },
  {
   "cell_type": "code",
   "execution_count": 62,
   "id": "6800cb28",
   "metadata": {},
   "outputs": [
    {
     "data": {
      "image/png": "[encoded data removed]",
      "text/plain": [
       "<Figure size 640x480 with 1 Axes>"
      ]
     },
     "metadata": {},
     "output_type": "display_data"
    }
   ],
   "source": [
    "f, ax = plt.subplots()\n",
    "ax.set_title(\"ICESat-2 Points\")\n",
    "ax.set_aspect('equal')\n",
    "data.plot(ax=ax, column='h_mean', cmap='inferno', s=0.1)\n",
    "ax.plot(region_lon, region_lat, linewidth=1, color='g');"
   ]
  },
  {
   "cell_type": "markdown",
   "id": "c8035b51-4b6f-4969-b0e4-d9b7a7e6b416",
   "metadata": {},
   "source": [
    "## Data Check"
   ]
  },
  {
   "cell_type": "code",
   "execution_count": 63,
   "id": "b633ec89",
   "metadata": {},
   "outputs": [
    {
     "data": {
      "text/html": [
       "<div>\n",
       "<style scoped>\n",
       "    .dataframe tbody tr th:only-of-type {\n",
       "        vertical-align: middle;\n",
       "    }\n",
       "\n",
       "    .dataframe tbody tr th {\n",
       "        vertical-align: top;\n",
       "    }\n",
       "\n",
       "    .dataframe thead th {\n",
       "        text-align: right;\n",
       "    }\n",
       "</style>\n",
       "<table border=\"1\" class=\"dataframe\">\n",
       "  <thead>\n",
       "    <tr style=\"text-align: right;\">\n",
       "      <th></th>\n",
       "      <th>n_fit_photons</th>\n",
       "      <th>w_surface_window_final</th>\n",
       "      <th>dh_fit_dx</th>\n",
       "      <th>y_atc</th>\n",
       "      <th>rgt</th>\n",
       "      <th>gt</th>\n",
       "      <th>h_mean</th>\n",
       "      <th>h_sigma</th>\n",
       "      <th>region</th>\n",
       "      <th>x_atc</th>\n",
       "      <th>segment_id</th>\n",
       "      <th>rms_misfit</th>\n",
       "      <th>spot</th>\n",
       "      <th>pflags</th>\n",
       "      <th>cycle</th>\n",
       "      <th>geometry</th>\n",
       "      <th>Longitude</th>\n",
       "      <th>Latitude</th>\n",
       "      <th>Easting</th>\n",
       "      <th>Northing</th>\n",
       "    </tr>\n",
       "    <tr>\n",
       "      <th>time</th>\n",
       "      <th></th>\n",
       "      <th></th>\n",
       "      <th></th>\n",
       "      <th></th>\n",
       "      <th></th>\n",
       "      <th></th>\n",
       "      <th></th>\n",
       "      <th></th>\n",
       "      <th></th>\n",
       "      <th></th>\n",
       "      <th></th>\n",
       "      <th></th>\n",
       "      <th></th>\n",
       "      <th></th>\n",
       "      <th></th>\n",
       "      <th></th>\n",
       "      <th></th>\n",
       "      <th></th>\n",
       "      <th></th>\n",
       "      <th></th>\n",
       "    </tr>\n",
       "  </thead>\n",
       "  <tbody>\n",
       "    <tr>\n",
       "      <th>2018-11-25 09:24:46.819780352</th>\n",
       "      <td>11</td>\n",
       "      <td>3.777872e+00</td>\n",
       "      <td>0.144337</td>\n",
       "      <td>3955.414307</td>\n",
       "      <td>882</td>\n",
       "      <td>10</td>\n",
       "      <td>2227.754367</td>\n",
       "      <td>0.140855</td>\n",
       "      <td>6</td>\n",
       "      <td>15176585.0</td>\n",
       "      <td>757724</td>\n",
       "      <td>0.459882</td>\n",
       "      <td>6</td>\n",
       "      <td>0</td>\n",
       "      <td>1</td>\n",
       "      <td>POINT (-115.69928 43.97172)</td>\n",
       "      <td>-115.699279</td>\n",
       "      <td>43.971719</td>\n",
       "      <td>604335.267116</td>\n",
       "      <td>4.869554e+06</td>\n",
       "    </tr>\n",
       "    <tr>\n",
       "      <th>2018-11-25 09:24:46.821884160</th>\n",
       "      <td>14</td>\n",
       "      <td>4.993641e+00</td>\n",
       "      <td>0.194355</td>\n",
       "      <td>3955.414307</td>\n",
       "      <td>882</td>\n",
       "      <td>10</td>\n",
       "      <td>2230.246106</td>\n",
       "      <td>0.117866</td>\n",
       "      <td>6</td>\n",
       "      <td>15176600.0</td>\n",
       "      <td>757725</td>\n",
       "      <td>0.440473</td>\n",
       "      <td>6</td>\n",
       "      <td>0</td>\n",
       "      <td>1</td>\n",
       "      <td>POINT (-115.69930 43.97158)</td>\n",
       "      <td>-115.699297</td>\n",
       "      <td>43.971584</td>\n",
       "      <td>604334.063434</td>\n",
       "      <td>4.869539e+06</td>\n",
       "    </tr>\n",
       "    <tr>\n",
       "      <th>2018-11-25 09:24:46.838783488</th>\n",
       "      <td>10</td>\n",
       "      <td>5.671085e+00</td>\n",
       "      <td>0.221098</td>\n",
       "      <td>3955.372803</td>\n",
       "      <td>882</td>\n",
       "      <td>10</td>\n",
       "      <td>2250.261363</td>\n",
       "      <td>0.139190</td>\n",
       "      <td>6</td>\n",
       "      <td>15176720.0</td>\n",
       "      <td>757731</td>\n",
       "      <td>0.415014</td>\n",
       "      <td>6</td>\n",
       "      <td>0</td>\n",
       "      <td>1</td>\n",
       "      <td>POINT (-115.69944 43.97051)</td>\n",
       "      <td>-115.699441</td>\n",
       "      <td>43.970507</td>\n",
       "      <td>604324.372823</td>\n",
       "      <td>4.869419e+06</td>\n",
       "    </tr>\n",
       "    <tr>\n",
       "      <th>2018-11-25 09:24:46.851471360</th>\n",
       "      <td>12</td>\n",
       "      <td>6.330596e+00</td>\n",
       "      <td>0.247097</td>\n",
       "      <td>3955.097168</td>\n",
       "      <td>882</td>\n",
       "      <td>10</td>\n",
       "      <td>2271.124619</td>\n",
       "      <td>0.201441</td>\n",
       "      <td>6</td>\n",
       "      <td>15176810.0</td>\n",
       "      <td>757735</td>\n",
       "      <td>0.697296</td>\n",
       "      <td>6</td>\n",
       "      <td>0</td>\n",
       "      <td>1</td>\n",
       "      <td>POINT (-115.69955 43.96970)</td>\n",
       "      <td>-115.699553</td>\n",
       "      <td>43.969699</td>\n",
       "      <td>604316.859625</td>\n",
       "      <td>4.869329e+06</td>\n",
       "    </tr>\n",
       "    <tr>\n",
       "      <th>2018-11-25 09:24:46.862044416</th>\n",
       "      <td>12</td>\n",
       "      <td>9.013536e+00</td>\n",
       "      <td>0.352657</td>\n",
       "      <td>3954.853027</td>\n",
       "      <td>882</td>\n",
       "      <td>10</td>\n",
       "      <td>2285.375691</td>\n",
       "      <td>0.167642</td>\n",
       "      <td>6</td>\n",
       "      <td>15176885.0</td>\n",
       "      <td>757739</td>\n",
       "      <td>0.573022</td>\n",
       "      <td>6</td>\n",
       "      <td>0</td>\n",
       "      <td>1</td>\n",
       "      <td>POINT (-115.69965 43.96903)</td>\n",
       "      <td>-115.699645</td>\n",
       "      <td>43.969026</td>\n",
       "      <td>604310.587726</td>\n",
       "      <td>4.869254e+06</td>\n",
       "    </tr>\n",
       "    <tr>\n",
       "      <th>...</th>\n",
       "      <td>...</td>\n",
       "      <td>...</td>\n",
       "      <td>...</td>\n",
       "      <td>...</td>\n",
       "      <td>...</td>\n",
       "      <td>...</td>\n",
       "      <td>...</td>\n",
       "      <td>...</td>\n",
       "      <td>...</td>\n",
       "      <td>...</td>\n",
       "      <td>...</td>\n",
       "      <td>...</td>\n",
       "      <td>...</td>\n",
       "      <td>...</td>\n",
       "      <td>...</td>\n",
       "      <td>...</td>\n",
       "      <td>...</td>\n",
       "      <td>...</td>\n",
       "      <td>...</td>\n",
       "      <td>...</td>\n",
       "    </tr>\n",
       "    <tr>\n",
       "      <th>2024-04-16 11:23:26.089516288</th>\n",
       "      <td>53</td>\n",
       "      <td>4.058375e+09</td>\n",
       "      <td>-0.014870</td>\n",
       "      <td>27703.357422</td>\n",
       "      <td>440</td>\n",
       "      <td>40</td>\n",
       "      <td>2027.842830</td>\n",
       "      <td>0.037366</td>\n",
       "      <td>6</td>\n",
       "      <td>15180247.0</td>\n",
       "      <td>757900</td>\n",
       "      <td>0.269619</td>\n",
       "      <td>3</td>\n",
       "      <td>0</td>\n",
       "      <td>23</td>\n",
       "      <td>POINT (-115.66891 43.91802)</td>\n",
       "      <td>-115.668913</td>\n",
       "      <td>43.918018</td>\n",
       "      <td>606867.189414</td>\n",
       "      <td>4.863628e+06</td>\n",
       "    </tr>\n",
       "    <tr>\n",
       "      <th>2024-04-16 11:23:26.091631104</th>\n",
       "      <td>39</td>\n",
       "      <td>2.280261e+10</td>\n",
       "      <td>-0.040225</td>\n",
       "      <td>27703.236328</td>\n",
       "      <td>440</td>\n",
       "      <td>40</td>\n",
       "      <td>2027.307700</td>\n",
       "      <td>0.062075</td>\n",
       "      <td>6</td>\n",
       "      <td>15180262.0</td>\n",
       "      <td>757901</td>\n",
       "      <td>0.360611</td>\n",
       "      <td>3</td>\n",
       "      <td>0</td>\n",
       "      <td>23</td>\n",
       "      <td>POINT (-115.66893 43.91788)</td>\n",
       "      <td>-115.668933</td>\n",
       "      <td>43.917883</td>\n",
       "      <td>606865.813368</td>\n",
       "      <td>4.863613e+06</td>\n",
       "    </tr>\n",
       "    <tr>\n",
       "      <th>2024-04-16 11:23:26.093744128</th>\n",
       "      <td>34</td>\n",
       "      <td>3.000000e+00</td>\n",
       "      <td>-0.012034</td>\n",
       "      <td>27703.117188</td>\n",
       "      <td>440</td>\n",
       "      <td>40</td>\n",
       "      <td>2026.813847</td>\n",
       "      <td>0.054191</td>\n",
       "      <td>6</td>\n",
       "      <td>15180277.0</td>\n",
       "      <td>757901</td>\n",
       "      <td>0.302650</td>\n",
       "      <td>3</td>\n",
       "      <td>0</td>\n",
       "      <td>23</td>\n",
       "      <td>POINT (-115.66895 43.91775)</td>\n",
       "      <td>-115.668953</td>\n",
       "      <td>43.917749</td>\n",
       "      <td>606864.439650</td>\n",
       "      <td>4.863598e+06</td>\n",
       "    </tr>\n",
       "    <tr>\n",
       "      <th>2024-04-16 11:23:26.095849472</th>\n",
       "      <td>51</td>\n",
       "      <td>3.043781e+09</td>\n",
       "      <td>0.017268</td>\n",
       "      <td>27702.978516</td>\n",
       "      <td>440</td>\n",
       "      <td>40</td>\n",
       "      <td>2026.802619</td>\n",
       "      <td>0.047051</td>\n",
       "      <td>6</td>\n",
       "      <td>15180292.0</td>\n",
       "      <td>757902</td>\n",
       "      <td>0.321841</td>\n",
       "      <td>3</td>\n",
       "      <td>0</td>\n",
       "      <td>23</td>\n",
       "      <td>POINT (-115.66897 43.91761)</td>\n",
       "      <td>-115.668974</td>\n",
       "      <td>43.917615</td>\n",
       "      <td>606863.049298</td>\n",
       "      <td>4.863583e+06</td>\n",
       "    </tr>\n",
       "    <tr>\n",
       "      <th>2024-04-16 11:23:26.097958656</th>\n",
       "      <td>43</td>\n",
       "      <td>1.710196e+10</td>\n",
       "      <td>0.068282</td>\n",
       "      <td>27702.818359</td>\n",
       "      <td>440</td>\n",
       "      <td>40</td>\n",
       "      <td>2027.407665</td>\n",
       "      <td>0.054855</td>\n",
       "      <td>6</td>\n",
       "      <td>15180307.0</td>\n",
       "      <td>757903</td>\n",
       "      <td>0.324897</td>\n",
       "      <td>3</td>\n",
       "      <td>0</td>\n",
       "      <td>23</td>\n",
       "      <td>POINT (-115.66899 43.91748)</td>\n",
       "      <td>-115.668994</td>\n",
       "      <td>43.917480</td>\n",
       "      <td>606861.633728</td>\n",
       "      <td>4.863568e+06</td>\n",
       "    </tr>\n",
       "  </tbody>\n",
       "</table>\n",
       "<p>26730 rows × 20 columns</p>\n",
       "</div>"
      ],
      "text/plain": [
       "                               n_fit_photons  w_surface_window_final  \\\n",
       "time                                                                   \n",
       "2018-11-25 09:24:46.819780352             11            3.777872e+00   \n",
       "2018-11-25 09:24:46.821884160             14            4.993641e+00   \n",
       "2018-11-25 09:24:46.838783488             10            5.671085e+00   \n",
       "2018-11-25 09:24:46.851471360             12            6.330596e+00   \n",
       "2018-11-25 09:24:46.862044416             12            9.013536e+00   \n",
       "...                                      ...                     ...   \n",
       "2024-04-16 11:23:26.089516288             53            4.058375e+09   \n",
       "2024-04-16 11:23:26.091631104             39            2.280261e+10   \n",
       "2024-04-16 11:23:26.093744128             34            3.000000e+00   \n",
       "2024-04-16 11:23:26.095849472             51            3.043781e+09   \n",
       "2024-04-16 11:23:26.097958656             43            1.710196e+10   \n",
       "\n",
       "                               dh_fit_dx         y_atc  rgt  gt       h_mean  \\\n",
       "time                                                                           \n",
       "2018-11-25 09:24:46.819780352   0.144337   3955.414307  882  10  2227.754367   \n",
       "2018-11-25 09:24:46.821884160   0.194355   3955.414307  882  10  2230.246106   \n",
       "2018-11-25 09:24:46.838783488   0.221098   3955.372803  882  10  2250.261363   \n",
       "2018-11-25 09:24:46.851471360   0.247097   3955.097168  882  10  2271.124619   \n",
       "2018-11-25 09:24:46.862044416   0.352657   3954.853027  882  10  2285.375691   \n",
       "...                                  ...           ...  ...  ..          ...   \n",
       "2024-04-16 11:23:26.089516288  -0.014870  27703.357422  440  40  2027.842830   \n",
       "2024-04-16 11:23:26.091631104  -0.040225  27703.236328  440  40  2027.307700   \n",
       "2024-04-16 11:23:26.093744128  -0.012034  27703.117188  440  40  2026.813847   \n",
       "2024-04-16 11:23:26.095849472   0.017268  27702.978516  440  40  2026.802619   \n",
       "2024-04-16 11:23:26.097958656   0.068282  27702.818359  440  40  2027.407665   \n",
       "\n",
       "                                h_sigma  region       x_atc  segment_id  \\\n",
       "time                                                                      \n",
       "2018-11-25 09:24:46.819780352  0.140855       6  15176585.0      757724   \n",
       "2018-11-25 09:24:46.821884160  0.117866       6  15176600.0      757725   \n",
       "2018-11-25 09:24:46.838783488  0.139190       6  15176720.0      757731   \n",
       "2018-11-25 09:24:46.851471360  0.201441       6  15176810.0      757735   \n",
       "2018-11-25 09:24:46.862044416  0.167642       6  15176885.0      757739   \n",
       "...                                 ...     ...         ...         ...   \n",
       "2024-04-16 11:23:26.089516288  0.037366       6  15180247.0      757900   \n",
       "2024-04-16 11:23:26.091631104  0.062075       6  15180262.0      757901   \n",
       "2024-04-16 11:23:26.093744128  0.054191       6  15180277.0      757901   \n",
       "2024-04-16 11:23:26.095849472  0.047051       6  15180292.0      757902   \n",
       "2024-04-16 11:23:26.097958656  0.054855       6  15180307.0      757903   \n",
       "\n",
       "                               rms_misfit  spot  pflags  cycle  \\\n",
       "time                                                             \n",
       "2018-11-25 09:24:46.819780352    0.459882     6       0      1   \n",
       "2018-11-25 09:24:46.821884160    0.440473     6       0      1   \n",
       "2018-11-25 09:24:46.838783488    0.415014     6       0      1   \n",
       "2018-11-25 09:24:46.851471360    0.697296     6       0      1   \n",
       "2018-11-25 09:24:46.862044416    0.573022     6       0      1   \n",
       "...                                   ...   ...     ...    ...   \n",
       "2024-04-16 11:23:26.089516288    0.269619     3       0     23   \n",
       "2024-04-16 11:23:26.091631104    0.360611     3       0     23   \n",
       "2024-04-16 11:23:26.093744128    0.302650     3       0     23   \n",
       "2024-04-16 11:23:26.095849472    0.321841     3       0     23   \n",
       "2024-04-16 11:23:26.097958656    0.324897     3       0     23   \n",
       "\n",
       "                                                  geometry   Longitude  \\\n",
       "time                                                                     \n",
       "2018-11-25 09:24:46.819780352  POINT (-115.69928 43.97172) -115.699279   \n",
       "2018-11-25 09:24:46.821884160  POINT (-115.69930 43.97158) -115.699297   \n",
       "2018-11-25 09:24:46.838783488  POINT (-115.69944 43.97051) -115.699441   \n",
       "2018-11-25 09:24:46.851471360  POINT (-115.69955 43.96970) -115.699553   \n",
       "2018-11-25 09:24:46.862044416  POINT (-115.69965 43.96903) -115.699645   \n",
       "...                                                    ...         ...   \n",
       "2024-04-16 11:23:26.089516288  POINT (-115.66891 43.91802) -115.668913   \n",
       "2024-04-16 11:23:26.091631104  POINT (-115.66893 43.91788) -115.668933   \n",
       "2024-04-16 11:23:26.093744128  POINT (-115.66895 43.91775) -115.668953   \n",
       "2024-04-16 11:23:26.095849472  POINT (-115.66897 43.91761) -115.668974   \n",
       "2024-04-16 11:23:26.097958656  POINT (-115.66899 43.91748) -115.668994   \n",
       "\n",
       "                                Latitude        Easting      Northing  \n",
       "time                                                                   \n",
       "2018-11-25 09:24:46.819780352  43.971719  604335.267116  4.869554e+06  \n",
       "2018-11-25 09:24:46.821884160  43.971584  604334.063434  4.869539e+06  \n",
       "2018-11-25 09:24:46.838783488  43.970507  604324.372823  4.869419e+06  \n",
       "2018-11-25 09:24:46.851471360  43.969699  604316.859625  4.869329e+06  \n",
       "2018-11-25 09:24:46.862044416  43.969026  604310.587726  4.869254e+06  \n",
       "...                                  ...            ...           ...  \n",
       "2024-04-16 11:23:26.089516288  43.918018  606867.189414  4.863628e+06  \n",
       "2024-04-16 11:23:26.091631104  43.917883  606865.813368  4.863613e+06  \n",
       "2024-04-16 11:23:26.093744128  43.917749  606864.439650  4.863598e+06  \n",
       "2024-04-16 11:23:26.095849472  43.917615  606863.049298  4.863583e+06  \n",
       "2024-04-16 11:23:26.097958656  43.917480  606861.633728  4.863568e+06  \n",
       "\n",
       "[26730 rows x 20 columns]"
      ]
     },
     "execution_count": 63,
     "metadata": {},
     "output_type": "execute_result"
    }
   ],
   "source": [
    "#Set utmzone code - utm zone 11:32611\n",
    "utm_code = 'epsg:32611' \n",
    "\n",
    "data['Longitude'] = data['geometry'].x\n",
    "data['Latitude'] = data['geometry'].y\n",
    "eastnorths = data['geometry'].to_crs(utm_code)\n",
    "data['Easting'] = eastnorths.x\n",
    "data['Northing'] = eastnorths.y\n",
    "data"
   ]
  },
  {
   "cell_type": "markdown",
   "id": "1a407769",
   "metadata": {},
   "source": [
    "## Write CSV - ATL06"
   ]
  },
  {
   "cell_type": "code",
   "execution_count": 64,
   "id": "729f0e80",
   "metadata": {},
   "outputs": [],
   "source": [
    "data.to_csv(cvs_name)"
   ]
  },
  {
   "cell_type": "code",
   "execution_count": null,
   "id": "7a41a04d-5b6e-4409-a742-4119f5f41b87",
   "metadata": {},
   "outputs": [],
   "source": []
  }
 ],
 "metadata": {
  "kernelspec": {
   "display_name": "Python 3 (ipykernel)",
   "language": "python",
   "name": "python3"
  },
  "language_info": {
   "codemirror_mode": {
    "name": "ipython",
    "version": 3
   },
   "file_extension": ".py",
   "mimetype": "text/x-python",
   "name": "python",
   "nbconvert_exporter": "python",
   "pygments_lexer": "ipython3",
   "version": "3.11.6"
  }
 },
 "nbformat": 4,
 "nbformat_minor": 5
}
