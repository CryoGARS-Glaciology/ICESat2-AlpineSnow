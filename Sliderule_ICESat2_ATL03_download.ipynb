{
 "cells": [
  {
   "cell_type": "markdown",
   "id": "adec21b9",
   "metadata": {},
   "source": [
    "## ICESat-2 ATL03 SlideRule Download\n",
    "\n",
    "This code is adapted from Sliderule Python example code. It is designed to pull ALT03 points for a region of interest and save those elevations as a CSV. \n",
    "\n",
    "Activate the sliderule_env enviroment to run\n",
    "\n",
    "Last updated by Karina Zikan July 2023"
   ]
  },
  {
   "cell_type": "code",
   "execution_count": 1,
   "id": "2c4a16f4",
   "metadata": {},
   "outputs": [],
   "source": [
    "import sys\n",
    "import logging\n",
    "import concurrent.futures\n",
    "import time\n",
    "from datetime import datetime\n",
    "import pandas as pd\n",
    "import geopandas as gpd\n",
    "import matplotlib.pyplot as plt\n",
    "from pyproj import Transformer, CRS\n",
    "from shapely.geometry import Polygon, Point\n",
    "import sliderule\n",
    "from sliderule import sliderule, icesat2, earthdata, h5"
   ]
  },
  {
   "cell_type": "markdown",
   "id": "9af7ad61",
   "metadata": {},
   "source": [
    "## SlideRule Configuration"
   ]
  },
  {
   "cell_type": "code",
   "execution_count": 2,
   "id": "f01cf9d3",
   "metadata": {},
   "outputs": [],
   "source": [
    "# Configure ICESat-2 API\n",
    "icesat2.init(\"slideruleearth.io\", verbose=False)"
   ]
  },
  {
   "cell_type": "markdown",
   "id": "4da5abf9",
   "metadata": {},
   "source": [
    "## Specify Region of Interest"
   ]
  },
  {
   "cell_type": "markdown",
   "id": "df0dd474",
   "metadata": {},
   "source": [
    "#### 1. Make geojson from shapefile - if you have a geojson of the region skip to 2."
   ]
  },
  {
   "cell_type": "code",
   "execution_count": null,
   "id": "7be0c803",
   "metadata": {},
   "outputs": [],
   "source": [
    "# Specify region of interest shapefile\n",
    "shp = \"Sites/RCEW/ROIs/RCEW-outline_WGS84.shp\"\n",
    "shapefile = gpd.read_file(shp)\n",
    "# shapefile.to_file('DryCreek/boundDCEW/boundDCEW_WGS84.geojson', driver='GeoJSON')\n",
    "shapefile.crs is None"
   ]
  },
  {
   "cell_type": "markdown",
   "id": "298868e1-e137-4b7c-8f37-01e82e31c177",
   "metadata": {},
   "source": [
    "##### - Check shapefile crs"
   ]
  },
  {
   "cell_type": "code",
   "execution_count": null,
   "id": "8f89519c",
   "metadata": {},
   "outputs": [],
   "source": [
    "## if shapefile.crs is None is false check the crs\n",
    "shapefile.crs"
   ]
  },
  {
   "cell_type": "markdown",
   "id": "f3ffb8cd-befd-4ba4-995f-c7d3b50c8722",
   "metadata": {},
   "source": [
    "##### - Make Geojson"
   ]
  },
  {
   "cell_type": "code",
   "execution_count": null,
   "id": "ab072225-32ae-449d-a141-8d6b7109d26c",
   "metadata": {},
   "outputs": [],
   "source": [
    "# shapefile.to_file('Sites/RCEW/ROIs/RCEW-outline_WGS84.geojson', driver='GeoJSON')"
   ]
  },
  {
   "cell_type": "code",
   "execution_count": null,
   "id": "ee133c67",
   "metadata": {},
   "outputs": [],
   "source": [
    "## if shapefile.crs is None is true run this section\n",
    "#crs = 'epsg:8826' # set the starting datum using the epsg code\n",
    "#icesat_crs = 4979 # epsg code for WGS84\n",
    "#shapefile = shapefile.set_crs(crs)\n",
    "#shapefile = shapefile.to_crs(icesat_crs) # transform to WGS84 \n",
    "#shapefile.to_file('/Mores/MCSboundary/MoresBound_WGS84.geojson', driver='GeoJSON')"
   ]
  },
  {
   "cell_type": "code",
   "execution_count": null,
   "id": "9f0fd1bc",
   "metadata": {},
   "outputs": [],
   "source": [
    "## if shapefile.crs is not WGS84 run this section\n",
    "#icesat_crs = 4979 # epsg code for WGS84\n",
    "#shapefile = shapefile.to_crs(icesat_crs) # transform to WGS84 \n",
    "#shapefile.to_file('/Mores/MCSboundary/MoresBound_WGS84.geojson', driver='GeoJSON')"
   ]
  },
  {
   "cell_type": "markdown",
   "id": "b245490e",
   "metadata": {},
   "source": [
    "#### 2. Read in geojson for Region of Interest"
   ]
  },
  {
   "cell_type": "code",
   "execution_count": null,
   "id": "d1897d7a",
   "metadata": {},
   "outputs": [],
   "source": [
    "# Specify region of interest from geojson\n",
    "poly_fn = 'Sites/RCEW/ROIs/RCEW-outline_WGS84.geojson'\n",
    "region = sliderule.toregion(poly_fn)[\"poly\"] # symplify \n",
    "region"
   ]
  },
  {
   "cell_type": "code",
   "execution_count": null,
   "id": "7e03aa49",
   "metadata": {},
   "outputs": [],
   "source": [
    "# Prepare coordinate lists for plotting the region of interest polygon\n",
    "region_lon = [e[\"lon\"] for e in region]\n",
    "region_lat = [e[\"lat\"] for e in region]"
   ]
  },
  {
   "cell_type": "code",
   "execution_count": null,
   "id": "b7e4515b",
   "metadata": {},
   "outputs": [],
   "source": [
    "# Read geojson with geopandas\n",
    "pregion = gpd.read_file(poly_fn)\n",
    "map = pregion.plot(); # plot origonal boundery \n",
    "map.plot(region_lon, region_lat, linewidth=1, color='g'); # plot symplified region boundery for a sanity check"
   ]
  },
  {
   "cell_type": "markdown",
   "id": "ef0c01fb",
   "metadata": {},
   "source": [
    "#### 3. Save simplified polygon"
   ]
  },
  {
   "cell_type": "code",
   "execution_count": null,
   "id": "838867a1",
   "metadata": {},
   "outputs": [],
   "source": [
    "polygon_geom = Polygon(zip(region_lon, region_lat))\n",
    "crs = 'epsg:4979'\n",
    "polygon = gpd.GeoDataFrame(index=[0], geometry=[polygon_geom])       \n",
    "\n",
    "polygon"
   ]
  },
  {
   "cell_type": "markdown",
   "id": "ccac8cb6-9434-413b-960f-ee0aeb5e5f51",
   "metadata": {},
   "source": [
    "### Save to file if you haven't already"
   ]
  },
  {
   "cell_type": "code",
   "execution_count": null,
   "id": "3cb564bd",
   "metadata": {},
   "outputs": [],
   "source": [
    "polygon.to_file('Sites/RCEW/ROIs/RCEW-outline_WGS84_simple.geojson', driver='GeoJSON')"
   ]
  },
  {
   "cell_type": "markdown",
   "id": "50f97261",
   "metadata": {},
   "source": [
    "# Sliderule Product processing\n",
    "\n",
    "Follow the processing section for the desired product"
   ]
  },
  {
   "cell_type": "markdown",
   "id": "ab6a059d-943e-4341-a92d-7951ea9be6d6",
   "metadata": {},
   "source": [
    "### ATL03 processing"
   ]
  },
  {
   "cell_type": "markdown",
   "id": "02672b0f-ceca-4a28-9dda-0734550d5b06",
   "metadata": {},
   "source": [
    "#### ATL03 Parameters"
   ]
  },
  {
   "cell_type": "code",
   "execution_count": null,
   "id": "9792d5b5-4075-4e50-b8b3-bc76e26b6c65",
   "metadata": {},
   "outputs": [],
   "source": [
    "parms = {\n",
    "    \"poly\": region,\n",
    "    \"srt\": 0,\n",
    "    \"atl08_class\": \"atl08_ground\",\n",
    "    \"cnf\": icesat2.CNF_BACKGROUND, \n",
    "    \"ats\": 20.0,\n",
    "    \"cnt\": 10, \n",
    "    \"len\": 40.0,\n",
    "    \"res\": 20.0,\n",
    "    \"maxi\": 6\n",
    "}\n",
    "cvs_name = \"Sites/RCEW/IS2_Data/RCEW-ICESat2-ATL03.csv\" #set name of the output"
   ]
  },
  {
   "cell_type": "markdown",
   "id": "358b4437",
   "metadata": {},
   "source": [
    "#### Calculate Elevations"
   ]
  },
  {
   "cell_type": "code",
   "execution_count": null,
   "id": "0fb7b85a-06a2-4d53-805a-6c089c82f921",
   "metadata": {},
   "outputs": [],
   "source": [
    "# Latch Start Time\n",
    "perf_start = time.perf_counter()\n",
    "\n",
    "# Request ATL06 Data\n",
    "data = icesat2.atl03sp(parms)\n",
    "\n",
    "# Latch Stop Time\n",
    "perf_stop = time.perf_counter()\n",
    "\n",
    "# Display Statistics\n",
    "perf_duration = perf_stop - perf_start\n",
    "print(\"Completed in {:.3f} seconds of wall-clock time\".format(perf_duration))\n",
    "#print(\"Reference Ground Tracks: {}\".format(atl06_sr[\"rgt\"].unique()))\n",
    "#print(\"Cycles: {}\".format(atl06_sr[\"cycle\"].unique()))\n",
    "print(\"Received {} elevations\".format(data.shape[0]))"
   ]
  },
  {
   "cell_type": "markdown",
   "id": "c8035b51-4b6f-4969-b0e4-d9b7a7e6b416",
   "metadata": {},
   "source": [
    "## Data Check"
   ]
  },
  {
   "cell_type": "code",
   "execution_count": null,
   "id": "b633ec89",
   "metadata": {},
   "outputs": [],
   "source": [
    "#Set utmzone code - utm zone 11:32611\n",
    "utm_code = 'epsg:32611' \n",
    "\n",
    "data['Longitude'] = data['geometry'].x\n",
    "data['Latitude'] = data['geometry'].y\n",
    "eastnorths = data['geometry'].to_crs(utm_code)\n",
    "data['Easting'] = eastnorths.x\n",
    "data['Northing'] = eastnorths.y\n",
    "data"
   ]
  },
  {
   "cell_type": "markdown",
   "id": "f4796ddd-4027-4fdd-b511-4d4daec89e7e",
   "metadata": {},
   "source": [
    "## Write CSV - ATL03"
   ]
  },
  {
   "cell_type": "markdown",
   "id": "065f075a-d7cc-4201-b0d1-b8cf8b233dd1",
   "metadata": {},
   "source": [
    "#### filter to summer months"
   ]
  },
  {
   "cell_type": "code",
   "execution_count": null,
   "id": "3198800e-2d76-4f10-9505-b0cda3508e79",
   "metadata": {},
   "outputs": [],
   "source": [
    "import datetime "
   ]
  },
  {
   "cell_type": "code",
   "execution_count": null,
   "id": "1cd99757-67c0-4ba5-889a-b273089bef73",
   "metadata": {},
   "outputs": [],
   "source": [
    "data['Date'] = pd.to_datetime(data.index)\n",
    "data = data[(data['Date'].dt.month >= 5) & (data['Date'].dt.month <= 9)]\n",
    "data[1:6]"
   ]
  },
  {
   "cell_type": "code",
   "execution_count": null,
   "id": "c796bf3a-9761-4e68-82f7-9d6808c6526f",
   "metadata": {},
   "outputs": [],
   "source": [
    "data_xyz = pd.DataFrame()\n",
    "\n",
    "data_xyz['X'] = data['Easting']\n",
    "data_xyz['Y'] = data['Northing']\n",
    "data_xyz['Z'] = data['height']\n",
    "data_xyz['rgt'] = data['rgt']\n",
    "data_xyz['time'] = data['Date']\n",
    "\n",
    "data_xyz = data_xyz.set_index('time')\n",
    "data_xyz"
   ]
  },
  {
   "cell_type": "markdown",
   "id": "c037686c-3835-4b54-9f60-54d35d7ea93c",
   "metadata": {},
   "source": [
    "#### Write CSV"
   ]
  },
  {
   "cell_type": "code",
   "execution_count": null,
   "id": "f296e650-3d22-440f-a0ef-c373e111f20d",
   "metadata": {},
   "outputs": [],
   "source": [
    "data_xyz.to_csv(cvs_name)"
   ]
  },
  {
   "cell_type": "code",
   "execution_count": null,
   "id": "4a6e1c1f-8c65-4cbe-af8d-d996f2a8e555",
   "metadata": {},
   "outputs": [],
   "source": []
  }
 ],
 "metadata": {
  "kernelspec": {
   "display_name": "Python 3 (ipykernel)",
   "language": "python",
   "name": "python3"
  },
  "language_info": {
   "codemirror_mode": {
    "name": "ipython",
    "version": 3
   },
   "file_extension": ".py",
   "mimetype": "text/x-python",
   "name": "python",
   "nbconvert_exporter": "python",
   "pygments_lexer": "ipython3",
   "version": "3.9.7"
  }
 },
 "nbformat": 4,
 "nbformat_minor": 5
}
