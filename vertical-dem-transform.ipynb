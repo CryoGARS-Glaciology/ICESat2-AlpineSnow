{
 "cells": [
  {
   "cell_type": "code",
   "execution_count": null,
   "id": "74edceb4-edeb-43ed-bd41-f820f5a75ec4",
   "metadata": {},
   "outputs": [],
   "source": [
    "from osgeo import gdal as gdal"
   ]
  },
  {
   "cell_type": "code",
   "execution_count": null,
   "id": "89477398-a5d5-4600-849f-9b24f81544ef",
   "metadata": {},
   "outputs": [],
   "source": [
    "# Check you can find the file\n",
    "file = \"Sites/Banner/DEMs/Banner_Bare_Earth_DEMs_mosaic.tif\"\n",
    "gdal.Open(file)"
   ]
  },
  {
   "cell_type": "code",
   "execution_count": null,
   "id": "5c74f1eb-1fc7-4780-a4cd-423ed747a25d",
   "metadata": {},
   "outputs": [],
   "source": [
    "# look at tiff info, check the projection\n",
    "!gdalsrsinfo -e Sites/Banner/DEMs/Banner_Bare_Earth_DEMs_mosaic.tif"
   ]
  },
  {
   "cell_type": "code",
   "execution_count": null,
   "id": "89761233-3367-4281-a8da-2cc9bceb79e3",
   "metadata": {},
   "outputs": [],
   "source": [
    "# transform to wgs84 & save new file\n",
    "# comand format !gdalwarp infile.tif outfile.tif -t_srs \"+proj=longlat +ellps=WGS84\"\n",
    "!gdalwarp Sites/Banner/DEMs/Banner_Bare_Earth_DEMs_mosaic.tif Sites/Banner/DEMs/Banner_Bare_Earth_DEMs_mosaic_UTM11WGS84.tif -s_srs \"+proj=utm +zone=11 +ellps=GRS80 +units=m +no_defs\" -t_srs \"+proj=utm +zone=11 +ellps=WGS84\" "
   ]
  },
  {
   "cell_type": "code",
   "execution_count": null,
   "id": "53960f95-816d-4cf7-b867-5a18c512fd68",
   "metadata": {},
   "outputs": [],
   "source": [
    "# double check the transform\n",
    "!gdalsrsinfo -e Sites/LCW/DEMs/Little_Cottonwood_Bare_Earth_DEMs_mosaic_UTM12WGS84.tif"
   ]
  },
  {
   "cell_type": "code",
   "execution_count": null,
   "id": "a9720d32-9c9f-4e6e-b996-c62db3d768aa",
   "metadata": {},
   "outputs": [],
   "source": []
  }
 ],
 "metadata": {
  "kernelspec": {
   "display_name": "Python 3 (ipykernel)",
   "language": "python",
   "name": "python3"
  },
  "language_info": {
   "codemirror_mode": {
    "name": "ipython",
    "version": 3
   },
   "file_extension": ".py",
   "mimetype": "text/x-python",
   "name": "python",
   "nbconvert_exporter": "python",
   "pygments_lexer": "ipython3",
   "version": "3.11.3"
  }
 },
 "nbformat": 4,
 "nbformat_minor": 5
}
