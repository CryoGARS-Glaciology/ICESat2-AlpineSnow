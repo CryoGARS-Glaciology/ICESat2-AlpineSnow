{
 "cells": [
  {
   "cell_type": "code",
   "execution_count": 1,
   "id": "4adff96f-b7ec-45aa-a7da-50c49bf1e487",
   "metadata": {},
   "outputs": [],
   "source": [
    "import pandas as pd\n",
    "import lasio"
   ]
  },
  {
   "cell_type": "code",
   "execution_count": 2,
   "id": "219896c3-e994-452c-9cbe-e5426ce77ec0",
   "metadata": {},
   "outputs": [
    {
     "data": {
      "text/html": [
       "<div>\n",
       "<style scoped>\n",
       "    .dataframe tbody tr th:only-of-type {\n",
       "        vertical-align: middle;\n",
       "    }\n",
       "\n",
       "    .dataframe tbody tr th {\n",
       "        vertical-align: top;\n",
       "    }\n",
       "\n",
       "    .dataframe thead th {\n",
       "        text-align: right;\n",
       "    }\n",
       "</style>\n",
       "<table border=\"1\" class=\"dataframe\">\n",
       "  <thead>\n",
       "    <tr style=\"text-align: right;\">\n",
       "      <th></th>\n",
       "      <th>time</th>\n",
       "      <th>X</th>\n",
       "      <th>Y</th>\n",
       "      <th>Z</th>\n",
       "    </tr>\n",
       "  </thead>\n",
       "  <tbody>\n",
       "    <tr>\n",
       "      <th>0</th>\n",
       "      <td>2019-05-27 12:28:42.743937792</td>\n",
       "      <td>523430.475310</td>\n",
       "      <td>4.772917e+06</td>\n",
       "      <td>1900.3315</td>\n",
       "    </tr>\n",
       "    <tr>\n",
       "      <th>1</th>\n",
       "      <td>2019-05-27 12:28:42.744737536</td>\n",
       "      <td>523429.877709</td>\n",
       "      <td>4.772922e+06</td>\n",
       "      <td>1898.8876</td>\n",
       "    </tr>\n",
       "    <tr>\n",
       "      <th>2</th>\n",
       "      <td>2019-05-27 12:28:42.745137664</td>\n",
       "      <td>523429.578021</td>\n",
       "      <td>4.772925e+06</td>\n",
       "      <td>1898.0692</td>\n",
       "    </tr>\n",
       "    <tr>\n",
       "      <th>3</th>\n",
       "      <td>2019-05-27 12:28:42.745337600</td>\n",
       "      <td>523429.435821</td>\n",
       "      <td>4.772927e+06</td>\n",
       "      <td>1898.5760</td>\n",
       "    </tr>\n",
       "    <tr>\n",
       "      <th>4</th>\n",
       "      <td>2019-05-27 12:28:42.745437696</td>\n",
       "      <td>523429.355678</td>\n",
       "      <td>4.772927e+06</td>\n",
       "      <td>1897.7479</td>\n",
       "    </tr>\n",
       "  </tbody>\n",
       "</table>\n",
       "</div>"
      ],
      "text/plain": [
       "                            time              X             Y          Z\n",
       "0  2019-05-27 12:28:42.743937792  523430.475310  4.772917e+06  1900.3315\n",
       "1  2019-05-27 12:28:42.744737536  523429.877709  4.772922e+06  1898.8876\n",
       "2  2019-05-27 12:28:42.745137664  523429.578021  4.772925e+06  1898.0692\n",
       "3  2019-05-27 12:28:42.745337600  523429.435821  4.772927e+06  1898.5760\n",
       "4  2019-05-27 12:28:42.745437696  523429.355678  4.772927e+06  1897.7479"
      ]
     },
     "execution_count": 2,
     "metadata": {},
     "output_type": "execute_result"
    }
   ],
   "source": [
    "df = pd.read_csv('Sites/RCEW/IS2_Data/RCEW-ICESat2-ATL03.csv')\n",
    "df.head()"
   ]
  },
  {
   "cell_type": "code",
   "execution_count": 4,
   "id": "2a583c61-1e27-4713-8b8b-afff6bb83c02",
   "metadata": {},
   "outputs": [
    {
     "name": "stdout",
     "output_type": "stream",
     "text": [
      "<class 'pandas.core.frame.DataFrame'>\n",
      "RangeIndex: 1706804 entries, 0 to 1706803\n",
      "Data columns (total 4 columns):\n",
      " #   Column  Dtype  \n",
      "---  ------  -----  \n",
      " 0   time    object \n",
      " 1   X       float64\n",
      " 2   Y       float64\n",
      " 3   Z       float64\n",
      "dtypes: float64(3), object(1)\n",
      "memory usage: 52.1+ MB\n"
     ]
    }
   ],
   "source": [
    "df.info()\n"
   ]
  },
  {
   "cell_type": "code",
   "execution_count": 5,
   "id": "d5c636d7-05fb-45d8-9161-8f886ab862bd",
   "metadata": {},
   "outputs": [
    {
     "data": {
      "text/plain": [
       "{'Version': [HeaderItem(mnemonic=\"VERS\", unit=\"\", value=\"2.0\", descr=\"CWLS log ASCII Standa\"),\n",
       "  HeaderItem(mnemonic=\"WRAP\", unit=\"\", value=\"NO\", descr=\"One line per depth ste\"),\n",
       "  HeaderItem(mnemonic=\"DLM\", unit=\"\", value=\"SPACE\", descr=\"Column Data Section \")],\n",
       " 'Well': [HeaderItem(mnemonic=\"STRT\", unit=\"m\", value=\"nan\", descr=\"START DEPTH\"),\n",
       "  HeaderItem(mnemonic=\"STOP\", unit=\"m\", value=\"nan\", descr=\"STOP DEPTH\"),\n",
       "  HeaderItem(mnemonic=\"STEP\", unit=\"m\", value=\"nan\", descr=\"STEP\"),\n",
       "  HeaderItem(mnemonic=\"NULL\", unit=\"\", value=\"-9999.25\", descr=\"NULL VALUE\"),\n",
       "  HeaderItem(mnemonic=\"COMP\", unit=\"\", value=\"\", descr=\"COMPANY\"),\n",
       "  HeaderItem(mnemonic=\"WELL\", unit=\"\", value=\"\", descr=\"WELL\"),\n",
       "  HeaderItem(mnemonic=\"FLD\", unit=\"\", value=\"\", descr=\"FIELD\"),\n",
       "  HeaderItem(mnemonic=\"LOC\", unit=\"\", value=\"\", descr=\"LOCATION\"),\n",
       "  HeaderItem(mnemonic=\"PROV\", unit=\"\", value=\"\", descr=\"PROVINCE\"),\n",
       "  HeaderItem(mnemonic=\"CNTY\", unit=\"\", value=\"\", descr=\"COUNTY\"),\n",
       "  HeaderItem(mnemonic=\"STAT\", unit=\"\", value=\"\", descr=\"STATE\"),\n",
       "  HeaderItem(mnemonic=\"CTRY\", unit=\"\", value=\"\", descr=\"COUNTRY\"),\n",
       "  HeaderItem(mnemonic=\"SRVC\", unit=\"\", value=\"\", descr=\"SERVICE COMPANY\"),\n",
       "  HeaderItem(mnemonic=\"DATE\", unit=\"\", value=\"\", descr=\"DATE\"),\n",
       "  HeaderItem(mnemonic=\"UWI\", unit=\"\", value=\"\", descr=\"UNIQUE WELL ID\"),\n",
       "  HeaderItem(mnemonic=\"API\", unit=\"\", value=\"\", descr=\"API NUMBER\")],\n",
       " 'Curves': [],\n",
       " 'Parameter': [],\n",
       " 'Other': ''}"
      ]
     },
     "execution_count": 5,
     "metadata": {},
     "output_type": "execute_result"
    }
   ],
   "source": [
    "las = lasio.LASFile()\n",
    "las.header"
   ]
  },
  {
   "cell_type": "code",
   "execution_count": 6,
   "id": "2025baf8-884f-4d2c-829c-40c45fa100e0",
   "metadata": {},
   "outputs": [
    {
     "ename": "AttributeError",
     "evalue": "'LASFile' object has no attribute 'add_curve'",
     "output_type": "error",
     "traceback": [
      "\u001b[0;31m---------------------------------------------------------------------------\u001b[0m",
      "\u001b[0;31mAttributeError\u001b[0m                            Traceback (most recent call last)",
      "Cell \u001b[0;32mIn[6], line 1\u001b[0m\n\u001b[0;32m----> 1\u001b[0m \u001b[43mlas\u001b[49m\u001b[38;5;241;43m.\u001b[39;49m\u001b[43madd_curve\u001b[49m(\u001b[38;5;124m'\u001b[39m\u001b[38;5;124mX\u001b[39m\u001b[38;5;124m'\u001b[39m, df[\u001b[38;5;124m'\u001b[39m\u001b[38;5;124mX\u001b[39m\u001b[38;5;124m'\u001b[39m], unit\u001b[38;5;241m=\u001b[39m\u001b[38;5;124m'\u001b[39m\u001b[38;5;124mm\u001b[39m\u001b[38;5;124m'\u001b[39m)\n\u001b[1;32m      2\u001b[0m las\u001b[38;5;241m.\u001b[39madd_curve(\u001b[38;5;124m'\u001b[39m\u001b[38;5;124mY\u001b[39m\u001b[38;5;124m'\u001b[39m, df[\u001b[38;5;124m'\u001b[39m\u001b[38;5;124mY\u001b[39m\u001b[38;5;124m'\u001b[39m], unit\u001b[38;5;241m=\u001b[39m\u001b[38;5;124m'\u001b[39m\u001b[38;5;124mm\u001b[39m\u001b[38;5;124m'\u001b[39m)\n\u001b[1;32m      3\u001b[0m las\u001b[38;5;241m.\u001b[39madd_curve(\u001b[38;5;124m'\u001b[39m\u001b[38;5;124mZ\u001b[39m\u001b[38;5;124m'\u001b[39m, df[\u001b[38;5;124m'\u001b[39m\u001b[38;5;124mZ\u001b[39m\u001b[38;5;124m'\u001b[39m], unit\u001b[38;5;241m=\u001b[39m\u001b[38;5;124m'\u001b[39m\u001b[38;5;124mm\u001b[39m\u001b[38;5;124m'\u001b[39m)\n",
      "\u001b[0;31mAttributeError\u001b[0m: 'LASFile' object has no attribute 'add_curve'"
     ]
    }
   ],
   "source": [
    "las.add_curve('X', df['X'], unit='m')\n",
    "las.add_curve('Y', df['Y'], unit='m')\n",
    "las.add_curve('Z', df['Z'], unit='m')"
   ]
  },
  {
   "cell_type": "code",
   "execution_count": null,
   "id": "863ecf0f-abf7-4d64-88b4-b13dd5430710",
   "metadata": {},
   "outputs": [],
   "source": []
  }
 ],
 "metadata": {
  "kernelspec": {
   "display_name": "Python 3 (ipykernel)",
   "language": "python",
   "name": "python3"
  },
  "language_info": {
   "codemirror_mode": {
    "name": "ipython",
    "version": 3
   },
   "file_extension": ".py",
   "mimetype": "text/x-python",
   "name": "python",
   "nbconvert_exporter": "python",
   "pygments_lexer": "ipython3",
   "version": "3.11.4"
  }
 },
 "nbformat": 4,
 "nbformat_minor": 5
}
