{
 "cells": [
  {
   "cell_type": "code",
   "execution_count": 1,
   "metadata": {},
   "outputs": [],
   "source": [
    "import os\n",
    "import json\n",
    "import pdal\n",
    "import subprocess\n",
    "import glob\n",
    "from os.path import join, isdir"
   ]
  },
  {
   "attachments": {},
   "cell_type": "markdown",
   "metadata": {},
   "source": [
    "This code in the next cell will mergd all the laz files in a directory into one (merged_laz)"
   ]
  },
  {
   "cell_type": "code",
   "execution_count": 5,
   "metadata": {},
   "outputs": [
    {
     "name": "stdout",
     "output_type": "stream",
     "text": [
      "usage: pdal merge [options] files\n",
      "standard options:\n",
      "  --developer-debug  Enable developer debug (don't trap exceptions)\n",
      "  --label            A string to label the process with\n",
      "  --driver           Override reader driver\n",
      "  --help             Print help and exit\n",
      "options:\n",
      "  --files, -f  input/output files\n",
      "\n",
      "For more information, see the full documentation for PDAL at http://pdal.io/\n",
      "\n"
     ]
    },
    {
     "name": "stderr",
     "output_type": "stream",
     "text": [
      "PDAL: Must specify an input and output file.\n",
      "\n"
     ]
    },
    {
     "ename": "CalledProcessError",
     "evalue": "Command '['pdal', 'merge', 'Sites/RCEW/IS2_Data/RCEW-ICESat2-ATL03/merged.laz']' returned non-zero exit status 255.",
     "output_type": "error",
     "traceback": [
      "\u001b[0;31m---------------------------------------------------------------------------\u001b[0m",
      "\u001b[0;31mCalledProcessError\u001b[0m                        Traceback (most recent call last)",
      "Cell \u001b[0;32mIn[5], line 5\u001b[0m\n\u001b[1;32m      3\u001b[0m input_files \u001b[38;5;241m=\u001b[39m glob\u001b[38;5;241m.\u001b[39mglob(join(laz_dir, \u001b[38;5;124m'\u001b[39m\u001b[38;5;124m*.csv\u001b[39m\u001b[38;5;124m'\u001b[39m))\n\u001b[1;32m      4\u001b[0m merge_cmd \u001b[38;5;241m=\u001b[39m [\u001b[38;5;124m'\u001b[39m\u001b[38;5;124mpdal\u001b[39m\u001b[38;5;124m'\u001b[39m, \u001b[38;5;124m'\u001b[39m\u001b[38;5;124mmerge\u001b[39m\u001b[38;5;124m'\u001b[39m] \u001b[38;5;241m+\u001b[39m input_files \u001b[38;5;241m+\u001b[39m [join(laz_dir, out_fp)]\n\u001b[0;32m----> 5\u001b[0m \u001b[43msubprocess\u001b[49m\u001b[38;5;241;43m.\u001b[39;49m\u001b[43mrun\u001b[49m\u001b[43m(\u001b[49m\u001b[43mmerge_cmd\u001b[49m\u001b[43m,\u001b[49m\u001b[43m \u001b[49m\u001b[43mcheck\u001b[49m\u001b[38;5;241;43m=\u001b[39;49m\u001b[38;5;28;43;01mTrue\u001b[39;49;00m\u001b[43m)\u001b[49m\n",
      "File \u001b[0;32m~/opt/anaconda3/envs/sliderule_env/lib/python3.11/subprocess.py:571\u001b[0m, in \u001b[0;36mrun\u001b[0;34m(input, capture_output, timeout, check, *popenargs, **kwargs)\u001b[0m\n\u001b[1;32m    569\u001b[0m     retcode \u001b[38;5;241m=\u001b[39m process\u001b[38;5;241m.\u001b[39mpoll()\n\u001b[1;32m    570\u001b[0m     \u001b[38;5;28;01mif\u001b[39;00m check \u001b[38;5;129;01mand\u001b[39;00m retcode:\n\u001b[0;32m--> 571\u001b[0m         \u001b[38;5;28;01mraise\u001b[39;00m CalledProcessError(retcode, process\u001b[38;5;241m.\u001b[39margs,\n\u001b[1;32m    572\u001b[0m                                  output\u001b[38;5;241m=\u001b[39mstdout, stderr\u001b[38;5;241m=\u001b[39mstderr)\n\u001b[1;32m    573\u001b[0m \u001b[38;5;28;01mreturn\u001b[39;00m CompletedProcess(process\u001b[38;5;241m.\u001b[39margs, retcode, stdout, stderr)\n",
      "\u001b[0;31mCalledProcessError\u001b[0m: Command '['pdal', 'merge', 'Sites/RCEW/IS2_Data/RCEW-ICESat2-ATL03/merged.laz']' returned non-zero exit status 255."
     ]
    }
   ],
   "source": [
    "laz_dir = r\"Sites/RCEW/IS2_Data/\" #change to the laz folder\n",
    "out_fp = \"merged.laz\"\n",
    "input_files = glob.glob(join(laz_dir, '*.las'))\n",
    "merge_cmd = ['pdal', 'merge'] + input_files + [join(laz_dir, out_fp)]\n",
    "subprocess.run(merge_cmd, check=True)"
   ]
  },
  {
   "attachments": {},
   "cell_type": "markdown",
   "metadata": {},
   "source": [
    "The code in the next cell will perform ground segmentation on the merged laz file and rasterize"
   ]
  },
  {
   "cell_type": "code",
   "execution_count": 4,
   "metadata": {},
   "outputs": [
    {
     "data": {
      "text/plain": [
       "2550370"
      ]
     },
     "execution_count": 4,
     "metadata": {},
     "output_type": "execute_result"
    }
   ],
   "source": [
    "import json\n",
    "import pdal\n",
    "\n",
    "# Define the paths to the input LAZ file and the output ground LAZ file\n",
    "input_laz_file = 'merged.laz' \n",
    "output_ground_laz_file = 'ground.laz'\n",
    "\n",
    "# Define the JSON pipeline for filtering and processing\n",
    "grd_filter_json = '''\n",
    "{\n",
    "  \"pipeline\":[\n",
    "    {\n",
    "      \"type\":\"readers.las\",\n",
    "      \"filename\": \"%s\"\n",
    "    },\n",
    "    {\n",
    "      \"type\":\"filters.reprojection\",\n",
    "      \"out_srs\":\"EPSG:26911\"\n",
    "    },\n",
    "    {\n",
    "      \"type\":\"filters.assign\",\n",
    "      \"assignment\":\"Classification[:]=0\"\n",
    "    },\n",
    "    {\n",
    "      \"type\":\"filters.elm\"\n",
    "    },\n",
    "    {\n",
    "      \"type\":\"filters.outlier\"\n",
    "    },\n",
    "    {\n",
    "      \"type\":\"filters.smrf\",\n",
    "      \"ignore\":\"Classification[7:7]\",\n",
    "      \"slope\":0.2,\n",
    "      \"window\":16,\n",
    "      \"threshold\":0.45,\n",
    "      \"scalar\":1.2\n",
    "    },\n",
    "    {\n",
    "      \"type\":\"filters.range\",\n",
    "      \"limits\":\"Classification[2:2]\"\n",
    "    },\n",
    "    {\n",
    "      \"type\":\"writers.las\",\n",
    "      \"filename\": \"%s\"\n",
    "    }\n",
    "  ]\n",
    "}\n",
    "'''\n",
    "\n",
    "to_raster_json = '''\n",
    "{\n",
    "    \"pipeline\": [\n",
    "        \"%s\",\n",
    "        {\n",
    "            \"filename\": \"dem.tif\",\n",
    "            \"gdaldriver\": \"GTiff\",\n",
    "            \"output_type\": \"all\",\n",
    "            \"resolution\": \"1.0\",\n",
    "            \"type\": \"writers.gdal\"\n",
    "        }\n",
    "    ]\n",
    "}\n",
    "'''\n",
    "\n",
    "# Load the JSON pipeline configurations\n",
    "grd_filter_pipeline = json.loads(grd_filter_json % (input_laz_file, output_ground_laz_file))\n",
    "to_raster_pipeline = json.loads(to_raster_json % output_ground_laz_file)\n",
    "\n",
    "# Run the filtering pipeline\n",
    "grd_filter_pipeline = pdal.Pipeline(json.dumps(grd_filter_pipeline))\n",
    "grd_filter_pipeline.execute()\n",
    "\n",
    "# Run the raster conversion pipeline\n",
    "to_raster_pipeline[0] = output_ground_laz_file\n",
    "\n",
    "to_raster_pipeline = pdal.Pipeline(json.dumps(to_raster_pipeline))\n",
    "to_raster_pipeline.execute()\n"
   ]
  },
  {
   "cell_type": "code",
   "execution_count": null,
   "metadata": {},
   "outputs": [],
   "source": []
  }
 ],
 "metadata": {
  "kernelspec": {
   "display_name": "Python 3 (ipykernel)",
   "language": "python",
   "name": "python3"
  },
  "language_info": {
   "codemirror_mode": {
    "name": "ipython",
    "version": 3
   },
   "file_extension": ".py",
   "mimetype": "text/x-python",
   "name": "python",
   "nbconvert_exporter": "python",
   "pygments_lexer": "ipython3",
   "version": "3.11.4"
  }
 },
 "nbformat": 4,
 "nbformat_minor": 4
}
