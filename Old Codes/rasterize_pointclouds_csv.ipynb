{
 "cells": [
  {
   "cell_type": "code",
   "execution_count": null,
   "metadata": {},
   "outputs": [],
   "source": [
    "#uncomment if pdal is not already install \n",
    "#pip install pdal\n"
   ]
  },
  {
   "cell_type": "code",
   "execution_count": 1,
   "metadata": {},
   "outputs": [],
   "source": [
    "import os\n",
    "import glob\n",
    "import pdal\n"
   ]
  },
  {
   "cell_type": "code",
   "execution_count": 2,
   "metadata": {},
   "outputs": [],
   "source": [
    "def rasterize_ground_points(input_directory, output_path, resolution):\n",
    "    # Get a list of all csv files in the input directory\n",
    "    csv_files = glob.glob(os.path.join(input_directory, \"*.csv\"))\n",
    "\n",
    "    # Create the PDAL pipeline\n",
    "    pipeline = pdal.Pipeline()\n",
    "\n",
    "    # Set the input files as a merged view\n",
    "    pipeline.set_input(pdal.merge(*csv_files))\n",
    "\n",
    "    # Set the filters for ground segmentation and rasterization\n",
    "    pipeline.set_filters([\n",
    "\n",
    "        # Filters out points with 0 returns\n",
    "        {\"type\": \"filters.mongo\",\n",
    "        \"expression\": {\"$and\": [{\"ReturnNumber\": {\"$gt\": 0}},{\"NumberOfReturns\": {\"$gt\": 0}}]}\n",
    "        },\n",
    "\n",
    "        # Extended Local Minimum filter\n",
    "        {\"type\": \"filters.elm\"\n",
    "        },\n",
    "\n",
    "        # Outlier filter\n",
    "        {\"type\": \"filters.outlier\",\n",
    "        \"method\": \"statistical\",\n",
    "        \"mean_k\": 12,\n",
    "        \"multiplier\": 2.2},\n",
    "\n",
    "        # SMRF classifier for ground\n",
    "        {\n",
    "            \"type\": \"filters.smrf\",\n",
    "            \"ignore\": \"Classification[7:7], NumberOfReturns[0:0], ReturnNumber[0:0]\"\n",
    "        },\n",
    "        # Select ground points only\n",
    "        {\n",
    "            \"type\": \"filters.range\",\n",
    "            \"limits\": \"Classification[2:2]\"\n",
    "        },\n",
    "        # Write TIF file\n",
    "        {\n",
    "            \"type\": \"writers.gdal\",\n",
    "            \"filename\": output_path,\n",
    "            \"resolution\": resolution,\n",
    "            \"output_type\": \"idw\"\n",
    "        }\n",
    "    ])\n",
    "\n",
    "    # Execute the pipeline\n",
    "    pipeline.execute()\n"
   ]
  },
  {
   "cell_type": "code",
   "execution_count": 3,
   "metadata": {},
   "outputs": [
    {
     "ename": "AttributeError",
     "evalue": "'Pipeline' object has no attribute 'set_input'",
     "output_type": "error",
     "traceback": [
      "\u001b[0;31m---------------------------------------------------------------------------\u001b[0m",
      "\u001b[0;31mAttributeError\u001b[0m                            Traceback (most recent call last)",
      "Cell \u001b[0;32mIn[3], line 5\u001b[0m\n\u001b[1;32m      2\u001b[0m output_path \u001b[38;5;241m=\u001b[39m \u001b[38;5;124m\"\u001b[39m\u001b[38;5;124mSites/RCEW/IS2_Data/RCEW-ICESat2-ATL03.tif\u001b[39m\u001b[38;5;124m\"\u001b[39m \u001b[38;5;66;03m#resulting tif file\u001b[39;00m\n\u001b[1;32m      3\u001b[0m resolution \u001b[38;5;241m=\u001b[39m \u001b[38;5;241m1.0\u001b[39m  \u001b[38;5;66;03m# Adjust the resolution as needed\u001b[39;00m\n\u001b[0;32m----> 5\u001b[0m \u001b[43mrasterize_ground_points\u001b[49m\u001b[43m(\u001b[49m\u001b[43minput_directory\u001b[49m\u001b[43m,\u001b[49m\u001b[43m \u001b[49m\u001b[43moutput_path\u001b[49m\u001b[43m,\u001b[49m\u001b[43m \u001b[49m\u001b[43mresolution\u001b[49m\u001b[43m)\u001b[49m\n",
      "Cell \u001b[0;32mIn[2], line 9\u001b[0m, in \u001b[0;36mrasterize_ground_points\u001b[0;34m(input_directory, output_path, resolution)\u001b[0m\n\u001b[1;32m      6\u001b[0m pipeline \u001b[38;5;241m=\u001b[39m pdal\u001b[38;5;241m.\u001b[39mPipeline()\n\u001b[1;32m      8\u001b[0m \u001b[38;5;66;03m# Set the input files as a merged view\u001b[39;00m\n\u001b[0;32m----> 9\u001b[0m \u001b[43mpipeline\u001b[49m\u001b[38;5;241;43m.\u001b[39;49m\u001b[43mset_input\u001b[49m(pdal\u001b[38;5;241m.\u001b[39mmerge(\u001b[38;5;241m*\u001b[39mcsv_files))\n\u001b[1;32m     11\u001b[0m \u001b[38;5;66;03m# Set the filters for ground segmentation and rasterization\u001b[39;00m\n\u001b[1;32m     12\u001b[0m pipeline\u001b[38;5;241m.\u001b[39mset_filters([\n\u001b[1;32m     13\u001b[0m \n\u001b[1;32m     14\u001b[0m     \u001b[38;5;66;03m# Filters out points with 0 returns\u001b[39;00m\n\u001b[0;32m   (...)\u001b[0m\n\u001b[1;32m     45\u001b[0m     }\n\u001b[1;32m     46\u001b[0m ])\n",
      "\u001b[0;31mAttributeError\u001b[0m: 'Pipeline' object has no attribute 'set_input'"
     ]
    }
   ],
   "source": [
    "input_directory = \"Sites/RCEW/IS2_Data/\" #foler containing the laz files\n",
    "output_path = \"Sites/RCEW/IS2_Data/RCEW-ICESat2-ATL03.tif\" #resulting tif file\n",
    "resolution = 1.0  # Adjust the resolution as needed\n",
    "\n",
    "rasterize_ground_points(input_directory, output_path, resolution)\n"
   ]
  },
  {
   "cell_type": "code",
   "execution_count": null,
   "metadata": {},
   "outputs": [],
   "source": [
    "# Get a list of all csv files in the input directory\n",
    "csv_files = glob.glob(os.path.join(input_directory, \"*.csv\"))\n",
    "\n",
    "# Create the PDAL pipeline\n",
    "pipeline = pdal.Pipeline()\n",
    "\n",
    "    # Set the input files as a merged view\n",
    "pipeline.set_input(pdal.merge(*csv_files))"
   ]
  },
  {
   "cell_type": "code",
   "execution_count": null,
   "metadata": {},
   "outputs": [],
   "source": [
    "data = \"Sites/RCEW/IS2_Data/RCEW-ICESat2-ATL03.las\"\n",
    "\n",
    "pipeline = pdal.Reader.las(filename=data).pipeline()\n",
    "print(pipeline.execute())"
   ]
  },
  {
   "cell_type": "code",
   "execution_count": null,
   "metadata": {},
   "outputs": [],
   "source": []
  },
  {
   "cell_type": "code",
   "execution_count": null,
   "metadata": {},
   "outputs": [],
   "source": []
  }
 ],
 "metadata": {
  "kernelspec": {
   "display_name": "Python 3 (ipykernel)",
   "language": "python",
   "name": "python3"
  },
  "language_info": {
   "codemirror_mode": {
    "name": "ipython",
    "version": 3
   },
   "file_extension": ".py",
   "mimetype": "text/x-python",
   "name": "python",
   "nbconvert_exporter": "python",
   "pygments_lexer": "ipython3",
   "version": "3.11.4"
  }
 },
 "nbformat": 4,
 "nbformat_minor": 4
}
